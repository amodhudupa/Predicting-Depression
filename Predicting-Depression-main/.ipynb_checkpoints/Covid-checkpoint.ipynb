{
 "cells": [
  {
   "cell_type": "markdown",
   "metadata": {},
   "source": [
    "Data From:\n",
    "https://www.covid19survivalcalculator.com/en/download"
   ]
  },
  {
   "cell_type": "code",
   "execution_count": 1,
   "metadata": {
    "ExecuteTime": {
     "end_time": "2020-12-18T20:45:58.993952Z",
     "start_time": "2020-12-18T20:45:58.329956Z"
    }
   },
   "outputs": [
    {
     "name": "stderr",
     "output_type": "stream",
     "text": [
      "C:\\Users\\drudi\\Anaconda3\\envs\\learn-env\\lib\\site-packages\\numpy\\_distributor_init.py:32: UserWarning: loaded more than 1 DLL from .libs:\n",
      "C:\\Users\\drudi\\Anaconda3\\envs\\learn-env\\lib\\site-packages\\numpy\\.libs\\libopenblas.NOIJJG62EMASZI6NYURL6JBKM4EVBGM7.gfortran-win_amd64.dll\n",
      "C:\\Users\\drudi\\Anaconda3\\envs\\learn-env\\lib\\site-packages\\numpy\\.libs\\libopenblas.PYQHXLVVQ7VESDPUVUADXEVJOBGHJPAY.gfortran-win_amd64.dll\n",
      "  stacklevel=1)\n"
     ]
    }
   ],
   "source": [
    "import pandas as pd"
   ]
  },
  {
   "cell_type": "code",
   "execution_count": 2,
   "metadata": {
    "ExecuteTime": {
     "end_time": "2020-12-18T20:46:42.844833Z",
     "start_time": "2020-12-18T20:46:39.442173Z"
    }
   },
   "outputs": [
    {
     "name": "stderr",
     "output_type": "stream",
     "text": [
      "C:\\Users\\drudi\\Anaconda3\\envs\\learn-env\\lib\\site-packages\\IPython\\core\\interactiveshell.py:3063: DtypeWarning: Columns (8,9,12,13,14,15,36) have mixed types.Specify dtype option on import or set low_memory=False.\n",
      "  interactivity=interactivity, compiler=compiler, result=result)\n"
     ]
    }
   ],
   "source": [
    "df = pd.read_csv('master_dataset.csv')"
   ]
  },
  {
   "cell_type": "code",
   "execution_count": 3,
   "metadata": {
    "ExecuteTime": {
     "end_time": "2020-12-18T20:46:52.683997Z",
     "start_time": "2020-12-18T20:46:52.633884Z"
    }
   },
   "outputs": [
    {
     "data": {
      "text/html": [
       "<div>\n",
       "<style scoped>\n",
       "    .dataframe tbody tr th:only-of-type {\n",
       "        vertical-align: middle;\n",
       "    }\n",
       "\n",
       "    .dataframe tbody tr th {\n",
       "        vertical-align: top;\n",
       "    }\n",
       "\n",
       "    .dataframe thead th {\n",
       "        text-align: right;\n",
       "    }\n",
       "</style>\n",
       "<table border=\"1\" class=\"dataframe\">\n",
       "  <thead>\n",
       "    <tr style=\"text-align: right;\">\n",
       "      <th></th>\n",
       "      <th>survey_date</th>\n",
       "      <th>region</th>\n",
       "      <th>country</th>\n",
       "      <th>ip_latitude</th>\n",
       "      <th>ip_longitude</th>\n",
       "      <th>ip_accuracy</th>\n",
       "      <th>sex</th>\n",
       "      <th>age</th>\n",
       "      <th>height</th>\n",
       "      <th>weight</th>\n",
       "      <th>...</th>\n",
       "      <th>hiv_positive</th>\n",
       "      <th>hypertension</th>\n",
       "      <th>other_chronic</th>\n",
       "      <th>nursing_home</th>\n",
       "      <th>health_worker</th>\n",
       "      <th>prescription_medication</th>\n",
       "      <th>opinion_infection</th>\n",
       "      <th>opinion_mortality</th>\n",
       "      <th>risk_infection</th>\n",
       "      <th>risk_mortality</th>\n",
       "    </tr>\n",
       "  </thead>\n",
       "  <tbody>\n",
       "    <tr>\n",
       "      <th>2020-03-26</th>\n",
       "      <td>NaN</td>\n",
       "      <td>CA</td>\n",
       "      <td>43.6802</td>\n",
       "      <td>-79.3019</td>\n",
       "      <td>100.0</td>\n",
       "      <td>male</td>\n",
       "      <td>20_30</td>\n",
       "      <td>178</td>\n",
       "      <td>88</td>\n",
       "      <td>27.7</td>\n",
       "      <td>...</td>\n",
       "      <td>0</td>\n",
       "      <td>0</td>\n",
       "      <td>0</td>\n",
       "      <td>0</td>\n",
       "      <td>NaN</td>\n",
       "      <td>NaN</td>\n",
       "      <td>NaN</td>\n",
       "      <td>5.0</td>\n",
       "      <td>0.050</td>\n",
       "      <td>NaN</td>\n",
       "    </tr>\n",
       "    <tr>\n",
       "      <th>2020-03-26</th>\n",
       "      <td>NaN</td>\n",
       "      <td>CA</td>\n",
       "      <td>51.1237</td>\n",
       "      <td>-114.0472</td>\n",
       "      <td>5.0</td>\n",
       "      <td>female</td>\n",
       "      <td>30_40</td>\n",
       "      <td>158</td>\n",
       "      <td>54</td>\n",
       "      <td>21.6</td>\n",
       "      <td>...</td>\n",
       "      <td>0</td>\n",
       "      <td>0</td>\n",
       "      <td>0</td>\n",
       "      <td>0</td>\n",
       "      <td>NaN</td>\n",
       "      <td>NaN</td>\n",
       "      <td>NaN</td>\n",
       "      <td>5.0</td>\n",
       "      <td>0.050</td>\n",
       "      <td>NaN</td>\n",
       "    </tr>\n",
       "    <tr>\n",
       "      <th>2020-03-24</th>\n",
       "      <td>NaN</td>\n",
       "      <td>CA</td>\n",
       "      <td>43.2999</td>\n",
       "      <td>-79.8638</td>\n",
       "      <td>100.0</td>\n",
       "      <td>male</td>\n",
       "      <td>90_100</td>\n",
       "      <td>184</td>\n",
       "      <td>94</td>\n",
       "      <td>27.7</td>\n",
       "      <td>...</td>\n",
       "      <td>1</td>\n",
       "      <td>0</td>\n",
       "      <td>0</td>\n",
       "      <td>0</td>\n",
       "      <td>NaN</td>\n",
       "      <td>NaN</td>\n",
       "      <td>NaN</td>\n",
       "      <td>12.0</td>\n",
       "      <td>14.701</td>\n",
       "      <td>NaN</td>\n",
       "    </tr>\n",
       "    <tr>\n",
       "      <th>2020-03-24</th>\n",
       "      <td>NaN</td>\n",
       "      <td>CA</td>\n",
       "      <td>45.5458</td>\n",
       "      <td>-73.7780</td>\n",
       "      <td>5.0</td>\n",
       "      <td>male</td>\n",
       "      <td>60_70</td>\n",
       "      <td>172</td>\n",
       "      <td>96</td>\n",
       "      <td>32.4</td>\n",
       "      <td>...</td>\n",
       "      <td>1</td>\n",
       "      <td>0</td>\n",
       "      <td>0</td>\n",
       "      <td>0</td>\n",
       "      <td>NaN</td>\n",
       "      <td>NaN</td>\n",
       "      <td>NaN</td>\n",
       "      <td>6.0</td>\n",
       "      <td>2.250</td>\n",
       "      <td>NaN</td>\n",
       "    </tr>\n",
       "    <tr>\n",
       "      <th>2020-03-25</th>\n",
       "      <td>NaN</td>\n",
       "      <td>CA</td>\n",
       "      <td>49.3025</td>\n",
       "      <td>-122.9475</td>\n",
       "      <td>1.0</td>\n",
       "      <td>male</td>\n",
       "      <td>30_40</td>\n",
       "      <td>166</td>\n",
       "      <td>70</td>\n",
       "      <td>25.4</td>\n",
       "      <td>...</td>\n",
       "      <td>0</td>\n",
       "      <td>0</td>\n",
       "      <td>0</td>\n",
       "      <td>0</td>\n",
       "      <td>NaN</td>\n",
       "      <td>NaN</td>\n",
       "      <td>NaN</td>\n",
       "      <td>5.0</td>\n",
       "      <td>0.050</td>\n",
       "      <td>NaN</td>\n",
       "    </tr>\n",
       "  </tbody>\n",
       "</table>\n",
       "<p>5 rows × 60 columns</p>\n",
       "</div>"
      ],
      "text/plain": [
       "           survey_date region  country  ip_latitude  ip_longitude ip_accuracy  \\\n",
       "2020-03-26         NaN     CA  43.6802     -79.3019         100.0        male   \n",
       "2020-03-26         NaN     CA  51.1237    -114.0472           5.0      female   \n",
       "2020-03-24         NaN     CA  43.2999     -79.8638         100.0        male   \n",
       "2020-03-24         NaN     CA  45.5458     -73.7780           5.0        male   \n",
       "2020-03-25         NaN     CA  49.3025    -122.9475           1.0        male   \n",
       "\n",
       "               sex  age height  weight  ... hiv_positive hypertension  \\\n",
       "2020-03-26   20_30  178     88    27.7  ...            0            0   \n",
       "2020-03-26   30_40  158     54    21.6  ...            0            0   \n",
       "2020-03-24  90_100  184     94    27.7  ...            1            0   \n",
       "2020-03-24   60_70  172     96    32.4  ...            1            0   \n",
       "2020-03-25   30_40  166     70    25.4  ...            0            0   \n",
       "\n",
       "           other_chronic nursing_home health_worker prescription_medication  \\\n",
       "2020-03-26             0            0           NaN                     NaN   \n",
       "2020-03-26             0            0           NaN                     NaN   \n",
       "2020-03-24             0            0           NaN                     NaN   \n",
       "2020-03-24             0            0           NaN                     NaN   \n",
       "2020-03-25             0            0           NaN                     NaN   \n",
       "\n",
       "            opinion_infection  opinion_mortality  risk_infection  \\\n",
       "2020-03-26                NaN                5.0           0.050   \n",
       "2020-03-26                NaN                5.0           0.050   \n",
       "2020-03-24                NaN               12.0          14.701   \n",
       "2020-03-24                NaN                6.0           2.250   \n",
       "2020-03-25                NaN                5.0           0.050   \n",
       "\n",
       "            risk_mortality  \n",
       "2020-03-26             NaN  \n",
       "2020-03-26             NaN  \n",
       "2020-03-24             NaN  \n",
       "2020-03-24             NaN  \n",
       "2020-03-25             NaN  \n",
       "\n",
       "[5 rows x 60 columns]"
      ]
     },
     "execution_count": 3,
     "metadata": {},
     "output_type": "execute_result"
    }
   ],
   "source": [
    "df.head()"
   ]
  },
  {
   "cell_type": "code",
   "execution_count": 4,
   "metadata": {
    "ExecuteTime": {
     "end_time": "2020-12-18T20:47:02.714019Z",
     "start_time": "2020-12-18T20:47:02.085207Z"
    }
   },
   "outputs": [
    {
     "name": "stdout",
     "output_type": "stream",
     "text": [
      "<class 'pandas.core.frame.DataFrame'>\n",
      "Index: 1004793 entries, 2020-03-26 to 2020-04-06\n",
      "Data columns (total 60 columns):\n",
      " #   Column                                       Non-Null Count    Dtype  \n",
      "---  ------                                       --------------    -----  \n",
      " 0   survey_date                                  181426 non-null   object \n",
      " 1   region                                       1004672 non-null  object \n",
      " 2   country                                      1004793 non-null  float64\n",
      " 3   ip_latitude                                  1004793 non-null  float64\n",
      " 4   ip_longitude                                 1004773 non-null  float64\n",
      " 5   ip_accuracy                                  1004793 non-null  object \n",
      " 6   sex                                          1004788 non-null  object \n",
      " 7   age                                          1004793 non-null  object \n",
      " 8   height                                       1004793 non-null  object \n",
      " 9   weight                                       1004789 non-null  float64\n",
      " 10  bmi                                          1004793 non-null  object \n",
      " 11  blood_type                                   316050 non-null   object \n",
      " 12  insurance                                    316050 non-null   object \n",
      " 13  income                                       316050 non-null   object \n",
      " 14  race                                         316050 non-null   object \n",
      " 15  immigrant                                    1002936 non-null  object \n",
      " 16  smoking                                      1002896 non-null  float64\n",
      " 17  alcohol                                      735209 non-null   float64\n",
      " 18  cannabis                                     715023 non-null   float64\n",
      " 19  amphetamines                                 712821 non-null   float64\n",
      " 20  cocaine                                      717121 non-null   float64\n",
      " 21  lsd                                          721531 non-null   float64\n",
      " 22  mdma                                         1000546 non-null  float64\n",
      " 23  contacts_count                               1004771 non-null  float64\n",
      " 24  house_count                                  316050 non-null   float64\n",
      " 25  public_transport_count                       1000557 non-null  object \n",
      " 26  working                                      316050 non-null   float64\n",
      " 27  worried                                      1004793 non-null  int64  \n",
      " 28  rate_reducing_risk_single                    1004793 non-null  int64  \n",
      " 29  rate_reducing_risk_single_social_distancing  1004793 non-null  int64  \n",
      " 30  rate_reducing_risk_single_washing_hands      1004793 non-null  int64  \n",
      " 31  rate_reducing_risk_house                     1004793 non-null  int64  \n",
      " 32  rate_reducing_risk_house_social_distancing   1004793 non-null  int64  \n",
      " 33  rate_reducing_risk_house_washing_hands       1004793 non-null  int64  \n",
      " 34  rate_reducing_risk_single_sanitizer          1002936 non-null  float64\n",
      " 35  rate_reducing_mask                           280062 non-null   object \n",
      " 36  rate_reducing_mask_type                      1004793 non-null  int64  \n",
      " 37  rate_government_action                       1004793 non-null  int64  \n",
      " 38  rate_government_control                      1004793 non-null  int64  \n",
      " 39  rate_government_spend                        1004793 non-null  int64  \n",
      " 40  covid19_positive                             1004793 non-null  int64  \n",
      " 41  covid19_symptoms                             1004793 non-null  int64  \n",
      " 42  covid19_contact                              1004793 non-null  int64  \n",
      " 43  asthma                                       1004793 non-null  int64  \n",
      " 44  kidney_disease                               1004793 non-null  int64  \n",
      " 45  liver_disease                                1004793 non-null  int64  \n",
      " 46  compromised_immune                           1004793 non-null  int64  \n",
      " 47  heart_disease                                1004793 non-null  int64  \n",
      " 48  lung_disease                                 1004793 non-null  int64  \n",
      " 49  diabetes                                     1004793 non-null  int64  \n",
      " 50  hiv_positive                                 1004793 non-null  int64  \n",
      " 51  hypertension                                 1004793 non-null  int64  \n",
      " 52  other_chronic                                1004793 non-null  int64  \n",
      " 53  nursing_home                                 1004793 non-null  int64  \n",
      " 54  health_worker                                293082 non-null   object \n",
      " 55  prescription_medication                      819272 non-null   float64\n",
      " 56  opinion_infection                            819272 non-null   float64\n",
      " 57  opinion_mortality                            1004779 non-null  float64\n",
      " 58  risk_infection                               1004779 non-null  float64\n",
      " 59  risk_mortality                               0 non-null        float64\n",
      "dtypes: float64(20), int64(25), object(15)\n",
      "memory usage: 467.6+ MB\n"
     ]
    }
   ],
   "source": [
    "df.info()"
   ]
  },
  {
   "cell_type": "code",
   "execution_count": 6,
   "metadata": {
    "ExecuteTime": {
     "end_time": "2020-12-18T20:48:36.293668Z",
     "start_time": "2020-12-18T20:48:36.274682Z"
    }
   },
   "outputs": [
    {
     "data": {
      "text/plain": [
       "0    0.97816\n",
       "1    0.02184\n",
       "Name: covid19_positive, dtype: float64"
      ]
     },
     "execution_count": 6,
     "metadata": {},
     "output_type": "execute_result"
    }
   ],
   "source": [
    "df.covid19_positive.value_counts(1, dropna=False)"
   ]
  },
  {
   "cell_type": "code",
   "execution_count": null,
   "metadata": {},
   "outputs": [],
   "source": []
  }
 ],
 "metadata": {
  "kernelspec": {
   "display_name": "Python [conda env:learn-env] *",
   "language": "python",
   "name": "conda-env-learn-env-py"
  },
  "language_info": {
   "codemirror_mode": {
    "name": "ipython",
    "version": 3
   },
   "file_extension": ".py",
   "mimetype": "text/x-python",
   "name": "python",
   "nbconvert_exporter": "python",
   "pygments_lexer": "ipython3",
   "version": "3.6.11"
  },
  "toc": {
   "base_numbering": 1,
   "nav_menu": {},
   "number_sections": true,
   "sideBar": true,
   "skip_h1_title": false,
   "title_cell": "Table of Contents",
   "title_sidebar": "Contents",
   "toc_cell": false,
   "toc_position": {},
   "toc_section_display": true,
   "toc_window_display": true
  }
 },
 "nbformat": 4,
 "nbformat_minor": 4
}
