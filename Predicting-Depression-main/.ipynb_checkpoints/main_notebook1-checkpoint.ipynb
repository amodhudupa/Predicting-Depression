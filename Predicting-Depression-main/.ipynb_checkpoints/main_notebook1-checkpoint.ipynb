{
 "cells": [
  {
   "cell_type": "markdown",
   "metadata": {},
   "source": [
    "## Capstone Project Submission"
   ]
  },
  {
   "cell_type": "markdown",
   "metadata": {},
   "source": [
    "- Name: Vivienne DiFrancesco\n",
    "- Instructor: James Irving\n",
    "- Pace: Full Time\n"
   ]
  },
  {
   "cell_type": "markdown",
   "metadata": {},
   "source": [
    "# Introducion\n"
   ]
  },
  {
   "cell_type": "markdown",
   "metadata": {},
   "source": [
    "# Obtain"
   ]
  },
  {
   "cell_type": "code",
   "execution_count": null,
   "metadata": {
    "ExecuteTime": {
     "end_time": "2021-01-17T05:20:31.594772Z",
     "start_time": "2021-01-17T05:20:31.409769Z"
    }
   },
   "outputs": [],
   "source": [
    "import numpy as np\n",
    "np.random.seed(123)"
   ]
  },
  {
   "cell_type": "code",
   "execution_count": null,
   "metadata": {
    "ExecuteTime": {
     "end_time": "2021-01-17T05:20:34.427463Z",
     "start_time": "2021-01-17T05:20:31.597769Z"
    }
   },
   "outputs": [],
   "source": [
    "import pandas as pd\n",
    "import glob, os\n",
    "import matplotlib.pyplot as plt\n",
    "%matplotlib inline\n",
    "import seaborn as sns\n",
    "sns.set(style='whitegrid')\n",
    "import warnings\n",
    "warnings.filterwarnings('ignore')"
   ]
  },
  {
   "cell_type": "code",
   "execution_count": null,
   "metadata": {
    "ExecuteTime": {
     "end_time": "2021-01-17T05:20:34.433467Z",
     "start_time": "2021-01-17T05:20:34.429466Z"
    }
   },
   "outputs": [],
   "source": [
    "# Setting pandas to display max columns and rows\n",
    "pd.set_option('display.max_columns', 0)\n",
    "pd.set_option('display.max_rows', None)\n",
    "\n",
    "# Setting inf values to be nan\n",
    "pd.set_option('mode.use_inf_as_na', True)\n",
    "\n",
    "# Turning off scientific notation in pandas\n",
    "pd.set_option('display.float_format', lambda x: '%.3f' % x)"
   ]
  },
  {
   "cell_type": "code",
   "execution_count": null,
   "metadata": {
    "ExecuteTime": {
     "end_time": "2021-01-17T05:20:34.510463Z",
     "start_time": "2021-01-17T05:20:34.435466Z"
    }
   },
   "outputs": [],
   "source": [
    "%load_ext autoreload\n",
    "%autoreload 2"
   ]
  },
  {
   "cell_type": "code",
   "execution_count": null,
   "metadata": {
    "ExecuteTime": {
     "end_time": "2021-01-17T05:20:34.567466Z",
     "start_time": "2021-01-17T05:20:34.512465Z"
    }
   },
   "outputs": [],
   "source": [
    "import project_functions as pf\n",
    "import inspect\n",
    "from IPython.display import Markdown, display"
   ]
  },
  {
   "cell_type": "markdown",
   "metadata": {},
   "source": [
    "# Target"
   ]
  },
  {
   "cell_type": "code",
   "execution_count": null,
   "metadata": {
    "ExecuteTime": {
     "end_time": "2021-01-17T05:20:34.632487Z",
     "start_time": "2021-01-17T05:20:34.568464Z"
    }
   },
   "outputs": [],
   "source": [
    "func = inspect.getsource(pf.glob_concat)\n",
    "display(Markdown(\"```python\\n\"+func+\"\\n```\"))"
   ]
  },
  {
   "cell_type": "code",
   "execution_count": null,
   "metadata": {
    "ExecuteTime": {
     "end_time": "2021-01-17T05:20:34.788555Z",
     "start_time": "2021-01-17T05:20:34.634472Z"
    }
   },
   "outputs": [],
   "source": [
    "path = r'Data/Target'\n",
    "df_target = pf.glob_concat(path, '*.XPT')"
   ]
  },
  {
   "cell_type": "code",
   "execution_count": null,
   "metadata": {
    "ExecuteTime": {
     "end_time": "2021-01-17T05:20:34.847465Z",
     "start_time": "2021-01-17T05:20:34.792546Z"
    }
   },
   "outputs": [],
   "source": [
    "df_target.drop(columns=['DPQ100'], inplace=True)"
   ]
  },
  {
   "cell_type": "code",
   "execution_count": null,
   "metadata": {
    "ExecuteTime": {
     "end_time": "2021-01-17T05:20:34.923467Z",
     "start_time": "2021-01-17T05:20:34.849466Z"
    }
   },
   "outputs": [],
   "source": [
    "df_target.head()"
   ]
  },
  {
   "cell_type": "code",
   "execution_count": null,
   "metadata": {
    "ExecuteTime": {
     "end_time": "2021-01-17T05:20:34.986466Z",
     "start_time": "2021-01-17T05:20:34.925468Z"
    }
   },
   "outputs": [],
   "source": [
    "df_target.info()"
   ]
  },
  {
   "cell_type": "code",
   "execution_count": null,
   "metadata": {
    "ExecuteTime": {
     "end_time": "2021-01-17T05:20:35.049556Z",
     "start_time": "2021-01-17T05:20:34.987563Z"
    }
   },
   "outputs": [],
   "source": [
    "df_target.isna().sum()"
   ]
  },
  {
   "cell_type": "code",
   "execution_count": null,
   "metadata": {
    "ExecuteTime": {
     "end_time": "2021-01-17T05:20:35.511526Z",
     "start_time": "2021-01-17T05:20:35.050580Z"
    }
   },
   "outputs": [],
   "source": [
    "import missingno as ms\n",
    "ms.matrix(df_target);"
   ]
  },
  {
   "cell_type": "code",
   "execution_count": null,
   "metadata": {
    "ExecuteTime": {
     "end_time": "2021-01-17T05:20:35.576597Z",
     "start_time": "2021-01-17T05:20:35.513498Z"
    }
   },
   "outputs": [],
   "source": [
    "df_target.dropna(inplace=True)"
   ]
  },
  {
   "cell_type": "code",
   "execution_count": null,
   "metadata": {
    "ExecuteTime": {
     "end_time": "2021-01-17T05:20:35.649513Z",
     "start_time": "2021-01-17T05:20:35.577467Z"
    }
   },
   "outputs": [],
   "source": [
    "df_target.info()"
   ]
  },
  {
   "cell_type": "code",
   "execution_count": null,
   "metadata": {
    "ExecuteTime": {
     "end_time": "2021-01-17T05:20:35.719468Z",
     "start_time": "2021-01-17T05:20:35.651467Z"
    }
   },
   "outputs": [],
   "source": [
    "df_target.head()"
   ]
  },
  {
   "cell_type": "code",
   "execution_count": null,
   "metadata": {
    "ExecuteTime": {
     "end_time": "2021-01-17T05:20:35.779505Z",
     "start_time": "2021-01-17T05:20:35.721467Z"
    }
   },
   "outputs": [],
   "source": [
    "func = inspect.getsource(pf.val_counts)\n",
    "display(Markdown(\"```python\\n\"+func+\"\\n```\"))"
   ]
  },
  {
   "cell_type": "code",
   "execution_count": null,
   "metadata": {
    "ExecuteTime": {
     "end_time": "2021-01-17T05:20:35.876545Z",
     "start_time": "2021-01-17T05:20:35.781465Z"
    }
   },
   "outputs": [],
   "source": [
    "pf.val_counts(df_target)"
   ]
  },
  {
   "cell_type": "code",
   "execution_count": null,
   "metadata": {
    "ExecuteTime": {
     "end_time": "2021-01-17T05:20:35.939568Z",
     "start_time": "2021-01-17T05:20:35.878486Z"
    }
   },
   "outputs": [],
   "source": [
    "df_target = df_target[(df_target != 7) & (df_target != 9)]"
   ]
  },
  {
   "cell_type": "code",
   "execution_count": null,
   "metadata": {
    "ExecuteTime": {
     "end_time": "2021-01-17T05:20:36.007467Z",
     "start_time": "2021-01-17T05:20:35.940466Z"
    }
   },
   "outputs": [],
   "source": [
    "df_target.head()"
   ]
  },
  {
   "cell_type": "code",
   "execution_count": null,
   "metadata": {
    "ExecuteTime": {
     "end_time": "2021-01-17T05:20:36.115546Z",
     "start_time": "2021-01-17T05:20:36.009466Z"
    },
    "scrolled": true
   },
   "outputs": [],
   "source": [
    "pf.val_counts(df_target)"
   ]
  },
  {
   "cell_type": "code",
   "execution_count": null,
   "metadata": {
    "ExecuteTime": {
     "end_time": "2021-01-17T05:20:36.178465Z",
     "start_time": "2021-01-17T05:20:36.117473Z"
    }
   },
   "outputs": [],
   "source": [
    "df_target.info()"
   ]
  },
  {
   "cell_type": "code",
   "execution_count": null,
   "metadata": {
    "ExecuteTime": {
     "end_time": "2021-01-17T05:20:36.237549Z",
     "start_time": "2021-01-17T05:20:36.180470Z"
    }
   },
   "outputs": [],
   "source": [
    "df_target.isna().sum()"
   ]
  },
  {
   "cell_type": "code",
   "execution_count": null,
   "metadata": {
    "ExecuteTime": {
     "end_time": "2021-01-17T05:20:36.615469Z",
     "start_time": "2021-01-17T05:20:36.242545Z"
    }
   },
   "outputs": [],
   "source": [
    "ms.matrix(df_target);"
   ]
  },
  {
   "cell_type": "code",
   "execution_count": null,
   "metadata": {
    "ExecuteTime": {
     "end_time": "2021-01-17T05:20:36.689463Z",
     "start_time": "2021-01-17T05:20:36.621471Z"
    }
   },
   "outputs": [],
   "source": [
    "df_target.dropna(inplace=True)"
   ]
  },
  {
   "cell_type": "code",
   "execution_count": null,
   "metadata": {
    "ExecuteTime": {
     "end_time": "2021-01-17T05:20:36.751464Z",
     "start_time": "2021-01-17T05:20:36.691467Z"
    }
   },
   "outputs": [],
   "source": [
    "df_target.info()"
   ]
  },
  {
   "cell_type": "code",
   "execution_count": null,
   "metadata": {
    "ExecuteTime": {
     "end_time": "2021-01-17T05:20:36.808465Z",
     "start_time": "2021-01-17T05:20:36.753467Z"
    }
   },
   "outputs": [],
   "source": [
    "df_target = df_target.astype('int64')"
   ]
  },
  {
   "cell_type": "code",
   "execution_count": null,
   "metadata": {
    "ExecuteTime": {
     "end_time": "2021-01-17T05:20:36.886490Z",
     "start_time": "2021-01-17T05:20:36.810465Z"
    }
   },
   "outputs": [],
   "source": [
    "df_target.head()"
   ]
  },
  {
   "cell_type": "code",
   "execution_count": null,
   "metadata": {
    "ExecuteTime": {
     "end_time": "2021-01-17T05:20:36.943485Z",
     "start_time": "2021-01-17T05:20:36.888466Z"
    }
   },
   "outputs": [],
   "source": [
    "df_target['Total'] = df_target.sum(axis=1)"
   ]
  },
  {
   "cell_type": "code",
   "execution_count": null,
   "metadata": {
    "ExecuteTime": {
     "end_time": "2021-01-17T05:20:37.016487Z",
     "start_time": "2021-01-17T05:20:36.945466Z"
    }
   },
   "outputs": [],
   "source": [
    "df_target.head()"
   ]
  },
  {
   "cell_type": "code",
   "execution_count": null,
   "metadata": {
    "ExecuteTime": {
     "end_time": "2021-01-17T05:20:37.080484Z",
     "start_time": "2021-01-17T05:20:37.018465Z"
    }
   },
   "outputs": [],
   "source": [
    "df_target.Total.value_counts(1)"
   ]
  },
  {
   "cell_type": "code",
   "execution_count": null,
   "metadata": {
    "ExecuteTime": {
     "end_time": "2021-01-17T05:20:37.142554Z",
     "start_time": "2021-01-17T05:20:37.082467Z"
    }
   },
   "outputs": [],
   "source": [
    "df_target['depression'] = df_target.Total.apply(lambda x: 'Not Depressed' if x<10 else 'Depressed')"
   ]
  },
  {
   "cell_type": "code",
   "execution_count": null,
   "metadata": {
    "ExecuteTime": {
     "end_time": "2021-01-17T05:20:37.204483Z",
     "start_time": "2021-01-17T05:20:37.144465Z"
    }
   },
   "outputs": [],
   "source": [
    "df_target.depression.value_counts(1)"
   ]
  },
  {
   "cell_type": "code",
   "execution_count": null,
   "metadata": {
    "ExecuteTime": {
     "end_time": "2021-01-17T05:20:37.267466Z",
     "start_time": "2021-01-17T05:20:37.206487Z"
    }
   },
   "outputs": [],
   "source": [
    "target_clean = pd.DataFrame(df_target['depression'])\n",
    "target_clean.head()"
   ]
  },
  {
   "cell_type": "code",
   "execution_count": null,
   "metadata": {
    "ExecuteTime": {
     "end_time": "2021-01-17T05:20:37.329470Z",
     "start_time": "2021-01-17T05:20:37.269466Z"
    }
   },
   "outputs": [],
   "source": [
    "target_clean.info()"
   ]
  },
  {
   "cell_type": "code",
   "execution_count": null,
   "metadata": {
    "ExecuteTime": {
     "end_time": "2021-01-17T05:20:37.397468Z",
     "start_time": "2021-01-17T05:20:37.331465Z"
    }
   },
   "outputs": [],
   "source": [
    "target_clean.depression.value_counts(1)"
   ]
  },
  {
   "cell_type": "markdown",
   "metadata": {},
   "source": [
    "# Demographic Data"
   ]
  },
  {
   "cell_type": "code",
   "execution_count": null,
   "metadata": {
    "ExecuteTime": {
     "end_time": "2021-01-17T05:20:38.256464Z",
     "start_time": "2021-01-17T05:20:37.399466Z"
    }
   },
   "outputs": [],
   "source": [
    "path = r'Data/Demographics'\n",
    "df_demo = pf.glob_concat(path, '*.XPT')"
   ]
  },
  {
   "cell_type": "code",
   "execution_count": null,
   "metadata": {
    "ExecuteTime": {
     "end_time": "2021-01-17T05:20:38.452547Z",
     "start_time": "2021-01-17T05:20:38.259464Z"
    }
   },
   "outputs": [],
   "source": [
    "df_demo.head()"
   ]
  },
  {
   "cell_type": "code",
   "execution_count": null,
   "metadata": {
    "ExecuteTime": {
     "end_time": "2021-01-17T05:20:38.697468Z",
     "start_time": "2021-01-17T05:20:38.455468Z"
    },
    "scrolled": true
   },
   "outputs": [],
   "source": [
    "df_demo.info()"
   ]
  },
  {
   "cell_type": "code",
   "execution_count": null,
   "metadata": {
    "ExecuteTime": {
     "end_time": "2021-01-17T05:20:38.808570Z",
     "start_time": "2021-01-17T05:20:38.700469Z"
    }
   },
   "outputs": [],
   "source": [
    "df_demo.columns.sort_values()"
   ]
  },
  {
   "cell_type": "code",
   "execution_count": null,
   "metadata": {
    "ExecuteTime": {
     "end_time": "2021-01-17T05:20:38.923470Z",
     "start_time": "2021-01-17T05:20:38.812472Z"
    }
   },
   "outputs": [],
   "source": [
    "demo_tokeep = ['DMDBORN', 'DMDBORN2', 'DMDBORN4', 'DMDCITZN', 'DMDEDUC2', \n",
    "               'DMDHHSIZ', 'DMDMARTL', 'DMQMILIT', 'DMQMILIZ', 'INDHHIN2', \n",
    "               'INDHHINC', 'RIAGENDR', 'RIDAGEYR', 'RIDEXPRG', 'RIDRETH1']"
   ]
  },
  {
   "cell_type": "code",
   "execution_count": null,
   "metadata": {
    "ExecuteTime": {
     "end_time": "2021-01-17T05:20:39.060566Z",
     "start_time": "2021-01-17T05:20:38.926468Z"
    }
   },
   "outputs": [],
   "source": [
    "func = inspect.getsource(pf.cols_tokeep)\n",
    "display(Markdown(\"```python\\n\"+func+\"\\n```\"))"
   ]
  },
  {
   "cell_type": "code",
   "execution_count": null,
   "metadata": {
    "ExecuteTime": {
     "end_time": "2021-01-17T05:20:40.598201Z",
     "start_time": "2021-01-17T05:20:39.064477Z"
    }
   },
   "outputs": [],
   "source": [
    "demo_clean = pf.cols_tokeep(df_demo, demo_tokeep)"
   ]
  },
  {
   "cell_type": "code",
   "execution_count": null,
   "metadata": {
    "ExecuteTime": {
     "end_time": "2021-01-17T05:20:40.782275Z",
     "start_time": "2021-01-17T05:20:40.602301Z"
    }
   },
   "outputs": [],
   "source": [
    "demo_clean.head()"
   ]
  },
  {
   "cell_type": "code",
   "execution_count": null,
   "metadata": {
    "ExecuteTime": {
     "end_time": "2021-01-17T05:20:40.923293Z",
     "start_time": "2021-01-17T05:20:40.786207Z"
    }
   },
   "outputs": [],
   "source": [
    "demo_clean.info()"
   ]
  },
  {
   "cell_type": "code",
   "execution_count": null,
   "metadata": {
    "ExecuteTime": {
     "end_time": "2021-01-17T05:20:41.049207Z",
     "start_time": "2021-01-17T05:20:40.927205Z"
    }
   },
   "outputs": [],
   "source": [
    "demo_clean.columns.sort_values()"
   ]
  },
  {
   "cell_type": "markdown",
   "metadata": {},
   "source": [
    "## Birth Place"
   ]
  },
  {
   "cell_type": "code",
   "execution_count": null,
   "metadata": {
    "ExecuteTime": {
     "end_time": "2021-01-17T05:20:41.172200Z",
     "start_time": "2021-01-17T05:20:41.053204Z"
    }
   },
   "outputs": [],
   "source": [
    "demo_clean.DMDBORN.value_counts(dropna=False)"
   ]
  },
  {
   "cell_type": "code",
   "execution_count": null,
   "metadata": {
    "ExecuteTime": {
     "end_time": "2021-01-17T05:20:41.305208Z",
     "start_time": "2021-01-17T05:20:41.175202Z"
    }
   },
   "outputs": [],
   "source": [
    "demo_clean.DMDBORN2.value_counts(dropna=False)"
   ]
  },
  {
   "cell_type": "code",
   "execution_count": null,
   "metadata": {
    "ExecuteTime": {
     "end_time": "2021-01-17T05:20:41.419210Z",
     "start_time": "2021-01-17T05:20:41.308209Z"
    }
   },
   "outputs": [],
   "source": [
    "demo_clean.DMDBORN4.value_counts(dropna=False)"
   ]
  },
  {
   "cell_type": "code",
   "execution_count": null,
   "metadata": {
    "ExecuteTime": {
     "end_time": "2021-01-17T05:20:41.543207Z",
     "start_time": "2021-01-17T05:20:41.423290Z"
    }
   },
   "outputs": [],
   "source": [
    "demo_clean.DMDBORN.fillna(0, inplace=True)\n",
    "demo_clean.DMDBORN2.fillna(0, inplace=True)\n",
    "demo_clean.DMDBORN4.fillna(0, inplace=True)"
   ]
  },
  {
   "cell_type": "code",
   "execution_count": null,
   "metadata": {
    "ExecuteTime": {
     "end_time": "2021-01-17T05:20:41.664201Z",
     "start_time": "2021-01-17T05:20:41.547204Z"
    }
   },
   "outputs": [],
   "source": [
    "demo_clean['birth_place'] = demo_clean['DMDBORN'] + demo_clean['DMDBORN2'] + demo_clean['DMDBORN4']"
   ]
  },
  {
   "cell_type": "code",
   "execution_count": null,
   "metadata": {
    "ExecuteTime": {
     "end_time": "2021-01-17T05:20:41.821283Z",
     "start_time": "2021-01-17T05:20:41.667202Z"
    }
   },
   "outputs": [],
   "source": [
    "demo_clean.head()"
   ]
  },
  {
   "cell_type": "code",
   "execution_count": null,
   "metadata": {
    "ExecuteTime": {
     "end_time": "2021-01-17T05:20:41.952203Z",
     "start_time": "2021-01-17T05:20:41.825252Z"
    }
   },
   "outputs": [],
   "source": [
    "demo_clean.birth_place.value_counts(dropna=False)"
   ]
  },
  {
   "cell_type": "code",
   "execution_count": null,
   "metadata": {
    "ExecuteTime": {
     "end_time": "2021-01-17T05:20:42.096250Z",
     "start_time": "2021-01-17T05:20:41.955202Z"
    }
   },
   "outputs": [],
   "source": [
    "demo_clean.drop(columns=['DMDBORN', 'DMDBORN2', 'DMDBORN4'], inplace=True)"
   ]
  },
  {
   "cell_type": "code",
   "execution_count": null,
   "metadata": {
    "ExecuteTime": {
     "end_time": "2021-01-17T05:20:42.231208Z",
     "start_time": "2021-01-17T05:20:42.100202Z"
    }
   },
   "outputs": [],
   "source": [
    "demo_clean.info()"
   ]
  },
  {
   "cell_type": "markdown",
   "metadata": {},
   "source": [
    "## Veteran"
   ]
  },
  {
   "cell_type": "code",
   "execution_count": null,
   "metadata": {
    "ExecuteTime": {
     "end_time": "2021-01-17T05:20:42.354202Z",
     "start_time": "2021-01-17T05:20:42.234200Z"
    }
   },
   "outputs": [],
   "source": [
    "demo_clean.DMQMILIT.value_counts(dropna=False)"
   ]
  },
  {
   "cell_type": "code",
   "execution_count": null,
   "metadata": {
    "ExecuteTime": {
     "end_time": "2021-01-17T05:20:42.488297Z",
     "start_time": "2021-01-17T05:20:42.357202Z"
    }
   },
   "outputs": [],
   "source": [
    "demo_clean.DMQMILIZ.value_counts(dropna=False)"
   ]
  },
  {
   "cell_type": "code",
   "execution_count": null,
   "metadata": {
    "ExecuteTime": {
     "end_time": "2021-01-17T05:20:42.603309Z",
     "start_time": "2021-01-17T05:20:42.492311Z"
    }
   },
   "outputs": [],
   "source": [
    "demo_clean.DMQMILIT.fillna(0, inplace=True)\n",
    "demo_clean.DMQMILIZ.fillna(0, inplace=True)"
   ]
  },
  {
   "cell_type": "code",
   "execution_count": null,
   "metadata": {
    "ExecuteTime": {
     "end_time": "2021-01-17T05:20:42.722210Z",
     "start_time": "2021-01-17T05:20:42.607203Z"
    }
   },
   "outputs": [],
   "source": [
    "demo_clean['veteran'] = demo_clean['DMQMILIT'] + demo_clean['DMQMILIZ']"
   ]
  },
  {
   "cell_type": "code",
   "execution_count": null,
   "metadata": {
    "ExecuteTime": {
     "end_time": "2021-01-17T05:20:42.854290Z",
     "start_time": "2021-01-17T05:20:42.726201Z"
    }
   },
   "outputs": [],
   "source": [
    "demo_clean.veteran.value_counts(dropna=False)"
   ]
  },
  {
   "cell_type": "code",
   "execution_count": null,
   "metadata": {
    "ExecuteTime": {
     "end_time": "2021-01-17T05:20:42.987289Z",
     "start_time": "2021-01-17T05:20:42.857209Z"
    }
   },
   "outputs": [],
   "source": [
    "demo_clean.drop(columns=['DMQMILIT', 'DMQMILIZ'], inplace=True)"
   ]
  },
  {
   "cell_type": "code",
   "execution_count": null,
   "metadata": {
    "ExecuteTime": {
     "end_time": "2021-01-17T05:20:43.118277Z",
     "start_time": "2021-01-17T05:20:42.990203Z"
    }
   },
   "outputs": [],
   "source": [
    "demo_clean.info()"
   ]
  },
  {
   "cell_type": "markdown",
   "metadata": {},
   "source": [
    "## Household Income"
   ]
  },
  {
   "cell_type": "code",
   "execution_count": null,
   "metadata": {
    "ExecuteTime": {
     "end_time": "2021-01-17T05:20:43.236292Z",
     "start_time": "2021-01-17T05:20:43.121292Z"
    }
   },
   "outputs": [],
   "source": [
    "demo_clean.INDHHINC.value_counts(dropna=False)"
   ]
  },
  {
   "cell_type": "code",
   "execution_count": null,
   "metadata": {
    "ExecuteTime": {
     "end_time": "2021-01-17T05:20:43.362294Z",
     "start_time": "2021-01-17T05:20:43.239203Z"
    }
   },
   "outputs": [],
   "source": [
    "demo_clean.INDHHIN2.value_counts(dropna=False)"
   ]
  },
  {
   "cell_type": "code",
   "execution_count": null,
   "metadata": {
    "ExecuteTime": {
     "end_time": "2021-01-17T05:20:43.486303Z",
     "start_time": "2021-01-17T05:20:43.366204Z"
    }
   },
   "outputs": [],
   "source": [
    "demo_clean.INDHHINC.fillna(0, inplace=True)\n",
    "demo_clean.INDHHIN2.fillna(0, inplace=True)"
   ]
  },
  {
   "cell_type": "code",
   "execution_count": null,
   "metadata": {
    "ExecuteTime": {
     "end_time": "2021-01-17T05:20:43.605264Z",
     "start_time": "2021-01-17T05:20:43.490294Z"
    }
   },
   "outputs": [],
   "source": [
    "demo_clean['household_income'] = demo_clean['INDHHINC'] + demo_clean['INDHHIN2']"
   ]
  },
  {
   "cell_type": "code",
   "execution_count": null,
   "metadata": {
    "ExecuteTime": {
     "end_time": "2021-01-17T05:20:43.749311Z",
     "start_time": "2021-01-17T05:20:43.609204Z"
    }
   },
   "outputs": [],
   "source": [
    "demo_clean.household_income.value_counts(dropna=False)"
   ]
  },
  {
   "cell_type": "code",
   "execution_count": null,
   "metadata": {
    "ExecuteTime": {
     "end_time": "2021-01-17T05:20:43.915203Z",
     "start_time": "2021-01-17T05:20:43.754211Z"
    }
   },
   "outputs": [],
   "source": [
    "demo_clean.drop(columns=['INDHHINC', 'INDHHIN2'], inplace=True)"
   ]
  },
  {
   "cell_type": "code",
   "execution_count": null,
   "metadata": {
    "ExecuteTime": {
     "end_time": "2021-01-17T05:20:44.085202Z",
     "start_time": "2021-01-17T05:20:43.937202Z"
    }
   },
   "outputs": [],
   "source": [
    "demo_clean.info()"
   ]
  },
  {
   "cell_type": "markdown",
   "metadata": {},
   "source": [
    "## Renaming Columns"
   ]
  },
  {
   "cell_type": "code",
   "execution_count": null,
   "metadata": {
    "ExecuteTime": {
     "end_time": "2021-01-17T05:20:44.228206Z",
     "start_time": "2021-01-17T05:20:44.097201Z"
    }
   },
   "outputs": [],
   "source": [
    "demo_clean.rename(columns={'DMDCITZN': 'citizenship', \n",
    "                           'DMDEDUC2': 'education_level', \n",
    "                           'DMDHHSIZ': 'household_size', \n",
    "                           'DMDMARTL': 'marital_status', \n",
    "                           'RIAGENDR': 'gender', \n",
    "                           'RIDAGEYR': 'age', \n",
    "                           'RIDEXPRG': 'pregnant',\n",
    "                           'RIDRETH1': 'race'}, inplace=True)"
   ]
  },
  {
   "cell_type": "code",
   "execution_count": null,
   "metadata": {
    "ExecuteTime": {
     "end_time": "2021-01-17T05:20:44.380208Z",
     "start_time": "2021-01-17T05:20:44.233208Z"
    }
   },
   "outputs": [],
   "source": [
    "demo_clean.info()"
   ]
  },
  {
   "cell_type": "markdown",
   "metadata": {},
   "source": [
    "## Clean Column Values"
   ]
  },
  {
   "cell_type": "code",
   "execution_count": null,
   "metadata": {
    "ExecuteTime": {
     "end_time": "2021-01-17T05:20:45.429536Z",
     "start_time": "2021-01-17T05:20:44.385209Z"
    }
   },
   "outputs": [],
   "source": [
    "ms.matrix(demo_clean);"
   ]
  },
  {
   "cell_type": "code",
   "execution_count": null,
   "metadata": {
    "ExecuteTime": {
     "end_time": "2021-01-17T05:20:45.630602Z",
     "start_time": "2021-01-17T05:20:45.432511Z"
    }
   },
   "outputs": [],
   "source": [
    "pf.val_counts(demo_clean)"
   ]
  },
  {
   "cell_type": "code",
   "execution_count": null,
   "metadata": {
    "ExecuteTime": {
     "end_time": "2021-01-17T05:20:45.758642Z",
     "start_time": "2021-01-17T05:20:45.634565Z"
    }
   },
   "outputs": [],
   "source": [
    "demo_clean['gender'].replace({2.000:1, 1.000:0}, inplace=True)\n",
    "demo_clean['gender'] = demo_clean['gender'].astype('int64')"
   ]
  },
  {
   "cell_type": "code",
   "execution_count": null,
   "metadata": {
    "ExecuteTime": {
     "end_time": "2021-01-17T05:20:45.880561Z",
     "start_time": "2021-01-17T05:20:45.761562Z"
    }
   },
   "outputs": [],
   "source": [
    "demo_clean.gender.value_counts()"
   ]
  },
  {
   "cell_type": "code",
   "execution_count": null,
   "metadata": {
    "ExecuteTime": {
     "end_time": "2021-01-17T05:20:46.001643Z",
     "start_time": "2021-01-17T05:20:45.883560Z"
    }
   },
   "outputs": [],
   "source": [
    "demo_clean['age'] = demo_clean['age'].astype('int64')"
   ]
  },
  {
   "cell_type": "code",
   "execution_count": null,
   "metadata": {
    "ExecuteTime": {
     "end_time": "2021-01-17T05:20:46.132600Z",
     "start_time": "2021-01-17T05:20:46.004560Z"
    }
   },
   "outputs": [],
   "source": [
    "demo_clean['race'].replace({1.000:'Mexican', \n",
    "                            2.000:'Other Hispanic', \n",
    "                            3.000:'White', \n",
    "                            4.000:'Black', \n",
    "                            5.000:'Other and Multiracial'}, \n",
    "                           inplace=True)"
   ]
  },
  {
   "cell_type": "code",
   "execution_count": null,
   "metadata": {
    "ExecuteTime": {
     "end_time": "2021-01-17T05:20:46.262643Z",
     "start_time": "2021-01-17T05:20:46.135563Z"
    }
   },
   "outputs": [],
   "source": [
    "demo_clean.race.value_counts()"
   ]
  },
  {
   "cell_type": "code",
   "execution_count": null,
   "metadata": {
    "ExecuteTime": {
     "end_time": "2021-01-17T05:20:46.398649Z",
     "start_time": "2021-01-17T05:20:46.266563Z"
    }
   },
   "outputs": [],
   "source": [
    "demo_clean['citizenship'].replace({1.000:'Citizen', \n",
    "                                   2.000:'Not Citizen', \n",
    "                                   7.000:'Missing', \n",
    "                                   9.000:'Missing'}, \n",
    "                                  inplace=True)\n",
    "demo_clean['citizenship'].fillna('Missing', inplace=True)"
   ]
  },
  {
   "cell_type": "code",
   "execution_count": null,
   "metadata": {
    "ExecuteTime": {
     "end_time": "2021-01-17T05:20:46.527564Z",
     "start_time": "2021-01-17T05:20:46.401562Z"
    }
   },
   "outputs": [],
   "source": [
    "demo_clean.citizenship.value_counts(dropna=False)"
   ]
  },
  {
   "cell_type": "code",
   "execution_count": null,
   "metadata": {
    "ExecuteTime": {
     "end_time": "2021-01-17T05:20:46.701561Z",
     "start_time": "2021-01-17T05:20:46.531560Z"
    }
   },
   "outputs": [],
   "source": [
    "demo_clean['education_level'].replace({1.000:'Below 9th', \n",
    "                                       2.000:'9th to 11th', \n",
    "                                       3.000:'High School', \n",
    "                                       4.000:'Some College', \n",
    "                                       5.000:'College Graduate', \n",
    "                                       7.000:'Missing', \n",
    "                                       9.000:'Missing'}, \n",
    "                                      inplace=True)\n",
    "demo_clean['education_level'].fillna('Missing', inplace=True)"
   ]
  },
  {
   "cell_type": "code",
   "execution_count": null,
   "metadata": {
    "ExecuteTime": {
     "end_time": "2021-01-17T05:20:46.860563Z",
     "start_time": "2021-01-17T05:20:46.705566Z"
    }
   },
   "outputs": [],
   "source": [
    "demo_clean.education_level.value_counts(dropna=False)"
   ]
  },
  {
   "cell_type": "code",
   "execution_count": null,
   "metadata": {
    "ExecuteTime": {
     "end_time": "2021-01-17T05:20:47.030566Z",
     "start_time": "2021-01-17T05:20:46.864578Z"
    }
   },
   "outputs": [],
   "source": [
    "demo_clean['marital_status'].replace({1.000:'Married', \n",
    "                                      2.000:'Widowed', \n",
    "                                      3.000:'Divorced', \n",
    "                                      4.000:'Separated', \n",
    "                                      5.000:'Never Married',\n",
    "                                      6.000:'Partner',\n",
    "                                      77.000:'Missing', \n",
    "                                      99.000:'Missing'}, \n",
    "                                      inplace=True)\n",
    "demo_clean['marital_status'].fillna('Missing', inplace=True)"
   ]
  },
  {
   "cell_type": "code",
   "execution_count": null,
   "metadata": {
    "ExecuteTime": {
     "end_time": "2021-01-17T05:20:47.182652Z",
     "start_time": "2021-01-17T05:20:47.034561Z"
    }
   },
   "outputs": [],
   "source": [
    "demo_clean.marital_status.value_counts(dropna=False)"
   ]
  },
  {
   "cell_type": "code",
   "execution_count": null,
   "metadata": {
    "ExecuteTime": {
     "end_time": "2021-01-17T05:20:47.304665Z",
     "start_time": "2021-01-17T05:20:47.185568Z"
    }
   },
   "outputs": [],
   "source": [
    "demo_clean['household_size'] = demo_clean['household_size'].astype('int64')"
   ]
  },
  {
   "cell_type": "code",
   "execution_count": null,
   "metadata": {
    "ExecuteTime": {
     "end_time": "2021-01-17T05:20:47.444664Z",
     "start_time": "2021-01-17T05:20:47.308562Z"
    }
   },
   "outputs": [],
   "source": [
    "demo_clean['pregnant'].replace({1.000:'Yes', \n",
    "                                2.000:'No', \n",
    "                                3.000:'Missing'}, \n",
    "                                  inplace=True)\n",
    "demo_clean['pregnant'].fillna('Missing', inplace=True)"
   ]
  },
  {
   "cell_type": "code",
   "execution_count": null,
   "metadata": {
    "ExecuteTime": {
     "end_time": "2021-01-17T05:20:47.575577Z",
     "start_time": "2021-01-17T05:20:47.447567Z"
    }
   },
   "outputs": [],
   "source": [
    "demo_clean.pregnant.value_counts(dropna=False)"
   ]
  },
  {
   "cell_type": "code",
   "execution_count": null,
   "metadata": {
    "ExecuteTime": {
     "end_time": "2021-01-17T05:20:47.717663Z",
     "start_time": "2021-01-17T05:20:47.579559Z"
    }
   },
   "outputs": [],
   "source": [
    "demo_clean['birth_place'].replace({1.000:'USA', \n",
    "                                   2.000:'Mexico', \n",
    "                                   3.000:'Elsewhere', \n",
    "                                   4.000:'Other Spanish Country', \n",
    "                                   5.000:'Other Non Spanish Country',\n",
    "                                   7.000:'Missing', \n",
    "                                   9.000:'Missing',\n",
    "                                   77.000:'Missing', \n",
    "                                   99.000:'Missing'}, \n",
    "                                    inplace=True)\n",
    "demo_clean['birth_place'].fillna('Missing', inplace=True)"
   ]
  },
  {
   "cell_type": "code",
   "execution_count": null,
   "metadata": {
    "ExecuteTime": {
     "end_time": "2021-01-17T05:20:47.853670Z",
     "start_time": "2021-01-17T05:20:47.721654Z"
    }
   },
   "outputs": [],
   "source": [
    "demo_clean.birth_place.value_counts(dropna=False)"
   ]
  },
  {
   "cell_type": "code",
   "execution_count": null,
   "metadata": {
    "ExecuteTime": {
     "end_time": "2021-01-17T05:20:48.050639Z",
     "start_time": "2021-01-17T05:20:47.857561Z"
    }
   },
   "outputs": [],
   "source": [
    "demo_clean['veteran'].replace({1.000:'Yes', \n",
    "                               2.000:'No', \n",
    "                               7.000:'Missing', \n",
    "                               9.000:'Missing',\n",
    "                               0.000:'Missing'}, \n",
    "                                inplace=True)"
   ]
  },
  {
   "cell_type": "code",
   "execution_count": null,
   "metadata": {
    "ExecuteTime": {
     "end_time": "2021-01-17T05:20:48.184564Z",
     "start_time": "2021-01-17T05:20:48.054651Z"
    }
   },
   "outputs": [],
   "source": [
    "demo_clean.veteran.value_counts(dropna=False)"
   ]
  },
  {
   "cell_type": "code",
   "execution_count": null,
   "metadata": {
    "ExecuteTime": {
     "end_time": "2021-01-17T05:20:48.304644Z",
     "start_time": "2021-01-17T05:20:48.187566Z"
    }
   },
   "outputs": [],
   "source": [
    "demo_clean['household_income'].replace({12.000: 5, \n",
    "                                        13.000: 4,\n",
    "                                        14.000: 11,\n",
    "                                        15.000: 12,\n",
    "                                        77.000: 0, \n",
    "                                        99.000: 0}, \n",
    "                                        inplace=True)\n",
    "demo_clean['household_income'] = demo_clean['household_income'].astype('int64')"
   ]
  },
  {
   "cell_type": "code",
   "execution_count": null,
   "metadata": {
    "ExecuteTime": {
     "end_time": "2021-01-17T05:20:48.414648Z",
     "start_time": "2021-01-17T05:20:48.307646Z"
    }
   },
   "outputs": [],
   "source": [
    "demo_clean.household_income.value_counts(dropna=False)"
   ]
  },
  {
   "cell_type": "code",
   "execution_count": null,
   "metadata": {
    "ExecuteTime": {
     "end_time": "2021-01-17T05:20:49.391642Z",
     "start_time": "2021-01-17T05:20:48.417605Z"
    }
   },
   "outputs": [],
   "source": [
    "ms.matrix(demo_clean);"
   ]
  },
  {
   "cell_type": "code",
   "execution_count": null,
   "metadata": {
    "ExecuteTime": {
     "end_time": "2021-01-17T05:20:49.541752Z",
     "start_time": "2021-01-17T05:20:49.395561Z"
    }
   },
   "outputs": [],
   "source": [
    "demo_clean.isna().sum()"
   ]
  },
  {
   "cell_type": "code",
   "execution_count": null,
   "metadata": {
    "ExecuteTime": {
     "end_time": "2021-01-17T05:20:49.728673Z",
     "start_time": "2021-01-17T05:20:49.544671Z"
    }
   },
   "outputs": [],
   "source": [
    "demo_clean.info()"
   ]
  },
  {
   "cell_type": "code",
   "execution_count": null,
   "metadata": {
    "ExecuteTime": {
     "end_time": "2021-01-17T05:20:49.871678Z",
     "start_time": "2021-01-17T05:20:49.731672Z"
    }
   },
   "outputs": [],
   "source": [
    "demo_clean.head()"
   ]
  },
  {
   "cell_type": "markdown",
   "metadata": {},
   "source": [
    "# Medical Conditions"
   ]
  },
  {
   "cell_type": "code",
   "execution_count": null,
   "metadata": {
    "ExecuteTime": {
     "end_time": "2021-01-17T05:20:51.983103Z",
     "start_time": "2021-01-17T05:20:49.874670Z"
    }
   },
   "outputs": [],
   "source": [
    "path = r'Data/Conditions'\n",
    "df_medcond = pf.glob_concat(path, '*.XPT')"
   ]
  },
  {
   "cell_type": "code",
   "execution_count": null,
   "metadata": {
    "ExecuteTime": {
     "end_time": "2021-01-17T05:20:52.255190Z",
     "start_time": "2021-01-17T05:20:51.986120Z"
    }
   },
   "outputs": [],
   "source": [
    "df_medcond.head()"
   ]
  },
  {
   "cell_type": "code",
   "execution_count": null,
   "metadata": {
    "ExecuteTime": {
     "end_time": "2021-01-17T05:20:52.360276Z",
     "start_time": "2021-01-17T05:20:52.258188Z"
    }
   },
   "outputs": [],
   "source": [
    "list(df_medcond.columns.sort_values())"
   ]
  },
  {
   "cell_type": "code",
   "execution_count": null,
   "metadata": {
    "ExecuteTime": {
     "end_time": "2021-01-17T05:20:52.467187Z",
     "start_time": "2021-01-17T05:20:52.364281Z"
    }
   },
   "outputs": [],
   "source": [
    "medcond_tokeep = ['AGQ030', 'MCQ010', 'MCQ025', 'MCQ035', 'MCQ050', \n",
    "                  'MCQ053', 'MCQ080', 'MCQ092', 'MCQ160A', 'MCQ160B', \n",
    "                  'MCQ160C', 'MCQ160D', 'MCQ160E', 'MCQ160F', 'MCQ160G', \n",
    "                  'MCQ160K', 'MCQ160L', 'MCQ160M', 'MCQ170K', 'MCQ170L', \n",
    "                  'MCQ170M', 'MCQ180A', 'MCD180A', 'MCQ180B', 'MCD180B', \n",
    "                  'MCQ180C', 'MCD180C', 'MCQ180D', 'MCD180D', 'MCQ180E', \n",
    "                  'MCD180E', 'MCQ180F', 'MCD180F', 'MCQ180G', 'MCD180G', \n",
    "                  'MCQ180K', 'MCD180K', 'MCQ180L', 'MCD180L', 'MCQ180M', \n",
    "                  'MCD180M', 'MCQ190', 'MCQ191', 'MCQ195', 'MCQ220', 'MCQ230A', \n",
    "                  'MCQ230B', 'MCQ230C', 'MCQ230D', 'MCQ240DK', 'MCD240A', \n",
    "                  'MCQ300A', 'MCQ300B', 'MCQ300C']\n",
    "\n",
    "len(medcond_tokeep)"
   ]
  },
  {
   "cell_type": "code",
   "execution_count": null,
   "metadata": {
    "ExecuteTime": {
     "end_time": "2021-01-17T05:20:56.759208Z",
     "start_time": "2021-01-17T05:20:52.470189Z"
    }
   },
   "outputs": [],
   "source": [
    "medcond_clean = pf.cols_tokeep(df_medcond, medcond_tokeep)"
   ]
  },
  {
   "cell_type": "code",
   "execution_count": null,
   "metadata": {
    "ExecuteTime": {
     "end_time": "2021-01-17T05:20:56.877316Z",
     "start_time": "2021-01-17T05:20:56.762208Z"
    }
   },
   "outputs": [],
   "source": [
    "medcond_clean.info()"
   ]
  },
  {
   "cell_type": "markdown",
   "metadata": {},
   "source": [
    "## Onset Age Columns"
   ]
  },
  {
   "cell_type": "code",
   "execution_count": null,
   "metadata": {
    "ExecuteTime": {
     "end_time": "2021-01-17T05:20:56.971209Z",
     "start_time": "2021-01-17T05:20:56.879237Z"
    }
   },
   "outputs": [],
   "source": [
    "col_pairs = [('MCD180A', 'MCQ180A'), \n",
    "             ('MCD180B', 'MCQ180B'), \n",
    "             ('MCD180C', 'MCQ180C'), \n",
    "             ('MCD180D', 'MCQ180D'), \n",
    "             ('MCD180E', 'MCQ180E'), \n",
    "             ('MCD180F', 'MCQ180F'), \n",
    "             ('MCD180G', 'MCQ180G'), \n",
    "             ('MCD180K', 'MCQ180K'), \n",
    "             ('MCD180L', 'MCQ180L'), \n",
    "             ('MCD180M', 'MCQ180M'), \n",
    "             ('MCD240A', 'MCQ240DK')]"
   ]
  },
  {
   "cell_type": "code",
   "execution_count": null,
   "metadata": {
    "ExecuteTime": {
     "end_time": "2021-01-17T05:20:57.070209Z",
     "start_time": "2021-01-17T05:20:56.974209Z"
    }
   },
   "outputs": [],
   "source": [
    "col_disease = ['arthritis', 'heart_failure', 'heart_disease', 'angina', \n",
    "              'heart_attack', 'stroke', 'emphysema', 'bronchitis', \n",
    "              'liver_condition', 'thyroid_problem', 'cancer']"
   ]
  },
  {
   "cell_type": "code",
   "execution_count": null,
   "metadata": {
    "ExecuteTime": {
     "end_time": "2021-01-17T05:20:57.167254Z",
     "start_time": "2021-01-17T05:20:57.074228Z"
    },
    "scrolled": true
   },
   "outputs": [],
   "source": [
    "disease_dict = dict(zip(col_disease, col_pairs))\n",
    "disease_dict"
   ]
  },
  {
   "cell_type": "code",
   "execution_count": null,
   "metadata": {
    "ExecuteTime": {
     "end_time": "2021-01-17T05:20:57.640332Z",
     "start_time": "2021-01-17T05:20:57.170218Z"
    },
    "scrolled": false
   },
   "outputs": [],
   "source": [
    "for key in disease_dict:\n",
    "    for item in disease_dict[key]:\n",
    "        medcond_clean[item].fillna(0, inplace=True)\n",
    "        medcond_clean[item] = medcond_clean[item].replace(99999, 0)\n",
    "        medcond_clean[item] = medcond_clean[item].replace(77777, 0)\n",
    "    medcond_clean[f'{key}_onset'] = medcond_clean[disease_dict[key][0]] + medcond_clean[disease_dict[key][1]]\n",
    "    medcond_clean[f'{key}_onset'] = medcond_clean[f'{key}_onset'].astype('int64')\n",
    "    medcond_clean.drop(columns=[disease_dict[key][0], disease_dict[key][1]], inplace=True)   "
   ]
  },
  {
   "cell_type": "code",
   "execution_count": null,
   "metadata": {
    "ExecuteTime": {
     "end_time": "2021-01-17T05:20:57.767491Z",
     "start_time": "2021-01-17T05:20:57.643251Z"
    }
   },
   "outputs": [],
   "source": [
    "medcond_clean.info()"
   ]
  },
  {
   "cell_type": "code",
   "execution_count": null,
   "metadata": {
    "ExecuteTime": {
     "end_time": "2021-01-17T05:20:57.955477Z",
     "start_time": "2021-01-17T05:20:57.769385Z"
    }
   },
   "outputs": [],
   "source": [
    "medcond_clean.head()"
   ]
  },
  {
   "cell_type": "markdown",
   "metadata": {},
   "source": [
    "## Arthritis Type Columns"
   ]
  },
  {
   "cell_type": "code",
   "execution_count": null,
   "metadata": {
    "ExecuteTime": {
     "end_time": "2021-01-17T05:20:58.069384Z",
     "start_time": "2021-01-17T05:20:57.958385Z"
    }
   },
   "outputs": [],
   "source": [
    "medcond_clean['MCQ190'].value_counts(dropna=False)"
   ]
  },
  {
   "cell_type": "code",
   "execution_count": null,
   "metadata": {
    "ExecuteTime": {
     "end_time": "2021-01-17T05:20:58.186382Z",
     "start_time": "2021-01-17T05:20:58.072384Z"
    }
   },
   "outputs": [],
   "source": [
    "medcond_clean['MCQ190'].replace({1.000:'Rheumatoid', \n",
    "                                2.000:'Osteoarthritis', \n",
    "                                3.000:'Other', \n",
    "                                7.000:'Missing', \n",
    "                                9.000:'Missing'}, \n",
    "                               inplace=True)"
   ]
  },
  {
   "cell_type": "code",
   "execution_count": null,
   "metadata": {
    "ExecuteTime": {
     "end_time": "2021-01-17T05:20:58.290387Z",
     "start_time": "2021-01-17T05:20:58.189382Z"
    }
   },
   "outputs": [],
   "source": [
    "medcond_clean['MCQ190'].fillna('', inplace=True)"
   ]
  },
  {
   "cell_type": "code",
   "execution_count": null,
   "metadata": {
    "ExecuteTime": {
     "end_time": "2021-01-17T05:20:58.406382Z",
     "start_time": "2021-01-17T05:20:58.292389Z"
    }
   },
   "outputs": [],
   "source": [
    "medcond_clean['MCQ190'].value_counts(dropna=False)"
   ]
  },
  {
   "cell_type": "code",
   "execution_count": null,
   "metadata": {
    "ExecuteTime": {
     "end_time": "2021-01-17T05:20:58.511383Z",
     "start_time": "2021-01-17T05:20:58.409384Z"
    }
   },
   "outputs": [],
   "source": [
    "medcond_clean['MCQ191'].value_counts(dropna=False)"
   ]
  },
  {
   "cell_type": "code",
   "execution_count": null,
   "metadata": {
    "ExecuteTime": {
     "end_time": "2021-01-17T05:20:58.638395Z",
     "start_time": "2021-01-17T05:20:58.513382Z"
    }
   },
   "outputs": [],
   "source": [
    "medcond_clean['MCQ191'].replace({1.000:'Rheumatoid', \n",
    "                                2.000:'Osteoarthritis', \n",
    "                                3.000:'Psoriatic',\n",
    "                                4.000:'Other',\n",
    "                                7.000:'Missing', \n",
    "                                9.000:'Missing'}, \n",
    "                               inplace=True)"
   ]
  },
  {
   "cell_type": "code",
   "execution_count": null,
   "metadata": {
    "ExecuteTime": {
     "end_time": "2021-01-17T05:20:58.747388Z",
     "start_time": "2021-01-17T05:20:58.642396Z"
    }
   },
   "outputs": [],
   "source": [
    "medcond_clean['MCQ191'].fillna('', inplace=True)"
   ]
  },
  {
   "cell_type": "code",
   "execution_count": null,
   "metadata": {
    "ExecuteTime": {
     "end_time": "2021-01-17T05:20:58.863383Z",
     "start_time": "2021-01-17T05:20:58.750384Z"
    }
   },
   "outputs": [],
   "source": [
    "medcond_clean['MCQ191'].value_counts(dropna=False)"
   ]
  },
  {
   "cell_type": "code",
   "execution_count": null,
   "metadata": {
    "ExecuteTime": {
     "end_time": "2021-01-17T05:20:58.971473Z",
     "start_time": "2021-01-17T05:20:58.867388Z"
    }
   },
   "outputs": [],
   "source": [
    "medcond_clean['MCQ195'].value_counts(dropna=False)"
   ]
  },
  {
   "cell_type": "code",
   "execution_count": null,
   "metadata": {
    "ExecuteTime": {
     "end_time": "2021-01-17T05:20:59.099460Z",
     "start_time": "2021-01-17T05:20:58.974421Z"
    }
   },
   "outputs": [],
   "source": [
    "medcond_clean['MCQ195'].replace({1.000:'Osteoarthritis', \n",
    "                                2.000:'Rheumatoid', \n",
    "                                3.000:'Psoriatic',\n",
    "                                4.000:'Other',\n",
    "                                7.000:'Missing', \n",
    "                                9.000:'Missing'}, \n",
    "                               inplace=True)"
   ]
  },
  {
   "cell_type": "code",
   "execution_count": null,
   "metadata": {
    "ExecuteTime": {
     "end_time": "2021-01-17T05:20:59.212404Z",
     "start_time": "2021-01-17T05:20:59.102385Z"
    }
   },
   "outputs": [],
   "source": [
    "medcond_clean['MCQ195'].fillna('', inplace=True)"
   ]
  },
  {
   "cell_type": "code",
   "execution_count": null,
   "metadata": {
    "ExecuteTime": {
     "end_time": "2021-01-17T05:20:59.334457Z",
     "start_time": "2021-01-17T05:20:59.215384Z"
    }
   },
   "outputs": [],
   "source": [
    "medcond_clean['MCQ195'].value_counts(dropna=False)"
   ]
  },
  {
   "cell_type": "code",
   "execution_count": null,
   "metadata": {
    "ExecuteTime": {
     "end_time": "2021-01-17T05:20:59.451436Z",
     "start_time": "2021-01-17T05:20:59.338383Z"
    }
   },
   "outputs": [],
   "source": [
    "medcond_clean['arthritis_type'] = medcond_clean['MCQ190'] + medcond_clean['MCQ191'] + medcond_clean['MCQ195']"
   ]
  },
  {
   "cell_type": "code",
   "execution_count": null,
   "metadata": {
    "ExecuteTime": {
     "end_time": "2021-01-17T05:30:53.679090Z",
     "start_time": "2021-01-17T05:30:53.597193Z"
    }
   },
   "outputs": [],
   "source": [
    "medcond_clean['arthritis_type'].value_counts(dropna=False)"
   ]
  },
  {
   "cell_type": "code",
   "execution_count": null,
   "metadata": {
    "ExecuteTime": {
     "end_time": "2021-01-17T05:30:55.727921Z",
     "start_time": "2021-01-17T05:30:55.649299Z"
    }
   },
   "outputs": [],
   "source": [
    "medcond_clean.drop(columns=['MCQ190', 'MCQ191', 'MCQ195'], inplace=True)  "
   ]
  },
  {
   "cell_type": "code",
   "execution_count": null,
   "metadata": {
    "ExecuteTime": {
     "end_time": "2021-01-17T05:30:56.168035Z",
     "start_time": "2021-01-17T05:30:56.102919Z"
    }
   },
   "outputs": [],
   "source": [
    "medcond_clean['arthritis_type'].value_counts(dropna=False)"
   ]
  },
  {
   "cell_type": "code",
   "execution_count": null,
   "metadata": {
    "ExecuteTime": {
     "end_time": "2021-01-17T05:30:58.132452Z",
     "start_time": "2021-01-17T05:30:58.070394Z"
    }
   },
   "outputs": [],
   "source": [
    "medcond_clean['arthritis_type'] = medcond_clean['arthritis_type'].replace('', 'Missing')"
   ]
  },
  {
   "cell_type": "code",
   "execution_count": null,
   "metadata": {
    "ExecuteTime": {
     "start_time": "2021-01-17T05:20:33.171Z"
    }
   },
   "outputs": [],
   "source": [
    "medcond_clean['arthritis_type'].value_counts(dropna=False)"
   ]
  },
  {
   "cell_type": "markdown",
   "metadata": {},
   "source": [
    "## Renaming Columns"
   ]
  },
  {
   "cell_type": "code",
   "execution_count": null,
   "metadata": {
    "ExecuteTime": {
     "start_time": "2021-01-17T05:20:33.188Z"
    },
    "scrolled": true
   },
   "outputs": [],
   "source": [
    "medcond_clean.columns"
   ]
  },
  {
   "cell_type": "code",
   "execution_count": null,
   "metadata": {
    "ExecuteTime": {
     "start_time": "2021-01-17T05:20:33.201Z"
    }
   },
   "outputs": [],
   "source": [
    "medcond_clean.rename(columns={'MCQ010': 'asthma', \n",
    "                              'MCQ025': 'asthma_onset', \n",
    "                              'MCQ035': 'asthma_currently', \n",
    "                              'MCQ050': 'asthma_emergency', \n",
    "                              'MCQ053': 'anemia', \n",
    "                              'MCQ080': 'ever_overweight', \n",
    "                              'MCQ092': 'blood_transfusion',\n",
    "                              'MCQ160A': 'arthritis', \n",
    "                              'MCQ160B': 'heart_failure', \n",
    "                              'MCQ160C': 'heart_disease', \n",
    "                              'MCQ160D': 'angina', \n",
    "                              'MCQ160E': 'heart_attack', \n",
    "                              'MCQ160F': 'stroke', \n",
    "                              'MCQ160G': 'emphysema', \n",
    "                              'MCQ160K': 'bronchitis', \n",
    "                              'MCQ160L': 'liver_condition', \n",
    "                              'MCQ160M': 'thyroid_problem', \n",
    "                              'MCQ170K': 'bronchitis_currently', \n",
    "                              'MCQ170L': 'liver_condition_currently',\n",
    "                              'MCQ170M': 'thyroid_problem_currently',  \n",
    "                              'MCQ220': 'cancer', \n",
    "                              'MCQ230A': 'first_cancer_type', \n",
    "                              'MCQ230B': 'second_cancer_type', \n",
    "                              'MCQ230C': 'third_cancer_type',\n",
    "                              'MCQ230D': 'fourth_cancer_count', \n",
    "                              'MCQ300A': 'heart_attack_relative', \n",
    "                              'MCQ300B': 'asthma_relative', \n",
    "                              'MCQ300C': 'diabetes_relative', \n",
    "                              'AGQ030': 'hay_fever'\n",
    "                              }, inplace=True)"
   ]
  },
  {
   "cell_type": "code",
   "execution_count": null,
   "metadata": {
    "ExecuteTime": {
     "start_time": "2021-01-17T05:20:33.216Z"
    }
   },
   "outputs": [],
   "source": [
    "medcond_clean.info()"
   ]
  },
  {
   "cell_type": "markdown",
   "metadata": {},
   "source": [
    "## Clean Column Values"
   ]
  },
  {
   "cell_type": "code",
   "execution_count": null,
   "metadata": {
    "ExecuteTime": {
     "start_time": "2021-01-17T05:20:33.236Z"
    },
    "scrolled": true
   },
   "outputs": [],
   "source": [
    "pf.val_counts(medcond_clean)"
   ]
  },
  {
   "cell_type": "code",
   "execution_count": null,
   "metadata": {
    "ExecuteTime": {
     "start_time": "2021-01-17T05:20:33.249Z"
    }
   },
   "outputs": [],
   "source": [
    "yes_no_cols = ['arthritis', 'heart_failure', 'heart_disease', 'angina', \n",
    "              'heart_attack', 'stroke', 'emphysema', 'bronchitis', \n",
    "              'liver_condition', 'thyroid_problem', 'cancer', 'asthma', \n",
    "              'anemia', 'blood_transfusion', 'heart_attack_relative', \n",
    "              'asthma_relative', 'diabetes_relative', 'hay_fever', \n",
    "              'ever_overweight', 'asthma_currently', 'asthma_emergency', \n",
    "              'bronchitis_currently', 'liver_condition_currently', \n",
    "              'thyroid_problem_currently']"
   ]
  },
  {
   "cell_type": "code",
   "execution_count": null,
   "metadata": {
    "ExecuteTime": {
     "start_time": "2021-01-17T05:20:33.263Z"
    }
   },
   "outputs": [],
   "source": [
    "for col in yes_no_cols:\n",
    "    medcond_clean[col].replace({2.000: 0, \n",
    "                                 7.000: 0, \n",
    "                                 9.000: 0}, \n",
    "                                inplace=True)\n",
    "    medcond_clean[col].fillna(0, inplace=True)\n",
    "    medcond_clean[col] = medcond_clean[col].astype('int64')"
   ]
  },
  {
   "cell_type": "code",
   "execution_count": null,
   "metadata": {
    "ExecuteTime": {
     "start_time": "2021-01-17T05:20:33.277Z"
    }
   },
   "outputs": [],
   "source": [
    "medcond_clean['asthma_onset'].replace(99999, 0, inplace=True)\n",
    "medcond_clean['asthma_onset'].fillna(0, inplace=True)\n",
    "medcond_clean['asthma_onset'] = medcond_clean['asthma_onset'].astype('int64')"
   ]
  },
  {
   "cell_type": "code",
   "execution_count": null,
   "metadata": {
    "ExecuteTime": {
     "start_time": "2021-01-17T05:20:33.289Z"
    }
   },
   "outputs": [],
   "source": [
    "medcond_clean['fourth_cancer_count'].replace(66.000, 1, inplace=True)\n",
    "medcond_clean['fourth_cancer_count'].fillna(0, inplace=True)\n",
    "medcond_clean['fourth_cancer_count'] = medcond_clean['fourth_cancer_count'].astype('int64')"
   ]
  },
  {
   "cell_type": "code",
   "execution_count": null,
   "metadata": {
    "ExecuteTime": {
     "start_time": "2021-01-17T05:20:33.307Z"
    }
   },
   "outputs": [],
   "source": [
    "pf.val_counts(medcond_clean)"
   ]
  },
  {
   "cell_type": "markdown",
   "metadata": {},
   "source": [
    "## Cancer Types"
   ]
  },
  {
   "cell_type": "code",
   "execution_count": null,
   "metadata": {
    "ExecuteTime": {
     "start_time": "2021-01-17T05:20:33.322Z"
    }
   },
   "outputs": [],
   "source": [
    "cancer_cols= ['first_cancer_type', 'second_cancer_type', 'third_cancer_type']\n",
    "for col in cancer_cols:\n",
    "    medcond_clean[col].fillna('None', inplace=True)"
   ]
  },
  {
   "cell_type": "code",
   "execution_count": null,
   "metadata": {
    "ExecuteTime": {
     "start_time": "2021-01-17T05:20:33.336Z"
    }
   },
   "outputs": [],
   "source": [
    "medcond_clean.isna().sum()"
   ]
  },
  {
   "cell_type": "code",
   "execution_count": null,
   "metadata": {
    "ExecuteTime": {
     "start_time": "2021-01-17T05:20:33.349Z"
    }
   },
   "outputs": [],
   "source": [
    "for col in cancer_cols:\n",
    "    medcond_clean[col].replace({10.000: 'Bladder', \n",
    "                                11.000: 'Blood', \n",
    "                                12.000: 'Bone', \n",
    "                                13.000: 'Brain', \n",
    "                                14.000: 'Breast', \n",
    "                                15.000: 'Cervical', \n",
    "                                16.000: 'Colon', \n",
    "                                17.000: 'Esophageal', \n",
    "                                18.000: 'Gallbladder',\n",
    "                                19.000: 'Kidney', \n",
    "                                20.000: 'Larynx', \n",
    "                                21.000: 'Leukemia', \n",
    "                                22.000: 'Liver', \n",
    "                                23.000: 'Lung', \n",
    "                                24.000: 'Lymphoma', \n",
    "                                25.000: 'Melanoma', \n",
    "                                26.000: 'Mouth',\n",
    "                                27.000: 'Nervous System', \n",
    "                                28.000: 'Ovarian', \n",
    "                                29.000: 'Pancreatic', \n",
    "                                30.000: 'Prostate',\n",
    "                                31.000: 'Rectal', \n",
    "                                32.000: 'Skin Non Melanoma', \n",
    "                                33.000: 'Skin Other', \n",
    "                                34.000: 'Soft Tissue', \n",
    "                                35.000: 'Stomach', \n",
    "                                36.000: 'Testicular', \n",
    "                                37.000: 'Thyroid', \n",
    "                                38.000: 'Uterine',\n",
    "                                39.000: 'Other', \n",
    "                                66.000: 'None', \n",
    "                                77.000: 'None', \n",
    "                                99.000: 'None',\n",
    "                               },\n",
    "                               inplace=True)"
   ]
  },
  {
   "cell_type": "code",
   "execution_count": null,
   "metadata": {
    "ExecuteTime": {
     "start_time": "2021-01-17T05:20:33.362Z"
    }
   },
   "outputs": [],
   "source": [
    "func = inspect.getsource(pf.first_cancer_count)\n",
    "display(Markdown(\"```python\\n\"+func+\"\\n```\"))"
   ]
  },
  {
   "cell_type": "code",
   "execution_count": null,
   "metadata": {
    "ExecuteTime": {
     "start_time": "2021-01-17T05:20:33.376Z"
    }
   },
   "outputs": [],
   "source": [
    "medcond_clean['first_cancer_count'] = medcond_clean.apply(pf.first_cancer_count, axis=1)\n",
    "medcond_clean['second_cancer_count'] = medcond_clean.apply(pf.second_cancer_count, axis=1)\n",
    "medcond_clean['third_cancer_count'] = medcond_clean.apply(pf.third_cancer_count, axis=1)"
   ]
  },
  {
   "cell_type": "code",
   "execution_count": null,
   "metadata": {
    "ExecuteTime": {
     "start_time": "2021-01-17T05:20:33.389Z"
    }
   },
   "outputs": [],
   "source": [
    "medcond_clean.info()"
   ]
  },
  {
   "cell_type": "code",
   "execution_count": null,
   "metadata": {
    "ExecuteTime": {
     "start_time": "2021-01-17T05:20:33.402Z"
    }
   },
   "outputs": [],
   "source": [
    "medcond_clean.first_cancer_count.value_counts(dropna=False)"
   ]
  },
  {
   "cell_type": "code",
   "execution_count": null,
   "metadata": {
    "ExecuteTime": {
     "start_time": "2021-01-17T05:20:33.416Z"
    }
   },
   "outputs": [],
   "source": [
    "medcond_clean.second_cancer_count.value_counts(dropna=False)"
   ]
  },
  {
   "cell_type": "code",
   "execution_count": null,
   "metadata": {
    "ExecuteTime": {
     "start_time": "2021-01-17T05:20:33.429Z"
    }
   },
   "outputs": [],
   "source": [
    "medcond_clean.third_cancer_count.value_counts(dropna=False)"
   ]
  },
  {
   "cell_type": "code",
   "execution_count": null,
   "metadata": {
    "ExecuteTime": {
     "start_time": "2021-01-17T05:20:33.444Z"
    }
   },
   "outputs": [],
   "source": [
    "medcond_clean.head()"
   ]
  },
  {
   "cell_type": "markdown",
   "metadata": {},
   "source": [
    "# Body Measures"
   ]
  },
  {
   "cell_type": "code",
   "execution_count": null,
   "metadata": {
    "ExecuteTime": {
     "start_time": "2021-01-17T05:20:33.459Z"
    }
   },
   "outputs": [],
   "source": [
    "path = r'Data/BodyMeasures'\n",
    "df_body = pf.glob_concat(path, '*.XPT')"
   ]
  },
  {
   "cell_type": "code",
   "execution_count": null,
   "metadata": {
    "ExecuteTime": {
     "start_time": "2021-01-17T05:20:33.476Z"
    }
   },
   "outputs": [],
   "source": [
    "df_body.head()"
   ]
  },
  {
   "cell_type": "code",
   "execution_count": null,
   "metadata": {
    "ExecuteTime": {
     "start_time": "2021-01-17T05:20:33.489Z"
    }
   },
   "outputs": [],
   "source": [
    "list(df_body.columns.sort_values())"
   ]
  },
  {
   "cell_type": "code",
   "execution_count": null,
   "metadata": {
    "ExecuteTime": {
     "start_time": "2021-01-17T05:20:33.502Z"
    }
   },
   "outputs": [],
   "source": [
    "body_tokeep = ['BMXBMI', 'BMXHT', 'BMXWT']\n",
    "body_clean = pf.cols_tokeep(df_body, body_tokeep)"
   ]
  },
  {
   "cell_type": "code",
   "execution_count": null,
   "metadata": {
    "ExecuteTime": {
     "start_time": "2021-01-17T05:20:33.515Z"
    }
   },
   "outputs": [],
   "source": [
    "body_clean.head()"
   ]
  },
  {
   "cell_type": "code",
   "execution_count": null,
   "metadata": {
    "ExecuteTime": {
     "start_time": "2021-01-17T05:20:33.529Z"
    }
   },
   "outputs": [],
   "source": [
    "body_clean.info()"
   ]
  },
  {
   "cell_type": "markdown",
   "metadata": {},
   "source": [
    "## Renaming Columns"
   ]
  },
  {
   "cell_type": "code",
   "execution_count": null,
   "metadata": {
    "ExecuteTime": {
     "start_time": "2021-01-17T05:20:33.547Z"
    }
   },
   "outputs": [],
   "source": [
    "body_clean.rename(columns={'BMXWT': 'weight', \n",
    "                           'BMXHT': 'height', \n",
    "                           'BMXBMI': 'BMI', \n",
    "                          }, inplace=True)"
   ]
  },
  {
   "cell_type": "code",
   "execution_count": null,
   "metadata": {
    "ExecuteTime": {
     "start_time": "2021-01-17T05:20:33.560Z"
    }
   },
   "outputs": [],
   "source": [
    "body_clean.info()"
   ]
  },
  {
   "cell_type": "markdown",
   "metadata": {},
   "source": [
    "## Cleaning Column Values"
   ]
  },
  {
   "cell_type": "code",
   "execution_count": null,
   "metadata": {
    "ExecuteTime": {
     "start_time": "2021-01-17T05:20:33.584Z"
    }
   },
   "outputs": [],
   "source": [
    "pf.val_counts(body_clean)"
   ]
  },
  {
   "cell_type": "code",
   "execution_count": null,
   "metadata": {
    "ExecuteTime": {
     "start_time": "2021-01-17T05:20:33.598Z"
    }
   },
   "outputs": [],
   "source": [
    "for col in body_clean.columns:\n",
    "    body_clean.fillna(0, inplace=True)"
   ]
  },
  {
   "cell_type": "code",
   "execution_count": null,
   "metadata": {
    "ExecuteTime": {
     "start_time": "2021-01-17T05:20:33.611Z"
    }
   },
   "outputs": [],
   "source": [
    "body_clean.info()"
   ]
  },
  {
   "cell_type": "code",
   "execution_count": null,
   "metadata": {
    "ExecuteTime": {
     "start_time": "2021-01-17T05:20:33.630Z"
    }
   },
   "outputs": [],
   "source": [
    "body_clean.head()"
   ]
  },
  {
   "cell_type": "markdown",
   "metadata": {},
   "source": [
    "# Blood Pressure"
   ]
  },
  {
   "cell_type": "code",
   "execution_count": null,
   "metadata": {
    "ExecuteTime": {
     "start_time": "2021-01-17T05:20:33.647Z"
    }
   },
   "outputs": [],
   "source": [
    "path = r'Data/BloodPressure'\n",
    "df_blood = pf.glob_concat(path, '*.XPT')"
   ]
  },
  {
   "cell_type": "code",
   "execution_count": null,
   "metadata": {
    "ExecuteTime": {
     "start_time": "2021-01-17T05:20:33.663Z"
    }
   },
   "outputs": [],
   "source": [
    "df_blood.head()"
   ]
  },
  {
   "cell_type": "code",
   "execution_count": null,
   "metadata": {
    "ExecuteTime": {
     "start_time": "2021-01-17T05:20:33.676Z"
    }
   },
   "outputs": [],
   "source": [
    "list(df_blood.columns.sort_values())"
   ]
  },
  {
   "cell_type": "code",
   "execution_count": null,
   "metadata": {
    "ExecuteTime": {
     "start_time": "2021-01-17T05:20:33.689Z"
    }
   },
   "outputs": [],
   "source": [
    "blood_tokeep = ['BPXPLS', 'BPXPULS', 'BPXDI1', 'BPXSY1']\n",
    "blood_clean = pf.cols_tokeep(df_blood, blood_tokeep)"
   ]
  },
  {
   "cell_type": "code",
   "execution_count": null,
   "metadata": {
    "ExecuteTime": {
     "start_time": "2021-01-17T05:20:33.703Z"
    }
   },
   "outputs": [],
   "source": [
    "blood_clean.head()"
   ]
  },
  {
   "cell_type": "code",
   "execution_count": null,
   "metadata": {
    "ExecuteTime": {
     "start_time": "2021-01-17T05:20:33.716Z"
    }
   },
   "outputs": [],
   "source": [
    "blood_clean.info()"
   ]
  },
  {
   "cell_type": "markdown",
   "metadata": {},
   "source": [
    "## Renaming Columns"
   ]
  },
  {
   "cell_type": "code",
   "execution_count": null,
   "metadata": {
    "ExecuteTime": {
     "start_time": "2021-01-17T05:20:33.738Z"
    }
   },
   "outputs": [],
   "source": [
    "blood_clean.rename(columns={'BPXPLS': 'pulse', \n",
    "                           'BPXPULS': 'irregular_pulse', \n",
    "                           'BPXSY1': 'systolic', \n",
    "                           'BPXDI1': 'diastolic'\n",
    "                            }, inplace=True)"
   ]
  },
  {
   "cell_type": "code",
   "execution_count": null,
   "metadata": {
    "ExecuteTime": {
     "start_time": "2021-01-17T05:20:33.751Z"
    }
   },
   "outputs": [],
   "source": [
    "blood_clean.info()"
   ]
  },
  {
   "cell_type": "markdown",
   "metadata": {},
   "source": [
    "## Clean Column Values"
   ]
  },
  {
   "cell_type": "code",
   "execution_count": null,
   "metadata": {
    "ExecuteTime": {
     "start_time": "2021-01-17T05:20:33.767Z"
    }
   },
   "outputs": [],
   "source": [
    "pf.val_counts(blood_clean)"
   ]
  },
  {
   "cell_type": "code",
   "execution_count": null,
   "metadata": {
    "ExecuteTime": {
     "start_time": "2021-01-17T05:20:33.780Z"
    }
   },
   "outputs": [],
   "source": [
    "blood_clean['irregular_pulse'].replace({2.000: 1, 1.000: 0,}, inplace=True)\n",
    "blood_clean['irregular_pulse'].fillna(0, inplace=True)\n",
    "blood_clean['irregular_pulse'] = blood_clean['irregular_pulse'].astype('int64')"
   ]
  },
  {
   "cell_type": "code",
   "execution_count": null,
   "metadata": {
    "ExecuteTime": {
     "start_time": "2021-01-17T05:20:33.793Z"
    }
   },
   "outputs": [],
   "source": [
    "blood_clean['pulse'].fillna(0, inplace=True)\n",
    "blood_clean['pulse'] = blood_clean['pulse'].astype('int64')"
   ]
  },
  {
   "cell_type": "code",
   "execution_count": null,
   "metadata": {
    "ExecuteTime": {
     "start_time": "2021-01-17T05:20:33.806Z"
    }
   },
   "outputs": [],
   "source": [
    "blood_clean['systolic'].fillna(0, inplace=True)\n",
    "blood_clean['systolic'] = blood_clean['systolic'].astype('int64')"
   ]
  },
  {
   "cell_type": "code",
   "execution_count": null,
   "metadata": {
    "ExecuteTime": {
     "start_time": "2021-01-17T05:20:33.822Z"
    }
   },
   "outputs": [],
   "source": [
    "blood_clean['diastolic'].fillna(0, inplace=True)\n",
    "blood_clean['diastolic'] = blood_clean['systolic'].astype('int64')"
   ]
  },
  {
   "cell_type": "code",
   "execution_count": null,
   "metadata": {
    "ExecuteTime": {
     "start_time": "2021-01-17T05:20:33.839Z"
    }
   },
   "outputs": [],
   "source": [
    "pf.val_counts(blood_clean)"
   ]
  },
  {
   "cell_type": "code",
   "execution_count": null,
   "metadata": {
    "ExecuteTime": {
     "start_time": "2021-01-17T05:20:33.854Z"
    }
   },
   "outputs": [],
   "source": [
    "blood_clean.info()"
   ]
  },
  {
   "cell_type": "code",
   "execution_count": null,
   "metadata": {
    "ExecuteTime": {
     "start_time": "2021-01-17T05:20:33.868Z"
    }
   },
   "outputs": [],
   "source": [
    "blood_clean.head()"
   ]
  },
  {
   "cell_type": "markdown",
   "metadata": {},
   "source": [
    "# Cholesterol"
   ]
  },
  {
   "cell_type": "code",
   "execution_count": null,
   "metadata": {
    "ExecuteTime": {
     "start_time": "2021-01-17T05:20:33.884Z"
    }
   },
   "outputs": [],
   "source": [
    "path = r'Data/Cholesterol/Total'\n",
    "df_totchol = pf.glob_concat(path, '*.XPT')"
   ]
  },
  {
   "cell_type": "code",
   "execution_count": null,
   "metadata": {
    "ExecuteTime": {
     "start_time": "2021-01-17T05:20:33.897Z"
    }
   },
   "outputs": [],
   "source": [
    "df_totchol.info()"
   ]
  },
  {
   "cell_type": "code",
   "execution_count": null,
   "metadata": {
    "ExecuteTime": {
     "start_time": "2021-01-17T05:20:33.910Z"
    }
   },
   "outputs": [],
   "source": [
    "df_totchol.head()"
   ]
  },
  {
   "cell_type": "code",
   "execution_count": null,
   "metadata": {
    "ExecuteTime": {
     "start_time": "2021-01-17T05:20:33.923Z"
    }
   },
   "outputs": [],
   "source": [
    "path = r'Data/Cholesterol/HDL'\n",
    "df_hdlchol = pf.glob_concat(path, '*.XPT')"
   ]
  },
  {
   "cell_type": "code",
   "execution_count": null,
   "metadata": {
    "ExecuteTime": {
     "start_time": "2021-01-17T05:20:33.936Z"
    }
   },
   "outputs": [],
   "source": [
    "df_hdlchol.info()"
   ]
  },
  {
   "cell_type": "code",
   "execution_count": null,
   "metadata": {
    "ExecuteTime": {
     "start_time": "2021-01-17T05:20:33.949Z"
    }
   },
   "outputs": [],
   "source": [
    "df_hdlchol.head()"
   ]
  },
  {
   "cell_type": "code",
   "execution_count": null,
   "metadata": {
    "ExecuteTime": {
     "start_time": "2021-01-17T05:20:33.962Z"
    }
   },
   "outputs": [],
   "source": [
    "path = r'Data/Cholesterol/LDL'\n",
    "df_ldlchol = pf.glob_concat(path, '*.XPT')"
   ]
  },
  {
   "cell_type": "code",
   "execution_count": null,
   "metadata": {
    "ExecuteTime": {
     "start_time": "2021-01-17T05:20:33.977Z"
    }
   },
   "outputs": [],
   "source": [
    "df_ldlchol.info()"
   ]
  },
  {
   "cell_type": "code",
   "execution_count": null,
   "metadata": {
    "ExecuteTime": {
     "start_time": "2021-01-17T05:20:33.991Z"
    }
   },
   "outputs": [],
   "source": [
    "df_ldlchol.head()"
   ]
  },
  {
   "cell_type": "code",
   "execution_count": null,
   "metadata": {
    "ExecuteTime": {
     "start_time": "2021-01-17T05:20:34.004Z"
    }
   },
   "outputs": [],
   "source": [
    "df_chol = pd.concat([df_totchol, df_hdlchol, df_ldlchol], axis=1)"
   ]
  },
  {
   "cell_type": "code",
   "execution_count": null,
   "metadata": {
    "ExecuteTime": {
     "start_time": "2021-01-17T05:20:34.020Z"
    }
   },
   "outputs": [],
   "source": [
    "df_chol.head()"
   ]
  },
  {
   "cell_type": "code",
   "execution_count": null,
   "metadata": {
    "ExecuteTime": {
     "start_time": "2021-01-17T05:20:34.035Z"
    }
   },
   "outputs": [],
   "source": [
    "df_chol.info()"
   ]
  },
  {
   "cell_type": "code",
   "execution_count": null,
   "metadata": {
    "ExecuteTime": {
     "start_time": "2021-01-17T05:20:34.048Z"
    }
   },
   "outputs": [],
   "source": [
    "df_chol.columns"
   ]
  },
  {
   "cell_type": "code",
   "execution_count": null,
   "metadata": {
    "ExecuteTime": {
     "start_time": "2021-01-17T05:20:34.061Z"
    }
   },
   "outputs": [],
   "source": [
    "chol_tokeep = ['LBXTC', 'LBDHDD', 'LBXTR', 'LBDLDL']\n",
    "chol_clean = pf.cols_tokeep(df_chol, chol_tokeep)"
   ]
  },
  {
   "cell_type": "code",
   "execution_count": null,
   "metadata": {
    "ExecuteTime": {
     "start_time": "2021-01-17T05:20:34.075Z"
    }
   },
   "outputs": [],
   "source": [
    "chol_clean.info()"
   ]
  },
  {
   "cell_type": "markdown",
   "metadata": {},
   "source": [
    "## Renaming Columns"
   ]
  },
  {
   "cell_type": "code",
   "execution_count": null,
   "metadata": {
    "ExecuteTime": {
     "start_time": "2021-01-17T05:20:34.091Z"
    }
   },
   "outputs": [],
   "source": [
    "chol_clean.rename(columns={'LBXTC': 'total_cholesterol', \n",
    "                           'LBDHDD': 'HDL', \n",
    "                           'LBXTR': 'triglyceride', \n",
    "                           'LBDLDL': 'LDL'\n",
    "                            }, inplace=True)"
   ]
  },
  {
   "cell_type": "code",
   "execution_count": null,
   "metadata": {
    "ExecuteTime": {
     "start_time": "2021-01-17T05:20:34.104Z"
    }
   },
   "outputs": [],
   "source": [
    "chol_clean.info()"
   ]
  },
  {
   "cell_type": "markdown",
   "metadata": {},
   "source": [
    "## Clean Column Values"
   ]
  },
  {
   "cell_type": "code",
   "execution_count": null,
   "metadata": {
    "ExecuteTime": {
     "start_time": "2021-01-17T05:20:34.122Z"
    }
   },
   "outputs": [],
   "source": [
    "pf.val_counts(chol_clean)"
   ]
  },
  {
   "cell_type": "code",
   "execution_count": null,
   "metadata": {
    "ExecuteTime": {
     "start_time": "2021-01-17T05:20:34.135Z"
    }
   },
   "outputs": [],
   "source": [
    "for col in chol_clean.columns:\n",
    "    chol_clean[col].fillna(0, inplace=True)\n",
    "    chol_clean[col] = chol_clean[col].astype('int64')"
   ]
  },
  {
   "cell_type": "code",
   "execution_count": null,
   "metadata": {
    "ExecuteTime": {
     "start_time": "2021-01-17T05:20:34.148Z"
    }
   },
   "outputs": [],
   "source": [
    "chol_clean.info()"
   ]
  },
  {
   "cell_type": "code",
   "execution_count": null,
   "metadata": {
    "ExecuteTime": {
     "start_time": "2021-01-17T05:20:34.162Z"
    }
   },
   "outputs": [],
   "source": [
    "chol_clean.head()"
   ]
  },
  {
   "cell_type": "markdown",
   "metadata": {},
   "source": [
    "# Standard Biochemistry Profile"
   ]
  },
  {
   "cell_type": "code",
   "execution_count": null,
   "metadata": {
    "ExecuteTime": {
     "start_time": "2021-01-17T05:20:34.177Z"
    }
   },
   "outputs": [],
   "source": [
    "path = r'Data/BiochemistryProfile'\n",
    "df_biochem = pf.glob_concat(path, '*.XPT')"
   ]
  },
  {
   "cell_type": "code",
   "execution_count": null,
   "metadata": {
    "ExecuteTime": {
     "start_time": "2021-01-17T05:20:34.192Z"
    }
   },
   "outputs": [],
   "source": [
    "df_biochem.head()"
   ]
  },
  {
   "cell_type": "code",
   "execution_count": null,
   "metadata": {
    "ExecuteTime": {
     "start_time": "2021-01-17T05:20:34.205Z"
    }
   },
   "outputs": [],
   "source": [
    "df_biochem.info()"
   ]
  },
  {
   "cell_type": "code",
   "execution_count": null,
   "metadata": {
    "ExecuteTime": {
     "start_time": "2021-01-17T05:20:34.218Z"
    }
   },
   "outputs": [],
   "source": [
    "df_biochem.columns"
   ]
  },
  {
   "cell_type": "code",
   "execution_count": null,
   "metadata": {
    "ExecuteTime": {
     "start_time": "2021-01-17T05:20:34.230Z"
    }
   },
   "outputs": [],
   "source": [
    "biochem_tokeep = ['LBXSAL', 'LBXSATSI', 'LBXSASSI', 'LBXSAPSI', 'LBXSBU', \n",
    "                  'LBXSCA', 'LBXSC3SI', 'LBXSCR', 'LBXSGTSI', 'LBXSGL', \n",
    "                  'LBXSIR', 'LBXSLDSI', 'LBXSPH', 'LBXSTB', 'LBXSTP', 'LBXSUA', \n",
    "                  'LBXSNASI', 'LBXSKSI', 'LBXSCLSI', 'LBXSOSSI', 'LBXSGB']\n",
    "biochem_clean = pf.cols_tokeep(df_biochem, biochem_tokeep)"
   ]
  },
  {
   "cell_type": "code",
   "execution_count": null,
   "metadata": {
    "ExecuteTime": {
     "start_time": "2021-01-17T05:20:34.242Z"
    }
   },
   "outputs": [],
   "source": [
    "biochem_clean.info()"
   ]
  },
  {
   "cell_type": "markdown",
   "metadata": {},
   "source": [
    "## Renaming Columns"
   ]
  },
  {
   "cell_type": "code",
   "execution_count": null,
   "metadata": {
    "ExecuteTime": {
     "start_time": "2021-01-17T05:20:34.256Z"
    }
   },
   "outputs": [],
   "source": [
    "biochem_clean.columns"
   ]
  },
  {
   "cell_type": "code",
   "execution_count": null,
   "metadata": {
    "ExecuteTime": {
     "start_time": "2021-01-17T05:20:34.268Z"
    }
   },
   "outputs": [],
   "source": [
    "biochem_clean.rename(columns={'LBXSAL': 'albumin', \n",
    "                           'LBXSATSI': 'ALT', \n",
    "                           'LBXSASSI': 'AST', \n",
    "                           'LBXSAPSI': 'ALP', \n",
    "                           'LBXSBU': 'BUN', 'LBXSCA': 'calcium',\n",
    "                           'LBXSC3SI': 'CO2', \n",
    "                           'LBXSCR': 'creatinine', \n",
    "                           'LBXSGTSI': 'GGT', \n",
    "                           'LBXSGL': 'glucose', \n",
    "                           'LBXSIR': 'iron', \n",
    "                           'LBXSLDSI': 'LHD',\n",
    "                           'LBXSPH': 'phosphorus', \n",
    "                           'LBXSTB': 'bilirubin', \n",
    "                           'LBXSTP': 'total_protein', \n",
    "                           'LBXSUA': 'uric_acid', \n",
    "                           'LBXSNASI': 'sodium', \n",
    "                           'LBXSKSI': 'potassium',\n",
    "                           'LBXSCLSI': 'chloride', \n",
    "                           'LBXSOSSI': 'osmolality', \n",
    "                           'LBXSGB': 'globulin'\n",
    "                            }, inplace=True)"
   ]
  },
  {
   "cell_type": "code",
   "execution_count": null,
   "metadata": {
    "ExecuteTime": {
     "start_time": "2021-01-17T05:20:34.281Z"
    }
   },
   "outputs": [],
   "source": [
    "biochem_clean.info()"
   ]
  },
  {
   "cell_type": "markdown",
   "metadata": {},
   "source": [
    "## Clean Column Values"
   ]
  },
  {
   "cell_type": "code",
   "execution_count": null,
   "metadata": {
    "ExecuteTime": {
     "start_time": "2021-01-17T05:20:34.305Z"
    }
   },
   "outputs": [],
   "source": [
    "pf.val_counts(biochem_clean)"
   ]
  },
  {
   "cell_type": "code",
   "execution_count": null,
   "metadata": {
    "ExecuteTime": {
     "start_time": "2021-01-17T05:20:34.318Z"
    }
   },
   "outputs": [],
   "source": [
    "biochem_clean.fillna(0, inplace=True)"
   ]
  },
  {
   "cell_type": "code",
   "execution_count": null,
   "metadata": {
    "ExecuteTime": {
     "start_time": "2021-01-17T05:20:34.331Z"
    }
   },
   "outputs": [],
   "source": [
    "int_cols = ['ALT', 'AST', 'ALP', 'BUN', 'CO2', 'GGT', 'glucose', 'iron', 'LHD', \n",
    "            'sodium', 'chloride', 'osmolality']\n",
    "for col in int_cols:\n",
    "    biochem_clean[col] = biochem_clean[col].astype('int64')"
   ]
  },
  {
   "cell_type": "code",
   "execution_count": null,
   "metadata": {
    "ExecuteTime": {
     "start_time": "2021-01-17T05:20:34.344Z"
    }
   },
   "outputs": [],
   "source": [
    "biochem_clean.isna().sum()"
   ]
  },
  {
   "cell_type": "code",
   "execution_count": null,
   "metadata": {
    "ExecuteTime": {
     "start_time": "2021-01-17T05:20:34.357Z"
    }
   },
   "outputs": [],
   "source": [
    "biochem_clean.info()"
   ]
  },
  {
   "cell_type": "code",
   "execution_count": null,
   "metadata": {
    "ExecuteTime": {
     "start_time": "2021-01-17T05:20:34.370Z"
    }
   },
   "outputs": [],
   "source": [
    "biochem_clean.head()"
   ]
  },
  {
   "cell_type": "markdown",
   "metadata": {},
   "source": [
    "# Blood Count"
   ]
  },
  {
   "cell_type": "code",
   "execution_count": null,
   "metadata": {
    "ExecuteTime": {
     "start_time": "2021-01-17T05:20:34.387Z"
    }
   },
   "outputs": [],
   "source": [
    "path = r'Data/BloodCount'\n",
    "df_count = pf.glob_concat(path, '*.XPT')"
   ]
  },
  {
   "cell_type": "code",
   "execution_count": null,
   "metadata": {
    "ExecuteTime": {
     "start_time": "2021-01-17T05:20:34.401Z"
    }
   },
   "outputs": [],
   "source": [
    "df_count.head()"
   ]
  },
  {
   "cell_type": "code",
   "execution_count": null,
   "metadata": {
    "ExecuteTime": {
     "start_time": "2021-01-17T05:20:34.414Z"
    }
   },
   "outputs": [],
   "source": [
    "df_count.info()"
   ]
  },
  {
   "cell_type": "code",
   "execution_count": null,
   "metadata": {
    "ExecuteTime": {
     "start_time": "2021-01-17T05:20:34.427Z"
    }
   },
   "outputs": [],
   "source": [
    "count_clean = df_count.drop(columns=['LBXNRBC'])"
   ]
  },
  {
   "cell_type": "markdown",
   "metadata": {
    "ExecuteTime": {
     "end_time": "2021-01-07T22:27:53.512085Z",
     "start_time": "2021-01-07T22:27:53.502079Z"
    }
   },
   "source": [
    "## Renaming Columns"
   ]
  },
  {
   "cell_type": "code",
   "execution_count": null,
   "metadata": {
    "ExecuteTime": {
     "start_time": "2021-01-17T05:20:34.446Z"
    }
   },
   "outputs": [],
   "source": [
    "count_clean.columns"
   ]
  },
  {
   "cell_type": "code",
   "execution_count": null,
   "metadata": {
    "ExecuteTime": {
     "start_time": "2021-01-17T05:20:34.459Z"
    }
   },
   "outputs": [],
   "source": [
    "count_clean.rename(columns={'LBXWBCSI': 'white_BCC', \n",
    "                            'LBXLYPCT': 'lymphocyte_percent', \n",
    "                            'LBXMOPCT': 'monocyte_percent', \n",
    "                            'LBXNEPCT': 'neutrophils_percent', \n",
    "                            'LBXEOPCT': 'eosinophils_percent', \n",
    "                            'LBXBAPCT': 'basophils_percent',\n",
    "                            'LBDLYMNO': 'lymphocyte_count', \n",
    "                            'LBDMONO': 'monocyte_count', \n",
    "                            'LBDNENO': 'neutrophils_count', \n",
    "                            'LBDEONO': 'eosinophils_count', \n",
    "                            'LBDBANO': 'basophils_count', \n",
    "                            'LBXRBCSI': 'RBC_count',\n",
    "                            'LBXHGB': 'hemoglobin', \n",
    "                            'LBXHCT': 'hematocrit', \n",
    "                            'LBXMCVSI': 'MCV', \n",
    "                            'LBXMCHSI': 'MCH', \n",
    "                            'LBXMC': 'MCHC', \n",
    "                            'LBXRDW': 'RDW',\n",
    "                            'LBXPLTSI': 'platelet_count', \n",
    "                            'LBXMPSI': 'MPV'\n",
    "                            }, inplace=True)"
   ]
  },
  {
   "cell_type": "code",
   "execution_count": null,
   "metadata": {
    "ExecuteTime": {
     "start_time": "2021-01-17T05:20:34.471Z"
    }
   },
   "outputs": [],
   "source": [
    "count_clean.info()"
   ]
  },
  {
   "cell_type": "markdown",
   "metadata": {},
   "source": [
    "## Clean Column Values"
   ]
  },
  {
   "cell_type": "code",
   "execution_count": null,
   "metadata": {
    "ExecuteTime": {
     "start_time": "2021-01-17T05:20:34.497Z"
    }
   },
   "outputs": [],
   "source": [
    "pf.val_counts(count_clean)"
   ]
  },
  {
   "cell_type": "code",
   "execution_count": null,
   "metadata": {
    "ExecuteTime": {
     "start_time": "2021-01-17T05:20:34.511Z"
    }
   },
   "outputs": [],
   "source": [
    "count_clean.fillna(0, inplace=True)"
   ]
  },
  {
   "cell_type": "code",
   "execution_count": null,
   "metadata": {
    "ExecuteTime": {
     "start_time": "2021-01-17T05:20:34.523Z"
    }
   },
   "outputs": [],
   "source": [
    "count_clean['platelet_count'] = count_clean['platelet_count'].astype('int64')"
   ]
  },
  {
   "cell_type": "code",
   "execution_count": null,
   "metadata": {
    "ExecuteTime": {
     "start_time": "2021-01-17T05:20:34.535Z"
    }
   },
   "outputs": [],
   "source": [
    "count_clean.isna().sum()"
   ]
  },
  {
   "cell_type": "code",
   "execution_count": null,
   "metadata": {
    "ExecuteTime": {
     "start_time": "2021-01-17T05:20:34.548Z"
    }
   },
   "outputs": [],
   "source": [
    "count_clean.head()"
   ]
  },
  {
   "cell_type": "code",
   "execution_count": null,
   "metadata": {
    "ExecuteTime": {
     "start_time": "2021-01-17T05:20:34.559Z"
    }
   },
   "outputs": [],
   "source": [
    "count_clean.info()"
   ]
  },
  {
   "cell_type": "markdown",
   "metadata": {},
   "source": [
    "# Occupation"
   ]
  },
  {
   "cell_type": "code",
   "execution_count": null,
   "metadata": {
    "ExecuteTime": {
     "start_time": "2021-01-17T05:20:34.577Z"
    }
   },
   "outputs": [],
   "source": [
    "path = r'Data/Occupation'\n",
    "df_occupation = pf.glob_concat(path, '*.XPT')"
   ]
  },
  {
   "cell_type": "code",
   "execution_count": null,
   "metadata": {
    "ExecuteTime": {
     "start_time": "2021-01-17T05:20:34.590Z"
    }
   },
   "outputs": [],
   "source": [
    "df_occupation.head()"
   ]
  },
  {
   "cell_type": "code",
   "execution_count": null,
   "metadata": {
    "ExecuteTime": {
     "start_time": "2021-01-17T05:20:34.602Z"
    }
   },
   "outputs": [],
   "source": [
    "df_occupation.info()"
   ]
  },
  {
   "cell_type": "code",
   "execution_count": null,
   "metadata": {
    "ExecuteTime": {
     "start_time": "2021-01-17T05:20:34.615Z"
    }
   },
   "outputs": [],
   "source": [
    "df_occupation.columns"
   ]
  },
  {
   "cell_type": "code",
   "execution_count": null,
   "metadata": {
    "ExecuteTime": {
     "start_time": "2021-01-17T05:20:34.634Z"
    }
   },
   "outputs": [],
   "source": [
    "occupation_tokeep = ['OCQ210', 'OCQ260', 'OCD270', 'OCQ380',]\n",
    "occupation_clean = pf.cols_tokeep(df_occupation, occupation_tokeep)"
   ]
  },
  {
   "cell_type": "code",
   "execution_count": null,
   "metadata": {
    "ExecuteTime": {
     "start_time": "2021-01-17T05:20:34.649Z"
    }
   },
   "outputs": [],
   "source": [
    "occupation_clean.head()"
   ]
  },
  {
   "cell_type": "markdown",
   "metadata": {},
   "source": [
    "## Renaming Columns"
   ]
  },
  {
   "cell_type": "code",
   "execution_count": null,
   "metadata": {
    "ExecuteTime": {
     "start_time": "2021-01-17T05:20:34.663Z"
    }
   },
   "outputs": [],
   "source": [
    "occupation_clean.columns"
   ]
  },
  {
   "cell_type": "code",
   "execution_count": null,
   "metadata": {
    "ExecuteTime": {
     "start_time": "2021-01-17T05:20:34.675Z"
    }
   },
   "outputs": [],
   "source": [
    "occupation_clean.rename(columns={'OCQ210': 'full_time_work', \n",
    "                            'OCQ260': 'work_type', \n",
    "                            'OCD270': 'time_in_current_job',\n",
    "                            'OCQ380': 'out_of_work'\n",
    "                            }, inplace=True)"
   ]
  },
  {
   "cell_type": "code",
   "execution_count": null,
   "metadata": {
    "ExecuteTime": {
     "start_time": "2021-01-17T05:20:34.688Z"
    }
   },
   "outputs": [],
   "source": [
    "occupation_clean.info()"
   ]
  },
  {
   "cell_type": "markdown",
   "metadata": {},
   "source": [
    "## Clean Column Values"
   ]
  },
  {
   "cell_type": "code",
   "execution_count": null,
   "metadata": {
    "ExecuteTime": {
     "start_time": "2021-01-17T05:20:34.705Z"
    }
   },
   "outputs": [],
   "source": [
    "pf.val_counts(occupation_clean)"
   ]
  },
  {
   "cell_type": "code",
   "execution_count": null,
   "metadata": {
    "ExecuteTime": {
     "start_time": "2021-01-17T05:20:34.717Z"
    }
   },
   "outputs": [],
   "source": [
    "occupation_clean['full_time_work'].replace({1.000:'Yes', \n",
    "                            2.000:'No', \n",
    "                            7.000:'Missing', \n",
    "                            9.000:'Missing'}, \n",
    "                           inplace=True)"
   ]
  },
  {
   "cell_type": "code",
   "execution_count": null,
   "metadata": {
    "ExecuteTime": {
     "start_time": "2021-01-17T05:20:34.729Z"
    }
   },
   "outputs": [],
   "source": [
    "occupation_clean['work_type'].replace({1.000:'Private Wage Worker', \n",
    "                            2.000:'Government', \n",
    "                            3.000:'Government', \n",
    "                            4.000:'Government', \n",
    "                            5.000:'Self Employed',\n",
    "                            6.000:'Family Business',\n",
    "                            77.000:'Missing',\n",
    "                            99.000:'Missing'}, \n",
    "                           inplace=True)"
   ]
  },
  {
   "cell_type": "code",
   "execution_count": null,
   "metadata": {
    "ExecuteTime": {
     "start_time": "2021-01-17T05:20:34.745Z"
    }
   },
   "outputs": [],
   "source": [
    "occupation_clean['time_in_current_job'].replace({77777.000: 0, \n",
    "                            99999.000: 0}, \n",
    "                           inplace=True)"
   ]
  },
  {
   "cell_type": "code",
   "execution_count": null,
   "metadata": {
    "ExecuteTime": {
     "start_time": "2021-01-17T05:20:34.758Z"
    }
   },
   "outputs": [],
   "source": [
    "occupation_clean['out_of_work'].replace({1.000:'Home Caretaker', \n",
    "                            2.000:'School', \n",
    "                            3.000:'Retired', \n",
    "                            4.000:'Health', \n",
    "                            5.000:'Layoff',\n",
    "                            6.000:'Disabled',\n",
    "                            7.000:'Other',\n",
    "                            77.000:'Missing',\n",
    "                            99.000:'Missing'}, \n",
    "                           inplace=True)"
   ]
  },
  {
   "cell_type": "code",
   "execution_count": null,
   "metadata": {
    "ExecuteTime": {
     "start_time": "2021-01-17T05:20:34.771Z"
    }
   },
   "outputs": [],
   "source": [
    "occupation_clean['time_in_current_job'].fillna(0, inplace=True)"
   ]
  },
  {
   "cell_type": "code",
   "execution_count": null,
   "metadata": {
    "ExecuteTime": {
     "start_time": "2021-01-17T05:20:34.785Z"
    }
   },
   "outputs": [],
   "source": [
    "occupation_clean['time_in_current_job'] = occupation_clean['time_in_current_job'].astype('int64')"
   ]
  },
  {
   "cell_type": "code",
   "execution_count": null,
   "metadata": {
    "ExecuteTime": {
     "start_time": "2021-01-17T05:20:34.799Z"
    }
   },
   "outputs": [],
   "source": [
    "occupation_clean.isna().sum()"
   ]
  },
  {
   "cell_type": "code",
   "execution_count": null,
   "metadata": {
    "ExecuteTime": {
     "start_time": "2021-01-17T05:20:34.810Z"
    }
   },
   "outputs": [],
   "source": [
    "occupation_clean.fillna('Missing', inplace=True)"
   ]
  },
  {
   "cell_type": "code",
   "execution_count": null,
   "metadata": {
    "ExecuteTime": {
     "start_time": "2021-01-17T05:20:34.822Z"
    }
   },
   "outputs": [],
   "source": [
    "pf.val_counts(occupation_clean)"
   ]
  },
  {
   "cell_type": "code",
   "execution_count": null,
   "metadata": {
    "ExecuteTime": {
     "start_time": "2021-01-17T05:20:34.835Z"
    }
   },
   "outputs": [],
   "source": [
    "occupation_clean.head()"
   ]
  },
  {
   "cell_type": "code",
   "execution_count": null,
   "metadata": {
    "ExecuteTime": {
     "start_time": "2021-01-17T05:20:34.847Z"
    }
   },
   "outputs": [],
   "source": [
    "occupation_clean.info()"
   ]
  },
  {
   "cell_type": "markdown",
   "metadata": {},
   "source": [
    "# Sleep Disorders"
   ]
  },
  {
   "cell_type": "code",
   "execution_count": null,
   "metadata": {
    "ExecuteTime": {
     "start_time": "2021-01-17T05:20:34.863Z"
    }
   },
   "outputs": [],
   "source": [
    "path = r'Data/SleepDisorders'\n",
    "df_sleep = pf.glob_concat(path, '*.XPT')"
   ]
  },
  {
   "cell_type": "code",
   "execution_count": null,
   "metadata": {
    "ExecuteTime": {
     "start_time": "2021-01-17T05:20:34.876Z"
    }
   },
   "outputs": [],
   "source": [
    "df_sleep.head()"
   ]
  },
  {
   "cell_type": "code",
   "execution_count": null,
   "metadata": {
    "ExecuteTime": {
     "start_time": "2021-01-17T05:20:34.888Z"
    }
   },
   "outputs": [],
   "source": [
    "df_sleep.info()"
   ]
  },
  {
   "cell_type": "code",
   "execution_count": null,
   "metadata": {
    "ExecuteTime": {
     "start_time": "2021-01-17T05:20:34.900Z"
    }
   },
   "outputs": [],
   "source": [
    "df_sleep.columns"
   ]
  },
  {
   "cell_type": "code",
   "execution_count": null,
   "metadata": {
    "ExecuteTime": {
     "start_time": "2021-01-17T05:20:34.913Z"
    }
   },
   "outputs": [],
   "source": [
    "sleep_tokeep = ['SLQ050', 'SLD010H', 'SLD012']\n",
    "sleep_clean = pf.cols_tokeep(df_sleep, sleep_tokeep)"
   ]
  },
  {
   "cell_type": "code",
   "execution_count": null,
   "metadata": {
    "ExecuteTime": {
     "start_time": "2021-01-17T05:20:34.931Z"
    }
   },
   "outputs": [],
   "source": [
    "sleep_clean.info()"
   ]
  },
  {
   "cell_type": "markdown",
   "metadata": {},
   "source": [
    "## Sleep Hours"
   ]
  },
  {
   "cell_type": "code",
   "execution_count": null,
   "metadata": {
    "ExecuteTime": {
     "start_time": "2021-01-17T05:20:34.945Z"
    }
   },
   "outputs": [],
   "source": [
    "sleep_clean.SLD010H.value_counts(dropna=False)"
   ]
  },
  {
   "cell_type": "code",
   "execution_count": null,
   "metadata": {
    "ExecuteTime": {
     "start_time": "2021-01-17T05:20:34.957Z"
    }
   },
   "outputs": [],
   "source": [
    "sleep_clean.SLD012.value_counts(dropna=False)"
   ]
  },
  {
   "cell_type": "code",
   "execution_count": null,
   "metadata": {
    "ExecuteTime": {
     "start_time": "2021-01-17T05:20:34.969Z"
    }
   },
   "outputs": [],
   "source": [
    "sleep_clean.SLD010H.fillna(0, inplace=True)\n",
    "sleep_clean.SLD012.fillna(0, inplace=True)"
   ]
  },
  {
   "cell_type": "code",
   "execution_count": null,
   "metadata": {
    "ExecuteTime": {
     "start_time": "2021-01-17T05:20:34.983Z"
    }
   },
   "outputs": [],
   "source": [
    "sleep_clean['sleep_hours'] = sleep_clean['SLD010H'] + sleep_clean['SLD012']"
   ]
  },
  {
   "cell_type": "code",
   "execution_count": null,
   "metadata": {
    "ExecuteTime": {
     "start_time": "2021-01-17T05:20:34.998Z"
    }
   },
   "outputs": [],
   "source": [
    "sleep_clean.sleep_hours.value_counts(dropna=False)"
   ]
  },
  {
   "cell_type": "code",
   "execution_count": null,
   "metadata": {
    "ExecuteTime": {
     "start_time": "2021-01-17T05:20:35.009Z"
    }
   },
   "outputs": [],
   "source": [
    "sleep_clean.sleep_hours.replace({77.000: 0, \n",
    "                            99.000: 0}, \n",
    "                           inplace=True)"
   ]
  },
  {
   "cell_type": "code",
   "execution_count": null,
   "metadata": {
    "ExecuteTime": {
     "start_time": "2021-01-17T05:20:35.024Z"
    }
   },
   "outputs": [],
   "source": [
    "sleep_clean.drop(columns=['SLD010H', 'SLD012'], inplace=True)"
   ]
  },
  {
   "cell_type": "code",
   "execution_count": null,
   "metadata": {
    "ExecuteTime": {
     "start_time": "2021-01-17T05:20:35.041Z"
    }
   },
   "outputs": [],
   "source": [
    "sleep_clean.info()"
   ]
  },
  {
   "cell_type": "markdown",
   "metadata": {},
   "source": [
    "## Trouble Sleeping"
   ]
  },
  {
   "cell_type": "code",
   "execution_count": null,
   "metadata": {
    "ExecuteTime": {
     "start_time": "2021-01-17T05:20:35.059Z"
    }
   },
   "outputs": [],
   "source": [
    "sleep_clean.rename(columns={'SLQ050': 'trouble_sleeping_history'}, \n",
    "                   inplace=True)"
   ]
  },
  {
   "cell_type": "code",
   "execution_count": null,
   "metadata": {
    "ExecuteTime": {
     "start_time": "2021-01-17T05:20:35.071Z"
    }
   },
   "outputs": [],
   "source": [
    "sleep_clean.trouble_sleeping_history.value_counts(dropna=False)"
   ]
  },
  {
   "cell_type": "code",
   "execution_count": null,
   "metadata": {
    "ExecuteTime": {
     "start_time": "2021-01-17T05:20:35.083Z"
    }
   },
   "outputs": [],
   "source": [
    "sleep_clean['trouble_sleeping_history'].replace({2.000: 0, \n",
    "                            9.000: 0, \n",
    "                            7.000: 0}, \n",
    "                           inplace=True)"
   ]
  },
  {
   "cell_type": "code",
   "execution_count": null,
   "metadata": {
    "ExecuteTime": {
     "start_time": "2021-01-17T05:20:35.095Z"
    }
   },
   "outputs": [],
   "source": [
    "sleep_clean.trouble_sleeping_history.fillna(0, inplace=True)"
   ]
  },
  {
   "cell_type": "code",
   "execution_count": null,
   "metadata": {
    "ExecuteTime": {
     "start_time": "2021-01-17T05:20:35.110Z"
    }
   },
   "outputs": [],
   "source": [
    "sleep_clean['trouble_sleeping_history'] = sleep_clean['trouble_sleeping_history'].astype('int64')"
   ]
  },
  {
   "cell_type": "code",
   "execution_count": null,
   "metadata": {
    "ExecuteTime": {
     "start_time": "2021-01-17T05:20:35.124Z"
    }
   },
   "outputs": [],
   "source": [
    "pf.val_counts(sleep_clean)"
   ]
  },
  {
   "cell_type": "code",
   "execution_count": null,
   "metadata": {
    "ExecuteTime": {
     "start_time": "2021-01-17T05:20:35.137Z"
    }
   },
   "outputs": [],
   "source": [
    "sleep_clean.isna().sum()"
   ]
  },
  {
   "cell_type": "code",
   "execution_count": null,
   "metadata": {
    "ExecuteTime": {
     "start_time": "2021-01-17T05:20:35.149Z"
    }
   },
   "outputs": [],
   "source": [
    "sleep_clean.head()"
   ]
  },
  {
   "cell_type": "code",
   "execution_count": null,
   "metadata": {
    "ExecuteTime": {
     "start_time": "2021-01-17T05:20:35.163Z"
    }
   },
   "outputs": [],
   "source": [
    "sleep_clean.info()"
   ]
  },
  {
   "cell_type": "markdown",
   "metadata": {},
   "source": [
    "# Physical Activity"
   ]
  },
  {
   "cell_type": "code",
   "execution_count": null,
   "metadata": {
    "ExecuteTime": {
     "start_time": "2021-01-17T05:20:35.178Z"
    }
   },
   "outputs": [],
   "source": [
    "path = r'Data/PhysicalActivity'\n",
    "df_activity = pf.glob_concat(path, '*.XPT')"
   ]
  },
  {
   "cell_type": "code",
   "execution_count": null,
   "metadata": {
    "ExecuteTime": {
     "start_time": "2021-01-17T05:20:35.194Z"
    }
   },
   "outputs": [],
   "source": [
    "df_activity.head()"
   ]
  },
  {
   "cell_type": "code",
   "execution_count": null,
   "metadata": {
    "ExecuteTime": {
     "start_time": "2021-01-17T05:20:35.207Z"
    }
   },
   "outputs": [],
   "source": [
    "df_activity.info()"
   ]
  },
  {
   "cell_type": "code",
   "execution_count": null,
   "metadata": {
    "ExecuteTime": {
     "start_time": "2021-01-17T05:20:35.220Z"
    }
   },
   "outputs": [],
   "source": [
    "list(df_activity.columns)"
   ]
  },
  {
   "cell_type": "code",
   "execution_count": null,
   "metadata": {
    "ExecuteTime": {
     "start_time": "2021-01-17T05:20:35.232Z"
    }
   },
   "outputs": [],
   "source": [
    "activity_tokeep = ['PAD680', 'PAD600', 'PAD590', 'PAQ180', 'PAQ605', 'PAQ620', \n",
    "                   'PAQ650', 'PAD200', 'PAQ665', 'PAD320']\n",
    "activity_clean = pf.cols_tokeep(df_activity, activity_tokeep)"
   ]
  },
  {
   "cell_type": "code",
   "execution_count": null,
   "metadata": {
    "ExecuteTime": {
     "start_time": "2021-01-17T05:20:35.244Z"
    }
   },
   "outputs": [],
   "source": [
    "activity_clean.info()"
   ]
  },
  {
   "cell_type": "markdown",
   "metadata": {},
   "source": [
    "## Vigorous Recreation"
   ]
  },
  {
   "cell_type": "code",
   "execution_count": null,
   "metadata": {
    "ExecuteTime": {
     "start_time": "2021-01-17T05:20:35.262Z"
    }
   },
   "outputs": [],
   "source": [
    "activity_clean.PAQ650.value_counts(dropna=False)"
   ]
  },
  {
   "cell_type": "code",
   "execution_count": null,
   "metadata": {
    "ExecuteTime": {
     "start_time": "2021-01-17T05:20:35.280Z"
    }
   },
   "outputs": [],
   "source": [
    "activity_clean.PAD200.value_counts(dropna=False)"
   ]
  },
  {
   "cell_type": "code",
   "execution_count": null,
   "metadata": {
    "ExecuteTime": {
     "start_time": "2021-01-17T05:20:35.294Z"
    }
   },
   "outputs": [],
   "source": [
    "activity_clean.PAQ650.fillna(0, inplace=True)\n",
    "activity_clean.PAD200.fillna(0, inplace=True)"
   ]
  },
  {
   "cell_type": "code",
   "execution_count": null,
   "metadata": {
    "ExecuteTime": {
     "start_time": "2021-01-17T05:20:35.306Z"
    }
   },
   "outputs": [],
   "source": [
    "activity_clean['vigorous_recreation'] = activity_clean['PAQ650'] + activity_clean['PAD200']"
   ]
  },
  {
   "cell_type": "code",
   "execution_count": null,
   "metadata": {
    "ExecuteTime": {
     "start_time": "2021-01-17T05:20:35.318Z"
    }
   },
   "outputs": [],
   "source": [
    "activity_clean.vigorous_recreation.value_counts(dropna=False)"
   ]
  },
  {
   "cell_type": "code",
   "execution_count": null,
   "metadata": {
    "ExecuteTime": {
     "start_time": "2021-01-17T05:20:35.331Z"
    }
   },
   "outputs": [],
   "source": [
    "activity_clean.vigorous_recreation.replace({1.000: 'Yes',\n",
    "                                            2.000: 'No', \n",
    "                                            3.000: 'No', \n",
    "                                            7.000: 'Missing', \n",
    "                                            9.000: 'Missing', \n",
    "                                            0.000: 'Missing'}, \n",
    "                                           inplace=True)"
   ]
  },
  {
   "cell_type": "code",
   "execution_count": null,
   "metadata": {
    "ExecuteTime": {
     "start_time": "2021-01-17T05:20:35.343Z"
    }
   },
   "outputs": [],
   "source": [
    "activity_clean.vigorous_recreation.value_counts(dropna=False)"
   ]
  },
  {
   "cell_type": "code",
   "execution_count": null,
   "metadata": {
    "ExecuteTime": {
     "start_time": "2021-01-17T05:20:35.356Z"
    }
   },
   "outputs": [],
   "source": [
    "activity_clean.drop(columns=['PAQ650', 'PAD200'], inplace=True)"
   ]
  },
  {
   "cell_type": "code",
   "execution_count": null,
   "metadata": {
    "ExecuteTime": {
     "start_time": "2021-01-17T05:20:35.368Z"
    }
   },
   "outputs": [],
   "source": [
    "activity_clean.info()"
   ]
  },
  {
   "cell_type": "markdown",
   "metadata": {},
   "source": [
    "## Moderate Recreation"
   ]
  },
  {
   "cell_type": "code",
   "execution_count": null,
   "metadata": {
    "ExecuteTime": {
     "start_time": "2021-01-17T05:20:35.384Z"
    }
   },
   "outputs": [],
   "source": [
    "activity_clean.PAQ665.value_counts(dropna=False)"
   ]
  },
  {
   "cell_type": "code",
   "execution_count": null,
   "metadata": {
    "ExecuteTime": {
     "start_time": "2021-01-17T05:20:35.397Z"
    }
   },
   "outputs": [],
   "source": [
    "activity_clean.PAD320.value_counts(dropna=False)"
   ]
  },
  {
   "cell_type": "code",
   "execution_count": null,
   "metadata": {
    "ExecuteTime": {
     "start_time": "2021-01-17T05:20:35.412Z"
    }
   },
   "outputs": [],
   "source": [
    "activity_clean.PAQ665.fillna(0, inplace=True)\n",
    "activity_clean.PAD320.fillna(0, inplace=True)"
   ]
  },
  {
   "cell_type": "code",
   "execution_count": null,
   "metadata": {
    "ExecuteTime": {
     "start_time": "2021-01-17T05:20:35.426Z"
    }
   },
   "outputs": [],
   "source": [
    "activity_clean['moderate_recreation'] = activity_clean['PAQ665'] + activity_clean['PAD320']"
   ]
  },
  {
   "cell_type": "code",
   "execution_count": null,
   "metadata": {
    "ExecuteTime": {
     "start_time": "2021-01-17T05:20:35.443Z"
    }
   },
   "outputs": [],
   "source": [
    "activity_clean.moderate_recreation.value_counts(dropna=False)"
   ]
  },
  {
   "cell_type": "code",
   "execution_count": null,
   "metadata": {
    "ExecuteTime": {
     "start_time": "2021-01-17T05:20:35.460Z"
    }
   },
   "outputs": [],
   "source": [
    "activity_clean.moderate_recreation.replace({1.000: 'Yes',\n",
    "                                            2.000: 'No', \n",
    "                                            3.000: 'No', \n",
    "                                            7.000: 'Missing', \n",
    "                                            9.000: 'Missing', \n",
    "                                            0.000: 'Missing'}, \n",
    "                                           inplace=True)"
   ]
  },
  {
   "cell_type": "code",
   "execution_count": null,
   "metadata": {
    "ExecuteTime": {
     "start_time": "2021-01-17T05:20:35.474Z"
    }
   },
   "outputs": [],
   "source": [
    "activity_clean.moderate_recreation.value_counts(dropna=False)"
   ]
  },
  {
   "cell_type": "code",
   "execution_count": null,
   "metadata": {
    "ExecuteTime": {
     "start_time": "2021-01-17T05:20:35.492Z"
    }
   },
   "outputs": [],
   "source": [
    "activity_clean.drop(columns=['PAQ665', 'PAD320'], inplace=True)"
   ]
  },
  {
   "cell_type": "code",
   "execution_count": null,
   "metadata": {
    "ExecuteTime": {
     "start_time": "2021-01-17T05:20:35.504Z"
    }
   },
   "outputs": [],
   "source": [
    "activity_clean.info()"
   ]
  },
  {
   "cell_type": "markdown",
   "metadata": {},
   "source": [
    "## Sedentary Activity"
   ]
  },
  {
   "cell_type": "code",
   "execution_count": null,
   "metadata": {
    "ExecuteTime": {
     "start_time": "2021-01-17T05:20:35.521Z"
    }
   },
   "outputs": [],
   "source": [
    "activity_clean.PAD590.value_counts(dropna=False)"
   ]
  },
  {
   "cell_type": "code",
   "execution_count": null,
   "metadata": {
    "ExecuteTime": {
     "start_time": "2021-01-17T05:20:35.533Z"
    }
   },
   "outputs": [],
   "source": [
    "activity_clean.PAD600.value_counts(dropna=False)"
   ]
  },
  {
   "cell_type": "code",
   "execution_count": null,
   "metadata": {
    "ExecuteTime": {
     "start_time": "2021-01-17T05:20:35.545Z"
    }
   },
   "outputs": [],
   "source": [
    "activity_clean.PAD590 = activity_clean.PAD590.round(0)\n",
    "activity_clean.PAD600 = activity_clean.PAD600.round(0)\n",
    "activity_clean.PAD680 = activity_clean.PAD680.round(0)"
   ]
  },
  {
   "cell_type": "code",
   "execution_count": null,
   "metadata": {
    "ExecuteTime": {
     "start_time": "2021-01-17T05:20:35.557Z"
    }
   },
   "outputs": [],
   "source": [
    "activity_clean.PAD590.replace({1.000: 60,\n",
    "                            2.000: 120, \n",
    "                            3.000: 180, \n",
    "                            4.000: 240, \n",
    "                            5.000: 300,\n",
    "                            6.000: 0, \n",
    "                            0.000: 30, \n",
    "                            77.000: 0, \n",
    "                            99.000: 0}, \n",
    "                            inplace=True)\n",
    "activity_clean.PAD600.replace({1.000: 60,\n",
    "                            2.000: 120, \n",
    "                            3.000: 180, \n",
    "                            4.000: 240, \n",
    "                            5.000: 300,\n",
    "                            6.000: 0, \n",
    "                            0.000: 30, \n",
    "                            77.000: 0, \n",
    "                            99.000: 0}, \n",
    "                            inplace=True)"
   ]
  },
  {
   "cell_type": "code",
   "execution_count": null,
   "metadata": {
    "ExecuteTime": {
     "start_time": "2021-01-17T05:20:35.575Z"
    }
   },
   "outputs": [],
   "source": [
    "activity_clean.PAD590.value_counts(dropna=False)"
   ]
  },
  {
   "cell_type": "code",
   "execution_count": null,
   "metadata": {
    "ExecuteTime": {
     "start_time": "2021-01-17T05:20:35.589Z"
    }
   },
   "outputs": [],
   "source": [
    "activity_clean.PAD600.value_counts(dropna=False)"
   ]
  },
  {
   "cell_type": "code",
   "execution_count": null,
   "metadata": {
    "ExecuteTime": {
     "start_time": "2021-01-17T05:20:35.601Z"
    }
   },
   "outputs": [],
   "source": [
    "activity_clean.PAD590.fillna(0, inplace=True)\n",
    "activity_clean.PAD600.fillna(0, inplace=True)"
   ]
  },
  {
   "cell_type": "code",
   "execution_count": null,
   "metadata": {
    "ExecuteTime": {
     "start_time": "2021-01-17T05:20:35.613Z"
    }
   },
   "outputs": [],
   "source": [
    "activity_clean.PAD590.value_counts(dropna=False)"
   ]
  },
  {
   "cell_type": "code",
   "execution_count": null,
   "metadata": {
    "ExecuteTime": {
     "start_time": "2021-01-17T05:20:35.633Z"
    }
   },
   "outputs": [],
   "source": [
    "activity_clean['temp_sedentary'] = activity_clean['PAD590'] + activity_clean['PAD600'] "
   ]
  },
  {
   "cell_type": "code",
   "execution_count": null,
   "metadata": {
    "ExecuteTime": {
     "start_time": "2021-01-17T05:20:35.649Z"
    }
   },
   "outputs": [],
   "source": [
    "activity_clean.temp_sedentary.value_counts(dropna=False)"
   ]
  },
  {
   "cell_type": "code",
   "execution_count": null,
   "metadata": {
    "ExecuteTime": {
     "start_time": "2021-01-17T05:20:35.665Z"
    },
    "scrolled": true
   },
   "outputs": [],
   "source": [
    "activity_clean.PAD680.value_counts(dropna=False)"
   ]
  },
  {
   "cell_type": "code",
   "execution_count": null,
   "metadata": {
    "ExecuteTime": {
     "start_time": "2021-01-17T05:20:35.677Z"
    }
   },
   "outputs": [],
   "source": [
    "activity_clean.PAD680.fillna(activity_clean.temp_sedentary, inplace=True)"
   ]
  },
  {
   "cell_type": "code",
   "execution_count": null,
   "metadata": {
    "ExecuteTime": {
     "start_time": "2021-01-17T05:20:35.688Z"
    },
    "scrolled": true
   },
   "outputs": [],
   "source": [
    "activity_clean.PAD680.value_counts(dropna=False)"
   ]
  },
  {
   "cell_type": "code",
   "execution_count": null,
   "metadata": {
    "ExecuteTime": {
     "start_time": "2021-01-17T05:20:35.701Z"
    }
   },
   "outputs": [],
   "source": [
    "activity_clean['sedentary_time'] = activity_clean['PAD680']\n",
    "activity_clean.sedentary_time.replace({7777: 0,\n",
    "                                9999: 0}, \n",
    "                                inplace=True)\n",
    "activity_clean['sedentary_time'] = activity_clean['sedentary_time'].astype('int64')"
   ]
  },
  {
   "cell_type": "code",
   "execution_count": null,
   "metadata": {
    "ExecuteTime": {
     "start_time": "2021-01-17T05:20:35.714Z"
    }
   },
   "outputs": [],
   "source": [
    "activity_clean['sedentary_time'] = activity_clean['sedentary_time'].astype('int64')"
   ]
  },
  {
   "cell_type": "code",
   "execution_count": null,
   "metadata": {
    "ExecuteTime": {
     "start_time": "2021-01-17T05:20:35.729Z"
    },
    "scrolled": true
   },
   "outputs": [],
   "source": [
    "activity_clean.sedentary_time.value_counts(dropna=False)"
   ]
  },
  {
   "cell_type": "code",
   "execution_count": null,
   "metadata": {
    "ExecuteTime": {
     "start_time": "2021-01-17T05:20:35.742Z"
    }
   },
   "outputs": [],
   "source": [
    "activity_clean.drop(columns=['temp_sedentary', 'PAD680', 'PAD590', 'PAD600'], inplace=True)"
   ]
  },
  {
   "cell_type": "code",
   "execution_count": null,
   "metadata": {
    "ExecuteTime": {
     "start_time": "2021-01-17T05:20:35.754Z"
    }
   },
   "outputs": [],
   "source": [
    "activity_clean.info()"
   ]
  },
  {
   "cell_type": "markdown",
   "metadata": {},
   "source": [
    "## Work Activity"
   ]
  },
  {
   "cell_type": "code",
   "execution_count": null,
   "metadata": {
    "ExecuteTime": {
     "start_time": "2021-01-17T05:20:35.769Z"
    }
   },
   "outputs": [],
   "source": [
    "activity_clean.PAQ180.value_counts(dropna=False)"
   ]
  },
  {
   "cell_type": "code",
   "execution_count": null,
   "metadata": {
    "ExecuteTime": {
     "start_time": "2021-01-17T05:20:35.786Z"
    }
   },
   "outputs": [],
   "source": [
    "activity_clean['vigorous_work'] = activity_clean['PAQ180']"
   ]
  },
  {
   "cell_type": "code",
   "execution_count": null,
   "metadata": {
    "ExecuteTime": {
     "start_time": "2021-01-17T05:20:35.798Z"
    }
   },
   "outputs": [],
   "source": [
    "activity_clean.vigorous_work.replace({1.000: 0,\n",
    "                            2.000: 0, \n",
    "                            3.000: 0, \n",
    "                            4.000: 1, \n",
    "                            7.000: 0,\n",
    "                            9.000: 0}, \n",
    "                            inplace=True)\n",
    "activity_clean.vigorous_work.fillna(0, inplace=True)"
   ]
  },
  {
   "cell_type": "code",
   "execution_count": null,
   "metadata": {
    "ExecuteTime": {
     "start_time": "2021-01-17T05:20:35.810Z"
    }
   },
   "outputs": [],
   "source": [
    "activity_clean.vigorous_work.value_counts(dropna=False)"
   ]
  },
  {
   "cell_type": "code",
   "execution_count": null,
   "metadata": {
    "ExecuteTime": {
     "start_time": "2021-01-17T05:20:35.821Z"
    }
   },
   "outputs": [],
   "source": [
    "activity_clean['moderate_work'] = activity_clean['PAQ180']"
   ]
  },
  {
   "cell_type": "code",
   "execution_count": null,
   "metadata": {
    "ExecuteTime": {
     "start_time": "2021-01-17T05:20:35.834Z"
    }
   },
   "outputs": [],
   "source": [
    "activity_clean.moderate_work.replace({1.000: 0,\n",
    "                            2.000: 0, \n",
    "                            3.000: 1, \n",
    "                            4.000: 0, \n",
    "                            7.000: 0,\n",
    "                            9.000: 0}, \n",
    "                            inplace=True)\n",
    "activity_clean.moderate_work.fillna(0, inplace=True)"
   ]
  },
  {
   "cell_type": "code",
   "execution_count": null,
   "metadata": {
    "ExecuteTime": {
     "start_time": "2021-01-17T05:20:35.851Z"
    }
   },
   "outputs": [],
   "source": [
    "activity_clean.moderate_work.value_counts(dropna=False)"
   ]
  },
  {
   "cell_type": "code",
   "execution_count": null,
   "metadata": {
    "ExecuteTime": {
     "start_time": "2021-01-17T05:20:35.873Z"
    }
   },
   "outputs": [],
   "source": [
    "activity_clean.PAQ605.value_counts(dropna=False)"
   ]
  },
  {
   "cell_type": "code",
   "execution_count": null,
   "metadata": {
    "ExecuteTime": {
     "start_time": "2021-01-17T05:20:35.886Z"
    }
   },
   "outputs": [],
   "source": [
    "activity_clean.PAQ605.replace({2.000: 0, \n",
    "                            7.000: 0,\n",
    "                            9.000: 0}, \n",
    "                            inplace=True)\n",
    "activity_clean.PAQ605.fillna(0, inplace=True)"
   ]
  },
  {
   "cell_type": "code",
   "execution_count": null,
   "metadata": {
    "ExecuteTime": {
     "start_time": "2021-01-17T05:20:35.898Z"
    }
   },
   "outputs": [],
   "source": [
    "activity_clean.PAQ605.value_counts(dropna=False)"
   ]
  },
  {
   "cell_type": "code",
   "execution_count": null,
   "metadata": {
    "ExecuteTime": {
     "start_time": "2021-01-17T05:20:35.911Z"
    }
   },
   "outputs": [],
   "source": [
    "activity_clean['vigorous_work'] = activity_clean['vigorous_work'] + activity_clean['PAQ605']"
   ]
  },
  {
   "cell_type": "code",
   "execution_count": null,
   "metadata": {
    "ExecuteTime": {
     "start_time": "2021-01-17T05:20:35.922Z"
    }
   },
   "outputs": [],
   "source": [
    "activity_clean['vigorous_work'].value_counts(dropna=False)"
   ]
  },
  {
   "cell_type": "code",
   "execution_count": null,
   "metadata": {
    "ExecuteTime": {
     "start_time": "2021-01-17T05:20:35.936Z"
    }
   },
   "outputs": [],
   "source": [
    "activity_clean.PAQ620.value_counts(dropna=False)"
   ]
  },
  {
   "cell_type": "code",
   "execution_count": null,
   "metadata": {
    "ExecuteTime": {
     "start_time": "2021-01-17T05:20:35.951Z"
    }
   },
   "outputs": [],
   "source": [
    "activity_clean.PAQ620.replace({2.000: 0, \n",
    "                            7.000: 0,\n",
    "                            9.000: 0}, \n",
    "                            inplace=True)\n",
    "activity_clean.PAQ620.fillna(0, inplace=True)"
   ]
  },
  {
   "cell_type": "code",
   "execution_count": null,
   "metadata": {
    "ExecuteTime": {
     "start_time": "2021-01-17T05:20:35.963Z"
    }
   },
   "outputs": [],
   "source": [
    "activity_clean.PAQ620.value_counts(dropna=False)"
   ]
  },
  {
   "cell_type": "code",
   "execution_count": null,
   "metadata": {
    "ExecuteTime": {
     "start_time": "2021-01-17T05:20:35.975Z"
    }
   },
   "outputs": [],
   "source": [
    "activity_clean['moderate_work'] =activity_clean['moderate_work'] + activity_clean['PAQ620']"
   ]
  },
  {
   "cell_type": "code",
   "execution_count": null,
   "metadata": {
    "ExecuteTime": {
     "start_time": "2021-01-17T05:20:35.986Z"
    }
   },
   "outputs": [],
   "source": [
    "activity_clean['moderate_work'].value_counts(dropna=False)"
   ]
  },
  {
   "cell_type": "code",
   "execution_count": null,
   "metadata": {
    "ExecuteTime": {
     "start_time": "2021-01-17T05:20:35.998Z"
    }
   },
   "outputs": [],
   "source": [
    "activity_clean['moderate_work'] = activity_clean['moderate_work'].astype('int64')\n",
    "activity_clean['vigorous_work'] = activity_clean['vigorous_work'].astype('int64')"
   ]
  },
  {
   "cell_type": "code",
   "execution_count": null,
   "metadata": {
    "ExecuteTime": {
     "start_time": "2021-01-17T05:20:36.014Z"
    }
   },
   "outputs": [],
   "source": [
    "activity_clean.drop(columns=['PAQ180', 'PAQ605', 'PAQ620'], inplace=True)"
   ]
  },
  {
   "cell_type": "code",
   "execution_count": null,
   "metadata": {
    "ExecuteTime": {
     "start_time": "2021-01-17T05:20:36.030Z"
    }
   },
   "outputs": [],
   "source": [
    "activity_clean.isna().sum()"
   ]
  },
  {
   "cell_type": "code",
   "execution_count": null,
   "metadata": {
    "ExecuteTime": {
     "start_time": "2021-01-17T05:20:36.044Z"
    }
   },
   "outputs": [],
   "source": [
    "activity_clean.head()"
   ]
  },
  {
   "cell_type": "code",
   "execution_count": null,
   "metadata": {
    "ExecuteTime": {
     "start_time": "2021-01-17T05:20:36.057Z"
    }
   },
   "outputs": [],
   "source": [
    "activity_clean.info()"
   ]
  },
  {
   "cell_type": "markdown",
   "metadata": {},
   "source": [
    "# Alcohol Use"
   ]
  },
  {
   "cell_type": "code",
   "execution_count": null,
   "metadata": {
    "ExecuteTime": {
     "start_time": "2021-01-17T05:20:36.072Z"
    }
   },
   "outputs": [],
   "source": [
    "path = r'Data/AlcoholUse'\n",
    "df_alcohol = pf.glob_concat(path, '*.XPT')"
   ]
  },
  {
   "cell_type": "code",
   "execution_count": null,
   "metadata": {
    "ExecuteTime": {
     "start_time": "2021-01-17T05:20:36.090Z"
    }
   },
   "outputs": [],
   "source": [
    "df_alcohol.head()"
   ]
  },
  {
   "cell_type": "code",
   "execution_count": null,
   "metadata": {
    "ExecuteTime": {
     "start_time": "2021-01-17T05:20:36.105Z"
    }
   },
   "outputs": [],
   "source": [
    "df_alcohol.info()"
   ]
  },
  {
   "cell_type": "code",
   "execution_count": null,
   "metadata": {
    "ExecuteTime": {
     "start_time": "2021-01-17T05:20:36.120Z"
    }
   },
   "outputs": [],
   "source": [
    "df_alcohol.columns"
   ]
  },
  {
   "cell_type": "code",
   "execution_count": null,
   "metadata": {
    "ExecuteTime": {
     "start_time": "2021-01-17T05:20:36.132Z"
    }
   },
   "outputs": [],
   "source": [
    "alcohol_tokeep = ['ALQ120Q', 'ALQ120U', 'ALQ121', 'ALQ111', 'ALQ110', 'ALQ130']\n",
    "alcohol_clean = pf.cols_tokeep(df_alcohol, alcohol_tokeep)"
   ]
  },
  {
   "cell_type": "code",
   "execution_count": null,
   "metadata": {
    "ExecuteTime": {
     "start_time": "2021-01-17T05:20:36.146Z"
    }
   },
   "outputs": [],
   "source": [
    "alcohol_clean.info()"
   ]
  },
  {
   "cell_type": "markdown",
   "metadata": {},
   "source": [
    "## Lifetime Alcohol Consumption"
   ]
  },
  {
   "cell_type": "code",
   "execution_count": null,
   "metadata": {
    "ExecuteTime": {
     "start_time": "2021-01-17T05:20:36.160Z"
    }
   },
   "outputs": [],
   "source": [
    "alcohol_clean.ALQ110.value_counts(dropna=False)"
   ]
  },
  {
   "cell_type": "code",
   "execution_count": null,
   "metadata": {
    "ExecuteTime": {
     "start_time": "2021-01-17T05:20:36.173Z"
    }
   },
   "outputs": [],
   "source": [
    "alcohol_clean.ALQ111.value_counts(dropna=False)"
   ]
  },
  {
   "cell_type": "code",
   "execution_count": null,
   "metadata": {
    "ExecuteTime": {
     "start_time": "2021-01-17T05:20:36.187Z"
    }
   },
   "outputs": [],
   "source": [
    "alcohol_clean.ALQ110.fillna(0, inplace=True)\n",
    "alcohol_clean.ALQ111.fillna(0, inplace=True)"
   ]
  },
  {
   "cell_type": "code",
   "execution_count": null,
   "metadata": {
    "ExecuteTime": {
     "start_time": "2021-01-17T05:20:36.199Z"
    }
   },
   "outputs": [],
   "source": [
    "alcohol_clean['lifetime_alcohol_consumption'] = alcohol_clean['ALQ110'] + alcohol_clean['ALQ111']"
   ]
  },
  {
   "cell_type": "code",
   "execution_count": null,
   "metadata": {
    "ExecuteTime": {
     "start_time": "2021-01-17T05:20:36.210Z"
    }
   },
   "outputs": [],
   "source": [
    "alcohol_clean.lifetime_alcohol_consumption.value_counts(dropna=True)"
   ]
  },
  {
   "cell_type": "code",
   "execution_count": null,
   "metadata": {
    "ExecuteTime": {
     "start_time": "2021-01-17T05:20:36.222Z"
    }
   },
   "outputs": [],
   "source": [
    "alcohol_clean.lifetime_alcohol_consumption.replace({1.000: 'Yes',\n",
    "                                                2.000: 'No', \n",
    "                                                7.000: 'Missing', \n",
    "                                                9.000: 'Missing', \n",
    "                                                0.000: 'Missing'}, \n",
    "                                               inplace=True)"
   ]
  },
  {
   "cell_type": "code",
   "execution_count": null,
   "metadata": {
    "ExecuteTime": {
     "start_time": "2021-01-17T05:20:36.237Z"
    }
   },
   "outputs": [],
   "source": [
    "alcohol_clean.lifetime_alcohol_consumption.value_counts(dropna=True)"
   ]
  },
  {
   "cell_type": "code",
   "execution_count": null,
   "metadata": {
    "ExecuteTime": {
     "start_time": "2021-01-17T05:20:36.251Z"
    }
   },
   "outputs": [],
   "source": [
    "alcohol_clean.drop(columns=['ALQ110', 'ALQ111'], inplace=True)"
   ]
  },
  {
   "cell_type": "code",
   "execution_count": null,
   "metadata": {
    "ExecuteTime": {
     "start_time": "2021-01-17T05:20:36.263Z"
    }
   },
   "outputs": [],
   "source": [
    "alcohol_clean.info()"
   ]
  },
  {
   "cell_type": "markdown",
   "metadata": {},
   "source": [
    "## Drinking Frequency"
   ]
  },
  {
   "cell_type": "code",
   "execution_count": null,
   "metadata": {
    "ExecuteTime": {
     "start_time": "2021-01-17T05:20:36.278Z"
    },
    "scrolled": true
   },
   "outputs": [],
   "source": [
    "alcohol_clean.ALQ120Q.value_counts(dropna=False)"
   ]
  },
  {
   "cell_type": "code",
   "execution_count": null,
   "metadata": {
    "ExecuteTime": {
     "start_time": "2021-01-17T05:20:36.290Z"
    }
   },
   "outputs": [],
   "source": [
    "alcohol_clean.ALQ120U.value_counts(dropna=False)"
   ]
  },
  {
   "cell_type": "code",
   "execution_count": null,
   "metadata": {
    "ExecuteTime": {
     "start_time": "2021-01-17T05:20:36.303Z"
    }
   },
   "outputs": [],
   "source": [
    "alcohol_clean.ALQ120U.replace({1.000: 52,\n",
    "                            2.000: 12, \n",
    "                            3.000: 1}, \n",
    "                            inplace=True)\n",
    "alcohol_clean.ALQ120U.fillna(-1, inplace=True)"
   ]
  },
  {
   "cell_type": "code",
   "execution_count": null,
   "metadata": {
    "ExecuteTime": {
     "start_time": "2021-01-17T05:20:36.317Z"
    }
   },
   "outputs": [],
   "source": [
    "alcohol_clean.ALQ120U.value_counts(dropna=False)"
   ]
  },
  {
   "cell_type": "code",
   "execution_count": null,
   "metadata": {
    "ExecuteTime": {
     "start_time": "2021-01-17T05:20:36.329Z"
    }
   },
   "outputs": [],
   "source": [
    "alcohol_clean.ALQ120Q.replace({999.000: 0,\n",
    "                            777.000: 0}, \n",
    "                            inplace=True)\n",
    "alcohol_clean.ALQ120Q.fillna(0, inplace=True)"
   ]
  },
  {
   "cell_type": "code",
   "execution_count": null,
   "metadata": {
    "ExecuteTime": {
     "start_time": "2021-01-17T05:20:36.342Z"
    }
   },
   "outputs": [],
   "source": [
    "alcohol_clean['drinks_past_year'] = alcohol_clean['ALQ120U'] * alcohol_clean['ALQ120Q']"
   ]
  },
  {
   "cell_type": "code",
   "execution_count": null,
   "metadata": {
    "ExecuteTime": {
     "start_time": "2021-01-17T05:20:36.355Z"
    },
    "scrolled": true
   },
   "outputs": [],
   "source": [
    "alcohol_clean['drinks_past_year'].value_counts(dropna=False)"
   ]
  },
  {
   "cell_type": "code",
   "execution_count": null,
   "metadata": {
    "ExecuteTime": {
     "start_time": "2021-01-17T05:20:36.369Z"
    }
   },
   "outputs": [],
   "source": [
    "alcohol_clean.ALQ121.value_counts(dropna=False)"
   ]
  },
  {
   "cell_type": "code",
   "execution_count": null,
   "metadata": {
    "ExecuteTime": {
     "start_time": "2021-01-17T05:20:36.384Z"
    }
   },
   "outputs": [],
   "source": [
    "alcohol_clean.ALQ121.replace({1.000: 365,\n",
    "                            2.000: 312, \n",
    "                            3.000: 182, \n",
    "                            4.000: 104,\n",
    "                            5.000: 52, \n",
    "                            6.000: 30, \n",
    "                            7.000: 12,\n",
    "                            8.000: 9, \n",
    "                            9.000: 5, \n",
    "                            10.000: 2,\n",
    "                            77.000: 0, \n",
    "                            99.000: 0}, \n",
    "                            inplace=True)\n",
    "alcohol_clean.ALQ121.fillna(0, inplace=True)"
   ]
  },
  {
   "cell_type": "code",
   "execution_count": null,
   "metadata": {
    "ExecuteTime": {
     "start_time": "2021-01-17T05:20:36.396Z"
    }
   },
   "outputs": [],
   "source": [
    "alcohol_clean.ALQ121.value_counts(dropna=False)"
   ]
  },
  {
   "cell_type": "code",
   "execution_count": null,
   "metadata": {
    "ExecuteTime": {
     "start_time": "2021-01-17T05:20:36.410Z"
    }
   },
   "outputs": [],
   "source": [
    "alcohol_clean['drinks_past_year'] = alcohol_clean['drinks_past_year'] + alcohol_clean['ALQ121']"
   ]
  },
  {
   "cell_type": "code",
   "execution_count": null,
   "metadata": {
    "ExecuteTime": {
     "start_time": "2021-01-17T05:20:36.423Z"
    }
   },
   "outputs": [],
   "source": [
    "alcohol_clean['drinks_past_year'] =alcohol_clean['drinks_past_year'].astype('int64')"
   ]
  },
  {
   "cell_type": "code",
   "execution_count": null,
   "metadata": {
    "ExecuteTime": {
     "start_time": "2021-01-17T05:20:36.437Z"
    },
    "scrolled": true
   },
   "outputs": [],
   "source": [
    "alcohol_clean['drinks_past_year'].value_counts(dropna=False)"
   ]
  },
  {
   "cell_type": "code",
   "execution_count": null,
   "metadata": {
    "ExecuteTime": {
     "start_time": "2021-01-17T05:20:36.451Z"
    }
   },
   "outputs": [],
   "source": [
    "alcohol_clean.drop(columns=['ALQ120U', 'ALQ120Q', 'ALQ121'], inplace=True)"
   ]
  },
  {
   "cell_type": "code",
   "execution_count": null,
   "metadata": {
    "ExecuteTime": {
     "start_time": "2021-01-17T05:20:36.463Z"
    }
   },
   "outputs": [],
   "source": [
    "alcohol_clean.info()"
   ]
  },
  {
   "cell_type": "markdown",
   "metadata": {},
   "source": [
    "## Drinks Per Occasion"
   ]
  },
  {
   "cell_type": "code",
   "execution_count": null,
   "metadata": {
    "ExecuteTime": {
     "start_time": "2021-01-17T05:20:36.478Z"
    },
    "scrolled": true
   },
   "outputs": [],
   "source": [
    "alcohol_clean.ALQ130.value_counts(dropna=False)"
   ]
  },
  {
   "cell_type": "code",
   "execution_count": null,
   "metadata": {
    "ExecuteTime": {
     "start_time": "2021-01-17T05:20:36.493Z"
    }
   },
   "outputs": [],
   "source": [
    "alcohol_clean.ALQ130.replace({999.000: 0,\n",
    "                            777.000: 0}, \n",
    "                            inplace=True)\n",
    "alcohol_clean.ALQ130.fillna(0, inplace=True)"
   ]
  },
  {
   "cell_type": "code",
   "execution_count": null,
   "metadata": {
    "ExecuteTime": {
     "start_time": "2021-01-17T05:20:36.510Z"
    }
   },
   "outputs": [],
   "source": [
    "alcohol_clean.rename(columns={'ALQ130': 'drinks_per_occasion'}, inplace=True)\n",
    "alcohol_clean['drinks_per_occasion'] =alcohol_clean['drinks_per_occasion'].astype('int64')"
   ]
  },
  {
   "cell_type": "code",
   "execution_count": null,
   "metadata": {
    "ExecuteTime": {
     "start_time": "2021-01-17T05:20:36.524Z"
    },
    "scrolled": true
   },
   "outputs": [],
   "source": [
    "alcohol_clean['drinks_per_occasion'].value_counts(dropna=False)"
   ]
  },
  {
   "cell_type": "code",
   "execution_count": null,
   "metadata": {
    "ExecuteTime": {
     "start_time": "2021-01-17T05:20:36.537Z"
    }
   },
   "outputs": [],
   "source": [
    "alcohol_clean.isna().sum()"
   ]
  },
  {
   "cell_type": "code",
   "execution_count": null,
   "metadata": {
    "ExecuteTime": {
     "start_time": "2021-01-17T05:20:36.552Z"
    }
   },
   "outputs": [],
   "source": [
    "alcohol_clean.head()"
   ]
  },
  {
   "cell_type": "code",
   "execution_count": null,
   "metadata": {
    "ExecuteTime": {
     "start_time": "2021-01-17T05:20:36.566Z"
    }
   },
   "outputs": [],
   "source": [
    "alcohol_clean.info()"
   ]
  },
  {
   "cell_type": "markdown",
   "metadata": {},
   "source": [
    "# Physical Functioning"
   ]
  },
  {
   "cell_type": "code",
   "execution_count": null,
   "metadata": {
    "ExecuteTime": {
     "start_time": "2021-01-17T05:20:36.580Z"
    }
   },
   "outputs": [],
   "source": [
    "path = r'Data/PhysicalFunctioning'\n",
    "df_function = pf.glob_concat(path, '*.XPT')"
   ]
  },
  {
   "cell_type": "code",
   "execution_count": null,
   "metadata": {
    "ExecuteTime": {
     "start_time": "2021-01-17T05:20:36.594Z"
    }
   },
   "outputs": [],
   "source": [
    "df_function.head()"
   ]
  },
  {
   "cell_type": "code",
   "execution_count": null,
   "metadata": {
    "ExecuteTime": {
     "start_time": "2021-01-17T05:20:36.605Z"
    },
    "scrolled": true
   },
   "outputs": [],
   "source": [
    "df_function.info()"
   ]
  },
  {
   "cell_type": "code",
   "execution_count": null,
   "metadata": {
    "ExecuteTime": {
     "start_time": "2021-01-17T05:20:36.623Z"
    }
   },
   "outputs": [],
   "source": [
    "df_function.columns"
   ]
  },
  {
   "cell_type": "code",
   "execution_count": null,
   "metadata": {
    "ExecuteTime": {
     "start_time": "2021-01-17T05:20:36.640Z"
    }
   },
   "outputs": [],
   "source": [
    "function_tokeep = ['PFQ090', 'PFQ049', 'PFQ051', 'PFQ054', 'PFQ057', 'PFQ059', \n",
    "                   'PFQ063A', 'PFQ063B', 'PFQ063C', 'PFQ063D', 'PFQ063E']\n",
    "function_clean = pf.cols_tokeep(df_function, function_tokeep)"
   ]
  },
  {
   "cell_type": "code",
   "execution_count": null,
   "metadata": {
    "ExecuteTime": {
     "start_time": "2021-01-17T05:20:36.652Z"
    }
   },
   "outputs": [],
   "source": [
    "function_clean.info()"
   ]
  },
  {
   "cell_type": "markdown",
   "metadata": {},
   "source": [
    "## Renaming Columns"
   ]
  },
  {
   "cell_type": "code",
   "execution_count": null,
   "metadata": {
    "ExecuteTime": {
     "start_time": "2021-01-17T05:20:36.667Z"
    }
   },
   "outputs": [],
   "source": [
    "function_clean.columns"
   ]
  },
  {
   "cell_type": "code",
   "execution_count": null,
   "metadata": {
    "ExecuteTime": {
     "start_time": "2021-01-17T05:20:36.683Z"
    }
   },
   "outputs": [],
   "source": [
    "function_clean.rename(columns={'PFQ049': 'cant_work', \n",
    "                               'PFQ051': 'limited_work', \n",
    "                               'PFQ054': 'walking_equipment', \n",
    "                               'PFQ057': 'memory_problems', \n",
    "                               'PFQ059': 'limitations', \n",
    "                               'PFQ090': 'healthcare_equipment',\n",
    "                               'PFQ063A': 'health_problem1', \n",
    "                               'PFQ063B': 'health_problem2',\n",
    "                               'PFQ063C': 'health_problem3', \n",
    "                               'PFQ063D': 'health_problem4', \n",
    "                               'PFQ063E': 'health_problem5'}, \n",
    "                                  inplace=True)"
   ]
  },
  {
   "cell_type": "code",
   "execution_count": null,
   "metadata": {
    "ExecuteTime": {
     "start_time": "2021-01-17T05:20:36.698Z"
    }
   },
   "outputs": [],
   "source": [
    "function_clean.info()"
   ]
  },
  {
   "cell_type": "markdown",
   "metadata": {},
   "source": [
    "## Clean Column Values"
   ]
  },
  {
   "cell_type": "code",
   "execution_count": null,
   "metadata": {
    "ExecuteTime": {
     "start_time": "2021-01-17T05:20:36.713Z"
    }
   },
   "outputs": [],
   "source": [
    "pf.val_counts(function_clean)"
   ]
  },
  {
   "cell_type": "code",
   "execution_count": null,
   "metadata": {
    "ExecuteTime": {
     "start_time": "2021-01-17T05:20:36.725Z"
    }
   },
   "outputs": [],
   "source": [
    "function_similar_cols = ['cant_work', 'limited_work', 'walking_equipment', \n",
    "                         'memory_problems', 'limitations', 'healthcare_equipment']"
   ]
  },
  {
   "cell_type": "code",
   "execution_count": null,
   "metadata": {
    "ExecuteTime": {
     "start_time": "2021-01-17T05:20:36.737Z"
    }
   },
   "outputs": [],
   "source": [
    "for col in function_similar_cols:\n",
    "    function_clean[col].replace({2.000: 0, \n",
    "                                 7.000: 0, \n",
    "                                 9.000: 0}, \n",
    "                                inplace=True)\n",
    "    function_clean[col].fillna(0, inplace=True)\n",
    "    function_clean[col] = function_clean[col].astype('int64')"
   ]
  },
  {
   "cell_type": "code",
   "execution_count": null,
   "metadata": {
    "ExecuteTime": {
     "start_time": "2021-01-17T05:20:36.751Z"
    }
   },
   "outputs": [],
   "source": [
    "pf.val_counts(function_clean)"
   ]
  },
  {
   "cell_type": "markdown",
   "metadata": {},
   "source": [
    "## Health Problems"
   ]
  },
  {
   "cell_type": "code",
   "execution_count": null,
   "metadata": {
    "ExecuteTime": {
     "start_time": "2021-01-17T05:20:36.767Z"
    }
   },
   "outputs": [],
   "source": [
    "health_problem_cols = []\n",
    "for col in function_clean.columns:\n",
    "    if 'health_problem' in col:\n",
    "        health_problem_cols.append(col)\n",
    "health_problem_cols"
   ]
  },
  {
   "cell_type": "code",
   "execution_count": null,
   "metadata": {
    "ExecuteTime": {
     "start_time": "2021-01-17T05:20:36.780Z"
    }
   },
   "outputs": [],
   "source": [
    "for col in health_problem_cols:\n",
    "    function_clean[col].replace({10.000: 'Arthritis', \n",
    "                                11.000: 'Back or Neck', \n",
    "                                12.000: 'Birth Defect', \n",
    "                                13.000: 'Cancer', \n",
    "                                14.000: 'Emotional', \n",
    "                                15.000: 'Other Developmental', \n",
    "                                16.000: 'Diabetes', \n",
    "                                17.000: 'Bone or Joint', \n",
    "                                18.000: 'Hearing',\n",
    "                                19.000: 'Heart', \n",
    "                                20.000: 'Blood Pressure', \n",
    "                                21.000: 'Breathing', \n",
    "                                22.000: 'Mental Retardation', \n",
    "                                23.000: 'Other Injury', \n",
    "                                24.000: 'Senility', \n",
    "                                25.000: 'Stroke', \n",
    "                                26.000: 'Vision',\n",
    "                                27.000: 'Weight', \n",
    "                                28.000: 'Other Impairment', \n",
    "                                77.000: 'None', \n",
    "                                99.000: 'None'},\n",
    "                               inplace=True)\n",
    "    function_clean[col].fillna('None', inplace=True)"
   ]
  },
  {
   "cell_type": "code",
   "execution_count": null,
   "metadata": {
    "ExecuteTime": {
     "start_time": "2021-01-17T05:20:36.792Z"
    }
   },
   "outputs": [],
   "source": [
    "for col in health_problem_cols:\n",
    "    display(function_clean[col].value_counts(dropna=False))"
   ]
  },
  {
   "cell_type": "code",
   "execution_count": null,
   "metadata": {
    "ExecuteTime": {
     "start_time": "2021-01-17T05:20:36.804Z"
    }
   },
   "outputs": [],
   "source": [
    "from sklearn.preprocessing import OneHotEncoder\n",
    "encoder = OneHotEncoder(handle_unknown='ignore', sparse=False)"
   ]
  },
  {
   "cell_type": "code",
   "execution_count": null,
   "metadata": {
    "ExecuteTime": {
     "start_time": "2021-01-17T05:20:36.818Z"
    }
   },
   "outputs": [],
   "source": [
    "ohe_health_problems = encoder.fit_transform(function_clean[health_problem_cols])\n",
    "problem_col_names = encoder.get_feature_names(health_problem_cols)"
   ]
  },
  {
   "cell_type": "code",
   "execution_count": null,
   "metadata": {
    "ExecuteTime": {
     "start_time": "2021-01-17T05:20:36.832Z"
    }
   },
   "outputs": [],
   "source": [
    "ohe_problems_df = pd.DataFrame(ohe_health_problems, columns=problem_col_names, \n",
    "                               index=function_clean.index)"
   ]
  },
  {
   "cell_type": "code",
   "execution_count": null,
   "metadata": {
    "ExecuteTime": {
     "start_time": "2021-01-17T05:20:36.852Z"
    }
   },
   "outputs": [],
   "source": [
    "ohe_problems_df.head()"
   ]
  },
  {
   "cell_type": "code",
   "execution_count": null,
   "metadata": {
    "ExecuteTime": {
     "start_time": "2021-01-17T05:20:36.869Z"
    }
   },
   "outputs": [],
   "source": [
    "ohe_problems_df.info()"
   ]
  },
  {
   "cell_type": "code",
   "execution_count": null,
   "metadata": {
    "ExecuteTime": {
     "start_time": "2021-01-17T05:20:36.885Z"
    }
   },
   "outputs": [],
   "source": [
    "pf.val_counts(ohe_problems_df)"
   ]
  },
  {
   "cell_type": "code",
   "execution_count": null,
   "metadata": {
    "ExecuteTime": {
     "start_time": "2021-01-17T05:20:36.899Z"
    }
   },
   "outputs": [],
   "source": [
    "problems_list = list(function_clean.health_problem1.unique())\n",
    "problems_list"
   ]
  },
  {
   "cell_type": "code",
   "execution_count": null,
   "metadata": {
    "ExecuteTime": {
     "start_time": "2021-01-17T05:20:36.911Z"
    }
   },
   "outputs": [],
   "source": [
    "for item in problems_list:\n",
    "    function_clean[f'health_problem_{item}'] = ohe_problems_df[f'health_problem1_{item}'] + ohe_problems_df[f'health_problem2_{item}'] + ohe_problems_df[f'health_problem3_{item}'] + ohe_problems_df[f'health_problem4_{item}'] + ohe_problems_df[f'health_problem5_{item}']"
   ]
  },
  {
   "cell_type": "code",
   "execution_count": null,
   "metadata": {
    "ExecuteTime": {
     "start_time": "2021-01-17T05:20:36.923Z"
    }
   },
   "outputs": [],
   "source": [
    "function_clean.info()"
   ]
  },
  {
   "cell_type": "code",
   "execution_count": null,
   "metadata": {
    "ExecuteTime": {
     "start_time": "2021-01-17T05:20:36.935Z"
    }
   },
   "outputs": [],
   "source": [
    "function_clean.drop(columns=[*health_problem_cols, 'health_problem_None'], inplace=True)"
   ]
  },
  {
   "cell_type": "code",
   "execution_count": null,
   "metadata": {
    "ExecuteTime": {
     "start_time": "2021-01-17T05:20:36.950Z"
    }
   },
   "outputs": [],
   "source": [
    "health_problem_cols = []\n",
    "for col in function_clean.columns:\n",
    "    if 'health_problem' in col:\n",
    "        health_problem_cols.append(col)\n",
    "health_problem_cols"
   ]
  },
  {
   "cell_type": "code",
   "execution_count": null,
   "metadata": {
    "ExecuteTime": {
     "start_time": "2021-01-17T05:20:36.962Z"
    }
   },
   "outputs": [],
   "source": [
    "for col in health_problem_cols:\n",
    "    function_clean[col] = function_clean[col].astype('int64')"
   ]
  },
  {
   "cell_type": "code",
   "execution_count": null,
   "metadata": {
    "ExecuteTime": {
     "start_time": "2021-01-17T05:20:36.976Z"
    }
   },
   "outputs": [],
   "source": [
    "function_clean.head()"
   ]
  },
  {
   "cell_type": "code",
   "execution_count": null,
   "metadata": {
    "ExecuteTime": {
     "start_time": "2021-01-17T05:20:36.988Z"
    }
   },
   "outputs": [],
   "source": [
    "function_clean.isna().sum()"
   ]
  },
  {
   "cell_type": "code",
   "execution_count": null,
   "metadata": {
    "ExecuteTime": {
     "start_time": "2021-01-17T05:20:37.000Z"
    }
   },
   "outputs": [],
   "source": [
    "function_clean.info()"
   ]
  },
  {
   "cell_type": "markdown",
   "metadata": {},
   "source": [
    "# Recreational Drug Use"
   ]
  },
  {
   "cell_type": "code",
   "execution_count": null,
   "metadata": {
    "ExecuteTime": {
     "start_time": "2021-01-17T05:20:37.016Z"
    }
   },
   "outputs": [],
   "source": [
    "path = r'Data/DrugUse'\n",
    "df_drug = pf.glob_concat(path, '*.XPT')"
   ]
  },
  {
   "cell_type": "code",
   "execution_count": null,
   "metadata": {
    "ExecuteTime": {
     "start_time": "2021-01-17T05:20:37.035Z"
    }
   },
   "outputs": [],
   "source": [
    "df_drug.head()"
   ]
  },
  {
   "cell_type": "code",
   "execution_count": null,
   "metadata": {
    "ExecuteTime": {
     "start_time": "2021-01-17T05:20:37.047Z"
    }
   },
   "outputs": [],
   "source": [
    "df_drug.columns"
   ]
  },
  {
   "cell_type": "code",
   "execution_count": null,
   "metadata": {
    "ExecuteTime": {
     "start_time": "2021-01-17T05:20:37.061Z"
    }
   },
   "outputs": [],
   "source": [
    "drug_tokeep = ['DUQ200', 'DUQ230', 'DUQ250', 'DUQ272', 'DUQ280','DUQ290', \n",
    "               'DUQ320', 'DUQ330', 'DUQ352', 'DUQ360', 'DUQ370', 'DUQ430']\n",
    "drug_clean = pf.cols_tokeep(df_drug, drug_tokeep)"
   ]
  },
  {
   "cell_type": "code",
   "execution_count": null,
   "metadata": {
    "ExecuteTime": {
     "start_time": "2021-01-17T05:20:37.072Z"
    }
   },
   "outputs": [],
   "source": [
    "drug_clean.info()"
   ]
  },
  {
   "cell_type": "markdown",
   "metadata": {},
   "source": [
    "## Renaming Columns"
   ]
  },
  {
   "cell_type": "code",
   "execution_count": null,
   "metadata": {
    "ExecuteTime": {
     "start_time": "2021-01-17T05:20:37.091Z"
    }
   },
   "outputs": [],
   "source": [
    "drug_clean.columns"
   ]
  },
  {
   "cell_type": "code",
   "execution_count": null,
   "metadata": {
    "ExecuteTime": {
     "start_time": "2021-01-17T05:20:37.103Z"
    }
   },
   "outputs": [],
   "source": [
    "drug_clean.rename(columns={'DUQ200': 'marijuana_use', \n",
    "                           'DUQ230': 'marijuana_per_month', \n",
    "                           'DUQ250': 'cocaine_use', \n",
    "                           'DUQ272': 'cocaine_number_uses', \n",
    "                           'DUQ280': 'cocaine_per_month',\n",
    "                           'DUQ290': 'heroine_use', \n",
    "                           'DUQ320': 'heronine_per_month', \n",
    "                           'DUQ330': 'meth_use',\n",
    "                           'DUQ352': 'meth_number_uses',\n",
    "                           'DUQ360': 'meth_per_month', \n",
    "                           'DUQ370': 'inject_drugs', \n",
    "                           'DUQ430': 'rehab_program'}, \n",
    "                            inplace=True)"
   ]
  },
  {
   "cell_type": "code",
   "execution_count": null,
   "metadata": {
    "ExecuteTime": {
     "start_time": "2021-01-17T05:20:37.115Z"
    }
   },
   "outputs": [],
   "source": [
    "drug_clean.info()"
   ]
  },
  {
   "cell_type": "markdown",
   "metadata": {},
   "source": [
    "## Clean Column Values"
   ]
  },
  {
   "cell_type": "code",
   "execution_count": null,
   "metadata": {
    "ExecuteTime": {
     "start_time": "2021-01-17T05:20:37.131Z"
    }
   },
   "outputs": [],
   "source": [
    "pf.val_counts(drug_clean)"
   ]
  },
  {
   "cell_type": "code",
   "execution_count": null,
   "metadata": {
    "ExecuteTime": {
     "start_time": "2021-01-17T05:20:37.144Z"
    }
   },
   "outputs": [],
   "source": [
    "drugs_use_cols = ['marijuana_use', 'cocaine_use', 'heroine_use', 'meth_use', \n",
    "                  'inject_drugs', 'rehab_program']\n",
    "cols_99 = ['cocaine_number_uses', 'heronine_per_month', 'meth_number_uses', 'meth_per_month']\n",
    "cols_999 = ['marijuana_per_month', 'cocaine_per_month',]"
   ]
  },
  {
   "cell_type": "code",
   "execution_count": null,
   "metadata": {
    "ExecuteTime": {
     "start_time": "2021-01-17T05:20:37.157Z"
    }
   },
   "outputs": [],
   "source": [
    "for col in drugs_use_cols:\n",
    "    drug_clean[col].replace({2.000: 0, \n",
    "                            7.000: 0, \n",
    "                            9.000: 0}, \n",
    "                            inplace=True)\n",
    "    drug_clean[col].fillna(0, inplace=True)\n",
    "    drug_clean[col] = drug_clean[col].astype('int64')"
   ]
  },
  {
   "cell_type": "code",
   "execution_count": null,
   "metadata": {
    "ExecuteTime": {
     "start_time": "2021-01-17T05:20:37.168Z"
    }
   },
   "outputs": [],
   "source": [
    "for col in cols_999:\n",
    "    drug_clean[col].replace({777.000: 0, \n",
    "                            999.000: 0}, \n",
    "                            inplace=True)\n",
    "    drug_clean[col].fillna(0, inplace=True)\n",
    "    drug_clean[col] = drug_clean[col].astype('int64')"
   ]
  },
  {
   "cell_type": "code",
   "execution_count": null,
   "metadata": {
    "ExecuteTime": {
     "start_time": "2021-01-17T05:20:37.180Z"
    }
   },
   "outputs": [],
   "source": [
    "for col in cols_99:\n",
    "    drug_clean[col].replace({77.000: 0, \n",
    "                            99.000: 0}, \n",
    "                            inplace=True)\n",
    "    drug_clean[col].fillna(0, inplace=True)\n",
    "    drug_clean[col] = drug_clean[col].astype('int64')"
   ]
  },
  {
   "cell_type": "code",
   "execution_count": null,
   "metadata": {
    "ExecuteTime": {
     "start_time": "2021-01-17T05:20:37.193Z"
    }
   },
   "outputs": [],
   "source": [
    "pf.val_counts(drug_clean)"
   ]
  },
  {
   "cell_type": "code",
   "execution_count": null,
   "metadata": {
    "ExecuteTime": {
     "start_time": "2021-01-17T05:20:37.208Z"
    }
   },
   "outputs": [],
   "source": [
    "drug_clean.isna().sum()"
   ]
  },
  {
   "cell_type": "code",
   "execution_count": null,
   "metadata": {
    "ExecuteTime": {
     "start_time": "2021-01-17T05:20:37.222Z"
    }
   },
   "outputs": [],
   "source": [
    "drug_clean.head()"
   ]
  },
  {
   "cell_type": "code",
   "execution_count": null,
   "metadata": {
    "ExecuteTime": {
     "start_time": "2021-01-17T05:20:37.234Z"
    }
   },
   "outputs": [],
   "source": [
    "drug_clean.info()"
   ]
  },
  {
   "cell_type": "markdown",
   "metadata": {},
   "source": [
    "# Smoking"
   ]
  },
  {
   "cell_type": "code",
   "execution_count": null,
   "metadata": {
    "ExecuteTime": {
     "start_time": "2021-01-17T05:20:37.248Z"
    }
   },
   "outputs": [],
   "source": [
    "path = r'Data/Smoking'\n",
    "df_smoking = pf.glob_concat(path, '*.XPT')"
   ]
  },
  {
   "cell_type": "code",
   "execution_count": null,
   "metadata": {
    "ExecuteTime": {
     "end_time": "2021-01-17T05:21:58.483308Z",
     "start_time": "2021-01-17T05:21:58.261390Z"
    }
   },
   "outputs": [],
   "source": [
    "df_smoking.head()"
   ]
  },
  {
   "cell_type": "code",
   "execution_count": null,
   "metadata": {
    "ExecuteTime": {
     "end_time": "2021-01-17T05:21:58.666314Z",
     "start_time": "2021-01-17T05:21:58.486308Z"
    },
    "scrolled": true
   },
   "outputs": [],
   "source": [
    "df_smoking.info()"
   ]
  },
  {
   "cell_type": "code",
   "execution_count": null,
   "metadata": {
    "ExecuteTime": {
     "end_time": "2021-01-17T05:21:58.948395Z",
     "start_time": "2021-01-17T05:21:58.669313Z"
    }
   },
   "outputs": [],
   "source": [
    "path = r'Data/HouseholdSmokers'\n",
    "df_hs = pf.glob_concat(path, '*.XPT')"
   ]
  },
  {
   "cell_type": "code",
   "execution_count": null,
   "metadata": {
    "ExecuteTime": {
     "end_time": "2021-01-17T05:21:59.216409Z",
     "start_time": "2021-01-17T05:21:58.951309Z"
    }
   },
   "outputs": [],
   "source": [
    "df_shs.head()"
   ]
  },
  {
   "cell_type": "code",
   "execution_count": null,
   "metadata": {
    "ExecuteTime": {
     "end_time": "2021-01-17T05:21:59.219409Z",
     "start_time": "2021-01-17T05:20:37.313Z"
    }
   },
   "outputs": [],
   "source": [
    "df_hs.info()"
   ]
  },
  {
   "cell_type": "code",
   "execution_count": null,
   "metadata": {
    "ExecuteTime": {
     "end_time": "2021-01-17T05:21:59.220312Z",
     "start_time": "2021-01-17T05:20:37.325Z"
    }
   },
   "outputs": [],
   "source": [
    "df_smoking = pd.concat([df_smoking, df_hs], axis=1)"
   ]
  },
  {
   "cell_type": "code",
   "execution_count": null,
   "metadata": {
    "ExecuteTime": {
     "end_time": "2021-01-17T05:21:59.222310Z",
     "start_time": "2021-01-17T05:20:37.339Z"
    },
    "scrolled": true
   },
   "outputs": [],
   "source": [
    "df_smoking.info()"
   ]
  },
  {
   "cell_type": "code",
   "execution_count": null,
   "metadata": {
    "ExecuteTime": {
     "end_time": "2021-01-17T05:21:59.223311Z",
     "start_time": "2021-01-17T05:20:37.351Z"
    }
   },
   "outputs": [],
   "source": [
    "smoking_tokeep = ['SMD460', 'SMD415', 'SMQ040', 'SMD030', 'SMQ050Q','SMD650', \n",
    "                   'SMQ050U', 'SMD057']\n",
    "smoking_clean = pf.cols_tokeep(df_smoking, smoking_tokeep)"
   ]
  },
  {
   "cell_type": "code",
   "execution_count": null,
   "metadata": {
    "ExecuteTime": {
     "end_time": "2021-01-17T05:21:59.224308Z",
     "start_time": "2021-01-17T05:20:37.364Z"
    }
   },
   "outputs": [],
   "source": [
    "smoking_clean.info()"
   ]
  },
  {
   "cell_type": "markdown",
   "metadata": {},
   "source": [
    "## Days Since Quitting"
   ]
  },
  {
   "cell_type": "code",
   "execution_count": null,
   "metadata": {
    "ExecuteTime": {
     "end_time": "2021-01-17T05:21:59.226309Z",
     "start_time": "2021-01-17T05:20:37.380Z"
    },
    "scrolled": true
   },
   "outputs": [],
   "source": [
    "smoking_clean.SMQ050Q.value_counts(dropna=False)"
   ]
  },
  {
   "cell_type": "code",
   "execution_count": null,
   "metadata": {
    "ExecuteTime": {
     "end_time": "2021-01-17T05:21:59.227307Z",
     "start_time": "2021-01-17T05:20:37.393Z"
    }
   },
   "outputs": [],
   "source": [
    "smoking_clean.SMQ050U.value_counts(dropna=False)"
   ]
  },
  {
   "cell_type": "code",
   "execution_count": null,
   "metadata": {
    "ExecuteTime": {
     "end_time": "2021-01-17T05:21:59.229393Z",
     "start_time": "2021-01-17T05:20:37.407Z"
    }
   },
   "outputs": [],
   "source": [
    "smoking_clean.SMQ050Q.fillna(0, inplace=True)"
   ]
  },
  {
   "cell_type": "code",
   "execution_count": null,
   "metadata": {
    "ExecuteTime": {
     "end_time": "2021-01-17T05:21:59.233309Z",
     "start_time": "2021-01-17T05:20:37.419Z"
    }
   },
   "outputs": [],
   "source": [
    "smoking_clean.SMQ050U.replace({2.000: 7,\n",
    "                            3.000: 30, \n",
    "                            4.000: 365}, \n",
    "                            inplace=True)\n",
    "smoking_clean.SMQ050U.fillna(0, inplace=True)"
   ]
  },
  {
   "cell_type": "code",
   "execution_count": null,
   "metadata": {
    "ExecuteTime": {
     "end_time": "2021-01-17T05:21:59.235311Z",
     "start_time": "2021-01-17T05:20:37.431Z"
    }
   },
   "outputs": [],
   "source": [
    "smoking_clean['days_quit_smoking'] = smoking_clean['SMQ050Q'] * smoking_clean['SMQ050U']"
   ]
  },
  {
   "cell_type": "code",
   "execution_count": null,
   "metadata": {
    "ExecuteTime": {
     "end_time": "2021-01-17T05:21:59.237309Z",
     "start_time": "2021-01-17T05:20:37.443Z"
    }
   },
   "outputs": [],
   "source": [
    "smoking_clean.loc[smoking_clean['SMQ050Q'] == 66666, 'days_quit_smoking'] = 18250"
   ]
  },
  {
   "cell_type": "code",
   "execution_count": null,
   "metadata": {
    "ExecuteTime": {
     "end_time": "2021-01-17T05:21:59.239421Z",
     "start_time": "2021-01-17T05:20:37.465Z"
    }
   },
   "outputs": [],
   "source": [
    "smoking_clean[smoking_clean['SMQ050Q'] == 66666]"
   ]
  },
  {
   "cell_type": "code",
   "execution_count": null,
   "metadata": {
    "ExecuteTime": {
     "end_time": "2021-01-17T05:21:59.241309Z",
     "start_time": "2021-01-17T05:20:37.478Z"
    }
   },
   "outputs": [],
   "source": [
    "smoking_clean['days_quit_smoking'].value_counts(dropna=False)"
   ]
  },
  {
   "cell_type": "code",
   "execution_count": null,
   "metadata": {
    "ExecuteTime": {
     "end_time": "2021-01-17T05:21:59.243310Z",
     "start_time": "2021-01-17T05:20:37.493Z"
    }
   },
   "outputs": [],
   "source": [
    "smoking_clean.drop(columns=['SMQ050Q', 'SMQ050U'], inplace=True)\n",
    "smoking_clean['days_quit_smoking'] = smoking_clean['days_quit_smoking'].astype('int64')"
   ]
  },
  {
   "cell_type": "code",
   "execution_count": null,
   "metadata": {
    "ExecuteTime": {
     "end_time": "2021-01-17T05:21:59.245309Z",
     "start_time": "2021-01-17T05:20:37.505Z"
    }
   },
   "outputs": [],
   "source": [
    "smoking_clean.info()"
   ]
  },
  {
   "cell_type": "markdown",
   "metadata": {},
   "source": [
    "## Household Smokers"
   ]
  },
  {
   "cell_type": "code",
   "execution_count": null,
   "metadata": {
    "ExecuteTime": {
     "end_time": "2021-01-17T05:21:59.246310Z",
     "start_time": "2021-01-17T05:20:37.524Z"
    }
   },
   "outputs": [],
   "source": [
    "smoking_clean.SMD460.value_counts(dropna=False)"
   ]
  },
  {
   "cell_type": "code",
   "execution_count": null,
   "metadata": {
    "ExecuteTime": {
     "end_time": "2021-01-17T05:21:59.248315Z",
     "start_time": "2021-01-17T05:20:37.537Z"
    }
   },
   "outputs": [],
   "source": [
    "smoking_clean.SMD415.value_counts(dropna=False)"
   ]
  },
  {
   "cell_type": "code",
   "execution_count": null,
   "metadata": {
    "ExecuteTime": {
     "end_time": "2021-01-17T05:21:59.250310Z",
     "start_time": "2021-01-17T05:20:37.550Z"
    }
   },
   "outputs": [],
   "source": [
    "smoking_clean.SMD460.fillna(4,inplace=True)\n",
    "smoking_clean.SMD415.fillna(4,inplace=True)"
   ]
  },
  {
   "cell_type": "code",
   "execution_count": null,
   "metadata": {
    "ExecuteTime": {
     "end_time": "2021-01-17T05:21:59.252310Z",
     "start_time": "2021-01-17T05:20:37.562Z"
    }
   },
   "outputs": [],
   "source": [
    "smoking_clean['household_smokers'] = smoking_clean['SMD460'] + smoking_clean['SMD415']"
   ]
  },
  {
   "cell_type": "code",
   "execution_count": null,
   "metadata": {
    "ExecuteTime": {
     "end_time": "2021-01-17T05:21:59.254310Z",
     "start_time": "2021-01-17T05:20:37.576Z"
    }
   },
   "outputs": [],
   "source": [
    "smoking_clean['household_smokers'].value_counts(dropna=False)"
   ]
  },
  {
   "cell_type": "code",
   "execution_count": null,
   "metadata": {
    "ExecuteTime": {
     "end_time": "2021-01-17T05:21:59.256396Z",
     "start_time": "2021-01-17T05:20:37.588Z"
    }
   },
   "outputs": [],
   "source": [
    "smoking_clean['household_smokers'].replace({4.000: 0, \n",
    "                                            5.000: 1, \n",
    "                                            6.000: 2, \n",
    "                                            7.000:3, \n",
    "                                            8.000: 4,\n",
    "                                            1003.000: 4,\n",
    "                                            781.000: 4}, \n",
    "                                           inplace=True)\n",
    "smoking_clean['household_smokers'] = smoking_clean['household_smokers'].astype('int64')"
   ]
  },
  {
   "cell_type": "code",
   "execution_count": null,
   "metadata": {
    "ExecuteTime": {
     "end_time": "2021-01-17T05:21:59.258479Z",
     "start_time": "2021-01-17T05:20:37.601Z"
    }
   },
   "outputs": [],
   "source": [
    "smoking_clean['household_smokers'].value_counts(dropna=False)"
   ]
  },
  {
   "cell_type": "code",
   "execution_count": null,
   "metadata": {
    "ExecuteTime": {
     "end_time": "2021-01-17T05:21:59.260310Z",
     "start_time": "2021-01-17T05:20:37.615Z"
    }
   },
   "outputs": [],
   "source": [
    "smoking_clean.drop(columns=['SMD460', 'SMD415'], inplace=True)"
   ]
  },
  {
   "cell_type": "code",
   "execution_count": null,
   "metadata": {
    "ExecuteTime": {
     "end_time": "2021-01-17T05:21:59.262316Z",
     "start_time": "2021-01-17T05:20:37.636Z"
    }
   },
   "outputs": [],
   "source": [
    "smoking_clean.info()"
   ]
  },
  {
   "cell_type": "markdown",
   "metadata": {},
   "source": [
    "## Renaming Columns"
   ]
  },
  {
   "cell_type": "code",
   "execution_count": null,
   "metadata": {
    "ExecuteTime": {
     "end_time": "2021-01-17T05:21:59.264311Z",
     "start_time": "2021-01-17T05:20:37.657Z"
    }
   },
   "outputs": [],
   "source": [
    "smoking_clean.columns"
   ]
  },
  {
   "cell_type": "code",
   "execution_count": null,
   "metadata": {
    "ExecuteTime": {
     "end_time": "2021-01-17T05:21:59.266310Z",
     "start_time": "2021-01-17T05:20:37.673Z"
    }
   },
   "outputs": [],
   "source": [
    "smoking_clean.rename(columns={'SMD030': 'start_smoking_age', \n",
    "                              'SMQ040': 'current_smoker', \n",
    "                              'SMD057': 'previous_cigarettes_per_day', \n",
    "                              'SMD650': 'current_cigarettes_per_day'}, \n",
    "                            inplace=True)"
   ]
  },
  {
   "cell_type": "code",
   "execution_count": null,
   "metadata": {
    "ExecuteTime": {
     "end_time": "2021-01-17T05:21:59.268310Z",
     "start_time": "2021-01-17T05:20:37.689Z"
    }
   },
   "outputs": [],
   "source": [
    "smoking_clean.info()"
   ]
  },
  {
   "cell_type": "markdown",
   "metadata": {},
   "source": [
    "## Clean Column Values"
   ]
  },
  {
   "cell_type": "code",
   "execution_count": null,
   "metadata": {
    "ExecuteTime": {
     "end_time": "2021-01-17T05:21:59.270310Z",
     "start_time": "2021-01-17T05:20:37.709Z"
    }
   },
   "outputs": [],
   "source": [
    "smoking_clean.current_smoker.value_counts(dropna=False)"
   ]
  },
  {
   "cell_type": "code",
   "execution_count": null,
   "metadata": {
    "ExecuteTime": {
     "end_time": "2021-01-17T05:21:59.272311Z",
     "start_time": "2021-01-17T05:20:37.723Z"
    }
   },
   "outputs": [],
   "source": [
    "smoking_clean.current_smoker.replace({7.000: 0}, inplace=True)\n",
    "smoking_clean.current_smoker.fillna(0, inplace=True)\n",
    "smoking_clean.current_smoker = smoking_clean.current_smoker.astype('int64')"
   ]
  },
  {
   "cell_type": "code",
   "execution_count": null,
   "metadata": {
    "ExecuteTime": {
     "end_time": "2021-01-17T05:21:59.274308Z",
     "start_time": "2021-01-17T05:20:37.741Z"
    }
   },
   "outputs": [],
   "source": [
    "smoking_clean.current_smoker.value_counts(dropna=False)"
   ]
  },
  {
   "cell_type": "code",
   "execution_count": null,
   "metadata": {
    "ExecuteTime": {
     "end_time": "2021-01-17T05:21:59.279399Z",
     "start_time": "2021-01-17T05:20:37.757Z"
    },
    "scrolled": true
   },
   "outputs": [],
   "source": [
    "smoking_list = ['start_smoking_age', 'previous_cigarettes_per_day', \n",
    "                'current_cigarettes_per_day']"
   ]
  },
  {
   "cell_type": "code",
   "execution_count": null,
   "metadata": {
    "ExecuteTime": {
     "end_time": "2021-01-17T05:21:59.284311Z",
     "start_time": "2021-01-17T05:20:37.778Z"
    },
    "scrolled": true
   },
   "outputs": [],
   "source": [
    "for col in smoking_list:\n",
    "    display(smoking_clean[col].value_counts(dropna=False))"
   ]
  },
  {
   "cell_type": "code",
   "execution_count": null,
   "metadata": {
    "ExecuteTime": {
     "end_time": "2021-01-17T05:21:59.286309Z",
     "start_time": "2021-01-17T05:20:37.798Z"
    },
    "scrolled": true
   },
   "outputs": [],
   "source": [
    "for col in smoking_list:\n",
    "    smoking_clean[col].replace({777.000: 0,\n",
    "                               999.000: 0}, \n",
    "                               inplace=True)\n",
    "    smoking_clean[col].fillna(0, inplace=True)\n",
    "    smoking_clean[col] = smoking_clean[col].astype('int64')\n",
    "    display(smoking_clean[col].value_counts(dropna=False))"
   ]
  },
  {
   "cell_type": "code",
   "execution_count": null,
   "metadata": {
    "ExecuteTime": {
     "end_time": "2021-01-17T05:21:59.288309Z",
     "start_time": "2021-01-17T05:20:37.816Z"
    }
   },
   "outputs": [],
   "source": [
    "smoking_clean.head()"
   ]
  },
  {
   "cell_type": "code",
   "execution_count": null,
   "metadata": {
    "ExecuteTime": {
     "end_time": "2021-01-17T05:21:59.290309Z",
     "start_time": "2021-01-17T05:20:37.833Z"
    }
   },
   "outputs": [],
   "source": [
    "smoking_clean.info()"
   ]
  },
  {
   "cell_type": "markdown",
   "metadata": {},
   "source": [
    "# Combine Data"
   ]
  },
  {
   "cell_type": "code",
   "execution_count": null,
   "metadata": {
    "ExecuteTime": {
     "end_time": "2021-01-11T21:21:40.237913Z",
     "start_time": "2021-01-11T21:21:40.230911Z"
    }
   },
   "outputs": [],
   "source": [
    "dataframes = [target_clean, demo_clean, medcond_clean, body_clean, blood_clean, \n",
    "              chol_clean, biochem_clean, count_clean, occupation_clean, \n",
    "              sleep_clean, activity_clean, alcohol_clean, function_clean, \n",
    "              drug_clean, smoking_clean]\n",
    "for df in dataframes:\n",
    "    print(len(df.columns))"
   ]
  },
  {
   "cell_type": "code",
   "execution_count": null,
   "metadata": {
    "ExecuteTime": {
     "end_time": "2021-01-11T21:21:40.818444Z",
     "start_time": "2021-01-11T21:21:40.241918Z"
    }
   },
   "outputs": [],
   "source": [
    "full_df = pd.concat([target_clean, demo_clean, medcond_clean, body_clean, \n",
    "                     blood_clean, chol_clean, biochem_clean, count_clean], \n",
    "                    axis=1)\n",
    "full_df.head()"
   ]
  },
  {
   "cell_type": "code",
   "execution_count": null,
   "metadata": {
    "ExecuteTime": {
     "end_time": "2021-01-11T21:21:41.186551Z",
     "start_time": "2021-01-11T21:21:40.821449Z"
    }
   },
   "outputs": [],
   "source": [
    "full_df = full_df[full_df['depression'].notnull()]\n",
    "full_df.head()"
   ]
  },
  {
   "cell_type": "code",
   "execution_count": null,
   "metadata": {
    "ExecuteTime": {
     "end_time": "2021-01-11T21:21:41.211560Z",
     "start_time": "2021-01-11T21:21:41.189551Z"
    }
   },
   "outputs": [],
   "source": [
    "full_df.info()"
   ]
  },
  {
   "cell_type": "code",
   "execution_count": null,
   "metadata": {
    "ExecuteTime": {
     "end_time": "2021-01-11T21:21:41.282545Z",
     "start_time": "2021-01-11T21:21:41.214545Z"
    },
    "scrolled": true
   },
   "outputs": [],
   "source": [
    "full_df.isna().sum()"
   ]
  },
  {
   "cell_type": "code",
   "execution_count": null,
   "metadata": {
    "ExecuteTime": {
     "end_time": "2021-01-11T21:21:46.215667Z",
     "start_time": "2021-01-11T21:21:41.285549Z"
    }
   },
   "outputs": [],
   "source": [
    "# full_df.to_csv(r'FullData.csv')"
   ]
  },
  {
   "cell_type": "markdown",
   "metadata": {},
   "source": [
    "# Train Test Split"
   ]
  },
  {
   "cell_type": "code",
   "execution_count": null,
   "metadata": {
    "ExecuteTime": {
     "end_time": "2021-01-11T21:21:46.786715Z",
     "start_time": "2021-01-11T21:21:46.218635Z"
    }
   },
   "outputs": [],
   "source": [
    "full_df = pd.read_csv('FullData.csv')\n",
    "full_df.set_index('SEQN', verify_integrity=True, inplace=True)"
   ]
  },
  {
   "cell_type": "code",
   "execution_count": null,
   "metadata": {
    "ExecuteTime": {
     "end_time": "2021-01-11T21:21:46.973798Z",
     "start_time": "2021-01-11T21:21:46.789713Z"
    }
   },
   "outputs": [],
   "source": [
    "full_df.head()"
   ]
  },
  {
   "cell_type": "code",
   "execution_count": null,
   "metadata": {
    "ExecuteTime": {
     "end_time": "2021-01-11T21:21:47.179711Z",
     "start_time": "2021-01-11T21:21:46.976720Z"
    }
   },
   "outputs": [],
   "source": [
    "from sklearn.model_selection import train_test_split"
   ]
  },
  {
   "cell_type": "code",
   "execution_count": null,
   "metadata": {
    "ExecuteTime": {
     "end_time": "2021-01-11T21:21:47.218713Z",
     "start_time": "2021-01-11T21:21:47.182713Z"
    }
   },
   "outputs": [],
   "source": [
    "X = full_df.drop('depression', axis=1)\n",
    "y = full_df['depression'].map({'Not Depressed': 0, 'Depressed': 1})"
   ]
  },
  {
   "cell_type": "code",
   "execution_count": null,
   "metadata": {
    "ExecuteTime": {
     "end_time": "2021-01-11T21:21:47.301814Z",
     "start_time": "2021-01-11T21:21:47.221712Z"
    }
   },
   "outputs": [],
   "source": [
    "X_train, X_test, y_train, y_test = train_test_split(X, y, \n",
    "                                                    test_size=.20, \n",
    "                                                    random_state=123, \n",
    "                                                    stratify=y)"
   ]
  },
  {
   "cell_type": "code",
   "execution_count": null,
   "metadata": {
    "ExecuteTime": {
     "end_time": "2021-01-11T21:21:47.315711Z",
     "start_time": "2021-01-11T21:21:47.304713Z"
    }
   },
   "outputs": [],
   "source": [
    "y_train.value_counts(1)"
   ]
  },
  {
   "cell_type": "code",
   "execution_count": null,
   "metadata": {
    "ExecuteTime": {
     "end_time": "2021-01-11T21:21:47.329714Z",
     "start_time": "2021-01-11T21:21:47.318735Z"
    }
   },
   "outputs": [],
   "source": [
    "y_test.value_counts(1)"
   ]
  },
  {
   "cell_type": "markdown",
   "metadata": {},
   "source": [
    "# Explore"
   ]
  },
  {
   "cell_type": "code",
   "execution_count": null,
   "metadata": {
    "ExecuteTime": {
     "end_time": "2021-01-11T21:21:47.371715Z",
     "start_time": "2021-01-11T21:21:47.332714Z"
    }
   },
   "outputs": [],
   "source": [
    "y_train_df = pd.DataFrame(y_train)\n",
    "train_df = pd.concat([X_train, y_train_df], axis=1)"
   ]
  },
  {
   "cell_type": "code",
   "execution_count": null,
   "metadata": {
    "ExecuteTime": {
     "end_time": "2021-01-11T21:21:47.385719Z",
     "start_time": "2021-01-11T21:21:47.374713Z"
    }
   },
   "outputs": [],
   "source": [
    "def plotting_counts(df, col, target='depression'):\n",
    "    '''\n",
    "    Generates countplot on a column in a dataframe.\n",
    "    \n",
    "    Args:\n",
    "        df (dataframe): Dataframe that contains the column and target to be \n",
    "        plotted\n",
    "        col (str): Column name of the data to be plotted against the target\n",
    "        target (str): Target column of the dataframe\n",
    "        \n",
    "    Returns:\n",
    "        Count plot figure with bars grouped by the target\n",
    "    \n",
    "    Example:\n",
    "        plotting_counts(data, 'feature_name')\n",
    "    '''\n",
    "\n",
    "    # Sort the column values for plotting\n",
    "    order_list = list(df[col].unique())\n",
    "    order_list.sort()\n",
    "    \n",
    "    # Plot the figure\n",
    "    fig, ax = plt.subplots(figsize=(16,8))\n",
    "    x, y = col, target\n",
    "    ax = sns.countplot(x=x, hue=y, data=df, order=order_list)\n",
    "\n",
    "    # Set labels and title\n",
    "    plt.title(f'{col.title()} By Count {target.title()}', \n",
    "              fontdict={'fontsize': 30})\n",
    "    plt.xlabel(f'{col.title()}', fontdict={'fontsize': 20})\n",
    "    plt.ylabel(f'{target.title()} Count', fontdict={'fontsize': 20})\n",
    "    plt.xticks(rotation=75)\n",
    "    return fig, ax"
   ]
  },
  {
   "cell_type": "code",
   "execution_count": null,
   "metadata": {
    "ExecuteTime": {
     "end_time": "2021-01-11T21:21:47.406713Z",
     "start_time": "2021-01-11T21:21:47.388714Z"
    }
   },
   "outputs": [],
   "source": [
    "def plotting_percentages(df, col, target='depression'):\n",
    "    '''\n",
    "    Generates catplot on a column in a dataframe that shows percentages at the\n",
    "    top of each bar.\n",
    "    \n",
    "    Args:\n",
    "        df (dataframe): Dataframe that contains the column and target to be \n",
    "        plotted\n",
    "        col (str): Column name of the data to be plotted against the target\n",
    "        target (str): Target column of the dataframe\n",
    "        \n",
    "    Returns:\n",
    "        Catplot figure with bars grouped by the target and representing\n",
    "        percentages of the entries for each value\n",
    "    \n",
    "    Example:\n",
    "        plotting_percentages(data, 'feature_name')\n",
    "    '''\n",
    "    \n",
    "    x, y = col, target\n",
    "    \n",
    "    # Temporary dataframe with percentage values\n",
    "    temp_df = df.groupby(x)[y].value_counts(normalize=True)\n",
    "    temp_df = temp_df.mul(100).rename('percent').reset_index()\n",
    "\n",
    "    # Sort the column values for plotting    \n",
    "    order_list = list(df[col].unique())\n",
    "    order_list.sort()\n",
    "\n",
    "    # Plot the figure\n",
    "    sns.set(font_scale=1.5)\n",
    "    g = sns.catplot(x=x,y='percent',hue=y,kind='bar',data=temp_df, \n",
    "                    height=8, aspect=2, order=order_list, legend_out=False)\n",
    "    g.ax.set_ylim(0,100)\n",
    "\n",
    "    # Loop through each bar in the graph and add the percentage value    \n",
    "    for p in g.ax.patches:\n",
    "        txt = str(p.get_height().round(1)) + '%'\n",
    "        txt_x = p.get_x() \n",
    "        txt_y = p.get_height()\n",
    "        g.ax.text(txt_x,txt_y,txt)\n",
    "        \n",
    "    # Set labels and title\n",
    "    plt.title(f'{col.title()} By Percent {target.title()}', \n",
    "              fontdict={'fontsize': 30})\n",
    "    plt.xlabel(f'{col.title()}', fontdict={'fontsize': 20})\n",
    "    plt.ylabel(f'{target.title()} Percentage', fontdict={'fontsize': 20})\n",
    "    plt.xticks(rotation=75)\n",
    "    return g"
   ]
  },
  {
   "cell_type": "code",
   "execution_count": null,
   "metadata": {
    "ExecuteTime": {
     "end_time": "2021-01-11T21:21:47.417722Z",
     "start_time": "2021-01-11T21:21:47.409717Z"
    }
   },
   "outputs": [],
   "source": [
    "def plot_num_cols(df, col, target='depression'):\n",
    "    '''\n",
    "    Generates 'boxen' type catplot on a column in a dataframe grouped by target\n",
    "    \n",
    "    Args:\n",
    "        df (dataframe): Dataframe that contains the column and target to be \n",
    "        plotted\n",
    "        col (str): Column name of the data to be plotted against the target\n",
    "        target (str): Target column of the dataframe\n",
    "        \n",
    "    Returns:\n",
    "        Catplot 'boxen' figure split by the target \n",
    "    \n",
    "    Example:\n",
    "        plotting_num_cols(data, 'feature_name')\n",
    "    '''\n",
    "    # Generating the figure\n",
    "    g = sns.catplot(x=target, y=col, data=df, kind='boxen', \n",
    "                    height=7, aspect=2)\n",
    "\n",
    "    # Setting the title\n",
    "    plt.suptitle(f'{col.title()} and {target.title()}', fontsize=30, y=1.05)"
   ]
  },
  {
   "cell_type": "markdown",
   "metadata": {},
   "source": [
    "## Demographics"
   ]
  },
  {
   "cell_type": "code",
   "execution_count": null,
   "metadata": {
    "ExecuteTime": {
     "end_time": "2021-01-11T21:21:47.431711Z",
     "start_time": "2021-01-11T21:21:47.421715Z"
    }
   },
   "outputs": [],
   "source": [
    "demo_clean.columns"
   ]
  },
  {
   "cell_type": "code",
   "execution_count": null,
   "metadata": {
    "ExecuteTime": {
     "end_time": "2021-01-11T21:21:47.440719Z",
     "start_time": "2021-01-11T21:21:47.435714Z"
    }
   },
   "outputs": [],
   "source": [
    "demo_cat_cols = ['gender', 'race', 'citizenship', 'education_level', \n",
    "                 'marital_status', 'pregnant', 'birth_place', 'veteran']\n",
    "demo_num_cols = ['age', 'household_size', 'household_income']"
   ]
  },
  {
   "cell_type": "code",
   "execution_count": null,
   "metadata": {
    "ExecuteTime": {
     "end_time": "2021-01-11T21:21:57.439466Z",
     "start_time": "2021-01-11T21:21:47.443718Z"
    },
    "scrolled": true
   },
   "outputs": [],
   "source": [
    "for col in demo_cat_cols:\n",
    "    plotting_counts(train_df, col)"
   ]
  },
  {
   "cell_type": "code",
   "execution_count": null,
   "metadata": {
    "ExecuteTime": {
     "end_time": "2021-01-11T21:22:02.283432Z",
     "start_time": "2021-01-11T21:21:57.442392Z"
    },
    "scrolled": true
   },
   "outputs": [],
   "source": [
    "for col in demo_cat_cols:\n",
    "    plotting_percentages(train_df, col)"
   ]
  },
  {
   "cell_type": "code",
   "execution_count": null,
   "metadata": {
    "ExecuteTime": {
     "end_time": "2021-01-11T21:22:05.356535Z",
     "start_time": "2021-01-11T21:22:02.286342Z"
    },
    "scrolled": true
   },
   "outputs": [],
   "source": [
    "for col in demo_num_cols:\n",
    "    plot_num_cols(train_df, col)"
   ]
  },
  {
   "cell_type": "markdown",
   "metadata": {},
   "source": [
    "## Medical Conditions"
   ]
  },
  {
   "cell_type": "code",
   "execution_count": null,
   "metadata": {
    "ExecuteTime": {
     "end_time": "2021-01-11T21:22:05.367536Z",
     "start_time": "2021-01-11T21:22:05.359458Z"
    }
   },
   "outputs": [],
   "source": [
    "medcond_clean.columns"
   ]
  },
  {
   "cell_type": "code",
   "execution_count": null,
   "metadata": {
    "ExecuteTime": {
     "end_time": "2021-01-11T21:22:05.379457Z",
     "start_time": "2021-01-11T21:22:05.370462Z"
    }
   },
   "outputs": [],
   "source": [
    "medcond_cat_cols = ['asthma', 'asthma_currently', 'asthma_emergency',\n",
    "       'anemia', 'ever_overweight', 'blood_transfusion', 'arthritis',\n",
    "       'heart_failure', 'heart_disease', 'angina', 'heart_attack', 'stroke',\n",
    "       'emphysema', 'bronchitis', 'liver_condition', 'thyroid_problem',\n",
    "       'bronchitis_currently', 'liver_condition_currently',\n",
    "       'thyroid_problem_currently', 'cancer', 'first_cancer_type',\n",
    "       'second_cancer_type', 'third_cancer_type', 'fourth_cancer_count',\n",
    "       'heart_attack_relative', 'asthma_relative', 'diabetes_relative',\n",
    "       'hay_fever', 'arthritis_type', 'first_cancer_count', \n",
    "       'second_cancer_count', 'third_cancer_count']\n",
    "\n",
    "medcond_num_cols = ['asthma_onset', 'arthritis_onset', 'heart_failure_onset',\n",
    "       'heart_disease_onset', 'angina_onset', 'heart_attack_onset',\n",
    "       'stroke_onset', 'emphysema_onset', 'bronchitis_onset',\n",
    "       'liver_condition_onset', 'thyroid_problem_onset', 'cancer_onset']"
   ]
  },
  {
   "cell_type": "code",
   "execution_count": null,
   "metadata": {
    "ExecuteTime": {
     "end_time": "2021-01-11T21:22:32.379997Z",
     "start_time": "2021-01-11T21:22:05.383455Z"
    },
    "scrolled": true
   },
   "outputs": [],
   "source": [
    "for col in medcond_cat_cols:\n",
    "    plotting_counts(train_df, col)"
   ]
  },
  {
   "cell_type": "code",
   "execution_count": null,
   "metadata": {
    "ExecuteTime": {
     "end_time": "2021-01-11T21:22:50.674830Z",
     "start_time": "2021-01-11T21:22:32.383000Z"
    },
    "scrolled": true
   },
   "outputs": [],
   "source": [
    "for col in medcond_cat_cols:\n",
    "    plotting_percentages(train_df, col)"
   ]
  },
  {
   "cell_type": "code",
   "execution_count": null,
   "metadata": {
    "ExecuteTime": {
     "end_time": "2021-01-11T21:23:02.311720Z",
     "start_time": "2021-01-11T21:22:50.677825Z"
    },
    "scrolled": true
   },
   "outputs": [],
   "source": [
    "for col in medcond_num_cols:\n",
    "    plot_num_cols(train_df, col)"
   ]
  },
  {
   "cell_type": "markdown",
   "metadata": {},
   "source": [
    "## Others"
   ]
  },
  {
   "cell_type": "code",
   "execution_count": null,
   "metadata": {
    "ExecuteTime": {
     "end_time": "2021-01-11T21:23:02.323632Z",
     "start_time": "2021-01-11T21:23:02.314736Z"
    }
   },
   "outputs": [],
   "source": [
    "body_clean.columns"
   ]
  },
  {
   "cell_type": "code",
   "execution_count": null,
   "metadata": {
    "ExecuteTime": {
     "end_time": "2021-01-11T21:23:02.339697Z",
     "start_time": "2021-01-11T21:23:02.326632Z"
    }
   },
   "outputs": [],
   "source": [
    "blood_clean.columns"
   ]
  },
  {
   "cell_type": "code",
   "execution_count": null,
   "metadata": {
    "ExecuteTime": {
     "end_time": "2021-01-11T21:23:02.350631Z",
     "start_time": "2021-01-11T21:23:02.342639Z"
    }
   },
   "outputs": [],
   "source": [
    "chol_clean.columns"
   ]
  },
  {
   "cell_type": "code",
   "execution_count": null,
   "metadata": {
    "ExecuteTime": {
     "end_time": "2021-01-11T21:23:02.359638Z",
     "start_time": "2021-01-11T21:23:02.353632Z"
    }
   },
   "outputs": [],
   "source": [
    "others_cat_cols = ['irregular_pulse']\n",
    "\n",
    "others_num_cols = ['weight', 'height', 'BMI', 'pulse', 'systolic', 'diastolic', \n",
    "                   'total_cholesterol', 'HDL', 'triglyceride', 'LDL']"
   ]
  },
  {
   "cell_type": "code",
   "execution_count": null,
   "metadata": {
    "ExecuteTime": {
     "end_time": "2021-01-11T21:23:03.007675Z",
     "start_time": "2021-01-11T21:23:02.363640Z"
    }
   },
   "outputs": [],
   "source": [
    "for col in others_cat_cols:\n",
    "    plotting_counts(train_df, col)"
   ]
  },
  {
   "cell_type": "code",
   "execution_count": null,
   "metadata": {
    "ExecuteTime": {
     "end_time": "2021-01-11T21:23:03.466669Z",
     "start_time": "2021-01-11T21:23:03.011633Z"
    }
   },
   "outputs": [],
   "source": [
    "for col in others_cat_cols:\n",
    "    plotting_percentages(train_df, col)"
   ]
  },
  {
   "cell_type": "code",
   "execution_count": null,
   "metadata": {
    "ExecuteTime": {
     "end_time": "2021-01-11T21:23:11.015714Z",
     "start_time": "2021-01-11T21:23:03.468636Z"
    },
    "scrolled": true
   },
   "outputs": [],
   "source": [
    "for col in others_num_cols:\n",
    "    plot_num_cols(train_df, col)"
   ]
  },
  {
   "cell_type": "markdown",
   "metadata": {},
   "source": [
    "# One Hot Encode"
   ]
  },
  {
   "cell_type": "code",
   "execution_count": null,
   "metadata": {
    "ExecuteTime": {
     "end_time": "2021-01-11T21:23:36.854310Z",
     "start_time": "2021-01-11T21:23:36.847768Z"
    }
   },
   "outputs": [],
   "source": [
    "from sklearn.preprocessing import OneHotEncoder\n",
    "encoder = OneHotEncoder(handle_unknown='ignore', sparse=False)"
   ]
  },
  {
   "cell_type": "code",
   "execution_count": null,
   "metadata": {
    "ExecuteTime": {
     "end_time": "2021-01-11T21:29:17.283759Z",
     "start_time": "2021-01-11T21:29:17.274759Z"
    }
   },
   "outputs": [],
   "source": [
    "ohe_cols = X_train.select_dtypes('O').columns\n",
    "ohe_cols"
   ]
  },
  {
   "cell_type": "code",
   "execution_count": null,
   "metadata": {
    "ExecuteTime": {
     "end_time": "2021-01-11T21:31:51.018454Z",
     "start_time": "2021-01-11T21:31:50.902431Z"
    }
   },
   "outputs": [],
   "source": [
    "ohe_train = encoder.fit_transform(X_train[ohe_cols])\n",
    "ohe_test = encoder.transform(X_test[ohe_cols])"
   ]
  },
  {
   "cell_type": "code",
   "execution_count": null,
   "metadata": {
    "ExecuteTime": {
     "end_time": "2021-01-11T21:31:51.461209Z",
     "start_time": "2021-01-11T21:31:51.457085Z"
    }
   },
   "outputs": [],
   "source": [
    "col_names = encoder.get_feature_names(ohe_cols)"
   ]
  },
  {
   "cell_type": "code",
   "execution_count": null,
   "metadata": {
    "ExecuteTime": {
     "end_time": "2021-01-11T21:31:51.977799Z",
     "start_time": "2021-01-11T21:31:51.973798Z"
    }
   },
   "outputs": [],
   "source": [
    "ohe_train_df = pd.DataFrame(ohe_train, columns=col_names, index=X_train.index)\n",
    "ohe_test_df = pd.DataFrame(ohe_test, columns=col_names, index=X_test.index)"
   ]
  },
  {
   "cell_type": "code",
   "execution_count": null,
   "metadata": {
    "ExecuteTime": {
     "end_time": "2021-01-11T21:31:59.764478Z",
     "start_time": "2021-01-11T21:31:59.652537Z"
    }
   },
   "outputs": [],
   "source": [
    "ohe_train_df.head()"
   ]
  },
  {
   "cell_type": "code",
   "execution_count": null,
   "metadata": {
    "ExecuteTime": {
     "end_time": "2021-01-11T21:32:17.052869Z",
     "start_time": "2021-01-11T21:32:16.955892Z"
    }
   },
   "outputs": [],
   "source": [
    "ohe_test_df.head()"
   ]
  },
  {
   "cell_type": "markdown",
   "metadata": {},
   "source": [
    "# Scaling"
   ]
  },
  {
   "cell_type": "code",
   "execution_count": null,
   "metadata": {
    "ExecuteTime": {
     "end_time": "2021-01-11T22:35:15.407609Z",
     "start_time": "2021-01-11T22:35:15.012622Z"
    }
   },
   "outputs": [],
   "source": [
    "X_train.describe()"
   ]
  },
  {
   "cell_type": "code",
   "execution_count": null,
   "metadata": {
    "ExecuteTime": {
     "end_time": "2021-01-11T22:34:52.921618Z",
     "start_time": "2021-01-11T22:34:52.902673Z"
    }
   },
   "outputs": [],
   "source": [
    "scale_cols = X_train.select_dtypes('number').columns\n",
    "scale_cols"
   ]
  },
  {
   "cell_type": "code",
   "execution_count": null,
   "metadata": {
    "ExecuteTime": {
     "end_time": "2021-01-11T22:53:19.809949Z",
     "start_time": "2021-01-11T22:53:19.804944Z"
    }
   },
   "outputs": [],
   "source": [
    "from sklearn.preprocessing import QuantileTransformer\n",
    "transformer = QuantileTransformer(random_state=123)"
   ]
  },
  {
   "cell_type": "code",
   "execution_count": null,
   "metadata": {
    "ExecuteTime": {
     "end_time": "2021-01-11T22:54:34.825340Z",
     "start_time": "2021-01-11T22:54:34.166426Z"
    }
   },
   "outputs": [],
   "source": [
    "trans_train = transformer.fit_transform(X_train[scale_cols])\n",
    "trans_test = transformer.transform(X_test[scale_cols])"
   ]
  },
  {
   "cell_type": "code",
   "execution_count": null,
   "metadata": {
    "ExecuteTime": {
     "end_time": "2021-01-11T22:56:21.522131Z",
     "start_time": "2021-01-11T22:56:21.496049Z"
    }
   },
   "outputs": [],
   "source": [
    "trans_train_df = pd.DataFrame(trans_train, columns=X_train[scale_cols].columns,\n",
    "                             index=X_train.index)\n",
    "trans_test_df = pd.DataFrame(trans_test, columns=X_train[scale_cols].columns,\n",
    "                             index=X_test.index)"
   ]
  },
  {
   "cell_type": "code",
   "execution_count": null,
   "metadata": {
    "ExecuteTime": {
     "end_time": "2021-01-11T22:57:48.826929Z",
     "start_time": "2021-01-11T22:57:48.726947Z"
    }
   },
   "outputs": [],
   "source": [
    "trans_train_df.head()"
   ]
  },
  {
   "cell_type": "code",
   "execution_count": null,
   "metadata": {
    "ExecuteTime": {
     "end_time": "2021-01-11T22:57:57.012560Z",
     "start_time": "2021-01-11T22:57:56.913474Z"
    }
   },
   "outputs": [],
   "source": [
    "trans_test_df.head()"
   ]
  },
  {
   "cell_type": "code",
   "execution_count": null,
   "metadata": {
    "ExecuteTime": {
     "end_time": "2021-01-11T22:57:41.598768Z",
     "start_time": "2021-01-11T22:57:41.545684Z"
    }
   },
   "outputs": [],
   "source": [
    "X_train_tf = pd.concat([ohe_train_df, trans_train_df], axis=1)\n",
    "X_test_tf = pd.concat([ohe_test_df, trans_test_df], axis=1)"
   ]
  },
  {
   "cell_type": "code",
   "execution_count": null,
   "metadata": {
    "ExecuteTime": {
     "end_time": "2021-01-11T22:58:19.287794Z",
     "start_time": "2021-01-11T22:58:19.189794Z"
    }
   },
   "outputs": [],
   "source": [
    "X_train_tf.head()"
   ]
  },
  {
   "cell_type": "code",
   "execution_count": null,
   "metadata": {
    "ExecuteTime": {
     "end_time": "2021-01-12T05:21:17.483310Z",
     "start_time": "2021-01-12T05:21:16.615307Z"
    }
   },
   "outputs": [],
   "source": [
    "X_train_tf.describe()"
   ]
  },
  {
   "cell_type": "code",
   "execution_count": null,
   "metadata": {
    "ExecuteTime": {
     "end_time": "2021-01-11T22:58:28.697671Z",
     "start_time": "2021-01-11T22:58:28.600593Z"
    }
   },
   "outputs": [],
   "source": [
    "X_test_tf.head()"
   ]
  },
  {
   "cell_type": "markdown",
   "metadata": {},
   "source": [
    "# KMeans Clustering"
   ]
  },
  {
   "cell_type": "code",
   "execution_count": null,
   "metadata": {
    "ExecuteTime": {
     "end_time": "2021-01-11T23:03:14.551754Z",
     "start_time": "2021-01-11T23:03:14.317726Z"
    }
   },
   "outputs": [],
   "source": [
    "from sklearn.cluster import KMeans\n",
    "from sklearn import metrics"
   ]
  },
  {
   "cell_type": "code",
   "execution_count": null,
   "metadata": {
    "ExecuteTime": {
     "end_time": "2021-01-12T04:43:18.156311Z",
     "start_time": "2021-01-12T03:42:16.713225Z"
    }
   },
   "outputs": [],
   "source": [
    "k_range = range(2,11)\n",
    "cal_har_score= []\n",
    "inertia = []\n",
    "sil_score = []\n",
    "\n",
    "for k in k_range:\n",
    "    model = KMeans(n_clusters=k, random_state=123, n_jobs=-1)\n",
    "    model.fit(X_train_tf)\n",
    "\n",
    "    preds = pd.Series(model.predict(X_train_tf))\n",
    "    cal_har_score.append(metrics.calinski_harabasz_score(X_train_tf,preds))\n",
    "    sil_score.append(metrics.silhouette_score(X_train_tf, preds, random_state=123))\n",
    "    inertia.append(model.inertia_)"
   ]
  },
  {
   "cell_type": "code",
   "execution_count": null,
   "metadata": {
    "ExecuteTime": {
     "end_time": "2021-01-12T04:43:19.026331Z",
     "start_time": "2021-01-12T04:43:18.158226Z"
    }
   },
   "outputs": [],
   "source": [
    "## Plot Results\n",
    "fig,(ax1,ax2,ax3) = plt.subplots(figsize=(12,15),nrows=3)\n",
    "ax1.plot(k_range, inertia, '-o', color='orange')\n",
    "ax1.set(xlabel='Number of Clusters', ylabel = 'Inertia')\n",
    "ax1.set_xticks(k_range)\n",
    "ax1.set_title('Inertia Score Per Number Of Clusters')\n",
    "\n",
    "ax2.plot(k_range, cal_har_score, '-o', color='green')\n",
    "ax2.set_xlabel('Number of Clusters')\n",
    "ax2.set_ylabel('Calinski Harabasz Score')\n",
    "ax2.set_xticks(k_range)\n",
    "ax2.set_title('Calinski Harabasz Score Per Number of Clusters')\n",
    "\n",
    "ax3.plot(k_range, sil_score, '-o', color='blue')\n",
    "ax3.set_xlabel('Number of Clusters')\n",
    "ax3.set_ylabel('Silhouette Score')\n",
    "ax3.set_title('Silhouette Score Per Number of Clusters')\n",
    "ax3.set_xticks(k_range)\n",
    "fig.tight_layout()"
   ]
  },
  {
   "cell_type": "code",
   "execution_count": null,
   "metadata": {
    "ExecuteTime": {
     "end_time": "2021-01-12T05:07:23.685880Z",
     "start_time": "2021-01-12T05:07:19.603885Z"
    }
   },
   "outputs": [],
   "source": [
    "k_clusters = 5\n",
    "k_model = KMeans(k_clusters, random_state=123, n_jobs=-1)\n",
    "k_model.fit(X_train_tf)\n",
    "\n",
    "kmeans_train_preds = k_model.predict(X_train_tf)\n",
    "kmeans_train = pd.Series(kmeans_train_preds, index=X_train_tf.index, \n",
    "                         name='Cluster')\n",
    "\n",
    "kmeans_test_preds = k_model.predict(X_test_tf)\n",
    "kmeans_test = pd.Series(kmeans_test_preds, index=X_test_tf.index, \n",
    "                        name='Cluster')"
   ]
  },
  {
   "cell_type": "code",
   "execution_count": null,
   "metadata": {
    "ExecuteTime": {
     "end_time": "2021-01-12T05:07:23.702883Z",
     "start_time": "2021-01-12T05:07:23.687883Z"
    }
   },
   "outputs": [],
   "source": [
    "kmeans_train.value_counts(1)"
   ]
  },
  {
   "cell_type": "code",
   "execution_count": null,
   "metadata": {
    "ExecuteTime": {
     "end_time": "2021-01-12T05:07:23.717882Z",
     "start_time": "2021-01-12T05:07:23.705882Z"
    }
   },
   "outputs": [],
   "source": [
    "kmeans_test.value_counts(1)"
   ]
  },
  {
   "cell_type": "code",
   "execution_count": null,
   "metadata": {
    "ExecuteTime": {
     "end_time": "2021-01-12T05:07:23.728881Z",
     "start_time": "2021-01-12T05:07:23.720881Z"
    }
   },
   "outputs": [],
   "source": [
    "kmeans_train.head()"
   ]
  },
  {
   "cell_type": "code",
   "execution_count": null,
   "metadata": {
    "ExecuteTime": {
     "end_time": "2021-01-12T05:07:23.783902Z",
     "start_time": "2021-01-12T05:07:23.732883Z"
    }
   },
   "outputs": [],
   "source": [
    "X_train_final = pd.concat([X_train_tf, kmeans_train], axis=1)\n",
    "X_test_final = pd.concat([X_test_tf, kmeans_test], axis=1)"
   ]
  },
  {
   "cell_type": "code",
   "execution_count": null,
   "metadata": {
    "ExecuteTime": {
     "end_time": "2021-01-12T05:07:23.897883Z",
     "start_time": "2021-01-12T05:07:23.785909Z"
    }
   },
   "outputs": [],
   "source": [
    "X_train_final.head()"
   ]
  },
  {
   "cell_type": "code",
   "execution_count": null,
   "metadata": {
    "ExecuteTime": {
     "end_time": "2021-01-12T05:07:24.011883Z",
     "start_time": "2021-01-12T05:07:23.900884Z"
    }
   },
   "outputs": [],
   "source": [
    "X_test_final.head()"
   ]
  },
  {
   "cell_type": "code",
   "execution_count": null,
   "metadata": {
    "ExecuteTime": {
     "end_time": "2021-01-12T05:10:37.814775Z",
     "start_time": "2021-01-12T05:10:31.531002Z"
    }
   },
   "outputs": [],
   "source": [
    "# X_train_final.to_csv(r'XTrainFinal.csv')\n",
    "# X_test_final.to_csv(r'XTestFinal.csv')\n",
    "# y_train.to_csv(r'yTrain.csv')\n",
    "# y_test.to_csv(r'yTest.csv')"
   ]
  },
  {
   "cell_type": "markdown",
   "metadata": {},
   "source": [
    "# Under Sampling"
   ]
  },
  {
   "cell_type": "code",
   "execution_count": null,
   "metadata": {
    "ExecuteTime": {
     "end_time": "2021-01-13T21:02:33.890045Z",
     "start_time": "2021-01-13T21:02:33.851966Z"
    }
   },
   "outputs": [],
   "source": [
    "from imblearn.under_sampling import RandomUnderSampler"
   ]
  },
  {
   "cell_type": "code",
   "execution_count": null,
   "metadata": {
    "ExecuteTime": {
     "end_time": "2021-01-13T21:05:34.528689Z",
     "start_time": "2021-01-13T21:05:34.524637Z"
    }
   },
   "outputs": [],
   "source": [
    "sampler = RandomUnderSampler(sampling_strategy=.25, random_state=123)"
   ]
  },
  {
   "cell_type": "code",
   "execution_count": null,
   "metadata": {
    "ExecuteTime": {
     "end_time": "2021-01-13T21:05:35.361157Z",
     "start_time": "2021-01-13T21:05:35.267162Z"
    }
   },
   "outputs": [],
   "source": [
    "X_train_under, y_train_under = sampler.fit_resample(X_train_final, y_train)"
   ]
  },
  {
   "cell_type": "code",
   "execution_count": null,
   "metadata": {
    "ExecuteTime": {
     "end_time": "2021-01-13T21:07:06.764104Z",
     "start_time": "2021-01-13T21:07:06.647096Z"
    }
   },
   "outputs": [],
   "source": [
    "X_train_under = pd.DataFrame(X_train_under, columns=X_train_final.columns)\n",
    "X_train_under.head()"
   ]
  },
  {
   "cell_type": "code",
   "execution_count": null,
   "metadata": {
    "ExecuteTime": {
     "end_time": "2021-01-13T21:07:08.688236Z",
     "start_time": "2021-01-13T21:07:08.681339Z"
    }
   },
   "outputs": [],
   "source": [
    "X_train_under.shape"
   ]
  },
  {
   "cell_type": "code",
   "execution_count": null,
   "metadata": {
    "ExecuteTime": {
     "end_time": "2021-01-13T21:05:37.271820Z",
     "start_time": "2021-01-13T21:05:37.267819Z"
    }
   },
   "outputs": [],
   "source": [
    "y_train_under = pd.Series(y_train_under)"
   ]
  },
  {
   "cell_type": "code",
   "execution_count": null,
   "metadata": {
    "ExecuteTime": {
     "end_time": "2021-01-13T21:06:04.341834Z",
     "start_time": "2021-01-13T21:06:04.333841Z"
    }
   },
   "outputs": [],
   "source": [
    "y_train_under.value_counts(1)"
   ]
  },
  {
   "cell_type": "code",
   "execution_count": null,
   "metadata": {
    "ExecuteTime": {
     "end_time": "2021-01-13T21:05:40.699700Z",
     "start_time": "2021-01-13T21:05:40.688806Z"
    }
   },
   "outputs": [],
   "source": [
    "y_train.value_counts(1)"
   ]
  },
  {
   "cell_type": "markdown",
   "metadata": {},
   "source": [
    "# SMOTE"
   ]
  },
  {
   "cell_type": "code",
   "execution_count": null,
   "metadata": {
    "ExecuteTime": {
     "end_time": "2021-01-12T05:16:08.121824Z",
     "start_time": "2021-01-12T05:16:08.083825Z"
    }
   },
   "outputs": [],
   "source": [
    "import six\n",
    "import sys\n",
    "sys.modules['sklearn.externals.six'] = six\n",
    "from imblearn.over_sampling import SMOTENC"
   ]
  },
  {
   "cell_type": "code",
   "execution_count": null,
   "metadata": {
    "ExecuteTime": {
     "end_time": "2021-01-12T05:28:42.959509Z",
     "start_time": "2021-01-12T05:28:42.952437Z"
    },
    "scrolled": true
   },
   "outputs": [],
   "source": [
    "full_num_cols = demo_num_cols + medcond_num_cols + others_num_cols + list(biochem_clean.columns) + list(count_clean.columns)\n",
    "full_num_cols"
   ]
  },
  {
   "cell_type": "code",
   "execution_count": null,
   "metadata": {
    "ExecuteTime": {
     "end_time": "2021-01-12T05:30:06.416701Z",
     "start_time": "2021-01-12T05:30:06.410681Z"
    }
   },
   "outputs": [],
   "source": [
    "full_cat_cols = list(X_train_final.columns)\n",
    "print('Starting lenghth of all columns:', len(full_cat_cols))\n",
    "print('Length of num_cols:', len(full_num_cols))\n",
    "for col in full_num_cols:\n",
    "    full_cat_cols.remove(col)\n",
    "print('Length of categorical columns after OHE:', len(full_cat_cols))"
   ]
  },
  {
   "cell_type": "code",
   "execution_count": null,
   "metadata": {
    "ExecuteTime": {
     "end_time": "2021-01-12T05:32:26.291439Z",
     "start_time": "2021-01-12T05:32:26.287477Z"
    }
   },
   "outputs": [],
   "source": [
    "mask = []\n",
    "for col in X_train_final.columns:\n",
    "    if col in full_cat_cols:\n",
    "        mask.append(True)\n",
    "    else:\n",
    "        mask.append(False)"
   ]
  },
  {
   "cell_type": "code",
   "execution_count": null,
   "metadata": {
    "ExecuteTime": {
     "end_time": "2021-01-12T05:32:44.166798Z",
     "start_time": "2021-01-12T05:32:44.155746Z"
    }
   },
   "outputs": [],
   "source": [
    "y_train.value_counts(1)"
   ]
  },
  {
   "cell_type": "code",
   "execution_count": null,
   "metadata": {
    "ExecuteTime": {
     "end_time": "2021-01-12T05:41:45.228919Z",
     "start_time": "2021-01-12T05:35:14.800929Z"
    }
   },
   "outputs": [],
   "source": [
    "smote = SMOTENC(categorical_features=mask, random_state=123, n_jobs=-1)\n",
    "X_train_smote, y_train_smote = smote.fit_resample(X_train_final, y_train)"
   ]
  },
  {
   "cell_type": "code",
   "execution_count": null,
   "metadata": {
    "ExecuteTime": {
     "end_time": "2021-01-12T05:41:45.238479Z",
     "start_time": "2021-01-12T05:41:45.230837Z"
    }
   },
   "outputs": [],
   "source": [
    "y_train_smote = pd.Series(y_train_smote)"
   ]
  },
  {
   "cell_type": "code",
   "execution_count": null,
   "metadata": {
    "ExecuteTime": {
     "end_time": "2021-01-12T05:41:45.250840Z",
     "start_time": "2021-01-12T05:41:45.240840Z"
    }
   },
   "outputs": [],
   "source": [
    "y_train_smote.value_counts(1)"
   ]
  },
  {
   "cell_type": "code",
   "execution_count": null,
   "metadata": {
    "ExecuteTime": {
     "end_time": "2021-01-12T05:45:16.555120Z",
     "start_time": "2021-01-12T05:45:16.456116Z"
    }
   },
   "outputs": [],
   "source": [
    "X_train_smote = pd.DataFrame(X_train_smote, columns=X_train_final.columns)\n",
    "X_train_smote.head()"
   ]
  },
  {
   "cell_type": "code",
   "execution_count": null,
   "metadata": {
    "ExecuteTime": {
     "end_time": "2021-01-12T05:45:20.534464Z",
     "start_time": "2021-01-12T05:45:20.530441Z"
    }
   },
   "outputs": [],
   "source": [
    "print(X_train_smote.shape)\n",
    "print(y_train_smote.shape)"
   ]
  },
  {
   "cell_type": "code",
   "execution_count": null,
   "metadata": {
    "ExecuteTime": {
     "end_time": "2021-01-12T05:45:58.462474Z",
     "start_time": "2021-01-12T05:45:58.457477Z"
    }
   },
   "outputs": [],
   "source": [
    "print(X_train_final.shape)\n",
    "print(y_train.shape)"
   ]
  },
  {
   "cell_type": "code",
   "execution_count": null,
   "metadata": {
    "ExecuteTime": {
     "end_time": "2021-01-12T05:45:32.840788Z",
     "start_time": "2021-01-12T05:45:23.367922Z"
    }
   },
   "outputs": [],
   "source": [
    "# X_train_smote.to_csv(r'XTrainSmote.csv')\n",
    "# y_train_smote.to_csv(r'yTrainSmote.csv')"
   ]
  },
  {
   "cell_type": "code",
   "execution_count": null,
   "metadata": {
    "ExecuteTime": {
     "end_time": "2021-01-13T21:26:45.665966Z",
     "start_time": "2021-01-13T21:25:00.478257Z"
    }
   },
   "outputs": [],
   "source": [
    "X_train_resample, y_train_resample = smote.fit_resample(X_train_under, y_train_under)"
   ]
  },
  {
   "cell_type": "code",
   "execution_count": null,
   "metadata": {
    "ExecuteTime": {
     "end_time": "2021-01-13T21:26:45.673883Z",
     "start_time": "2021-01-13T21:26:45.667883Z"
    }
   },
   "outputs": [],
   "source": [
    "y_train_resample = pd.Series(y_train_resample)"
   ]
  },
  {
   "cell_type": "code",
   "execution_count": null,
   "metadata": {
    "ExecuteTime": {
     "end_time": "2021-01-13T21:26:45.695884Z",
     "start_time": "2021-01-13T21:26:45.678884Z"
    }
   },
   "outputs": [],
   "source": [
    "y_train_resample.value_counts()"
   ]
  },
  {
   "cell_type": "code",
   "execution_count": null,
   "metadata": {
    "ExecuteTime": {
     "end_time": "2021-01-13T21:26:45.817885Z",
     "start_time": "2021-01-13T21:26:45.697883Z"
    }
   },
   "outputs": [],
   "source": [
    "X_train_resample = pd.DataFrame(X_train_resample, columns=X_train_final.columns)\n",
    "X_train_resample.head()"
   ]
  },
  {
   "cell_type": "code",
   "execution_count": null,
   "metadata": {
    "ExecuteTime": {
     "end_time": "2021-01-13T21:26:45.825884Z",
     "start_time": "2021-01-13T21:26:45.819884Z"
    }
   },
   "outputs": [],
   "source": [
    "print(X_train_resample.shape)\n",
    "print(y_train_resample.shape)"
   ]
  },
  {
   "cell_type": "markdown",
   "metadata": {},
   "source": [
    "# Model Evaluation Function"
   ]
  },
  {
   "cell_type": "code",
   "execution_count": null,
   "metadata": {
    "ExecuteTime": {
     "end_time": "2021-01-12T06:33:32.628112Z",
     "start_time": "2021-01-12T06:33:32.618120Z"
    }
   },
   "outputs": [],
   "source": [
    "def make_classification_report(model, y_true, x_test, title=''):\n",
    "    \n",
    "    '''\n",
    "    Generate and return the classification report for a model.\n",
    "    \n",
    "    Args: \n",
    "        Model (classification model): SKlearn compatable model.\n",
    "        y_true (series or array): True labels to compare predictions\n",
    "        x_test (dataframe or array): X data to generate predictions for\n",
    "        title (str): Title for the report\n",
    "        \n",
    "    Returns:\n",
    "        Dictionary of the classification results\n",
    "    \n",
    "    Example:\n",
    "        make_classification_report(logreg_model, y_test, X_test, \n",
    "                                    title='Logistic Regression Model')\n",
    "        \n",
    "        '''\n",
    "    # Generate predictions\n",
    "    y_preds = model.predict(x_test)\n",
    "    print('__________________________________________________________________')\n",
    "    print(f'CLASSIFICATION REPORT FOR: \\n\\t{title}')\n",
    "    print('__________________________________________________________________')\n",
    "    print('\\n')\n",
    "    \n",
    "    # Generate report\n",
    "    report = metrics.classification_report(y_true, y_preds, \n",
    "                                target_names=['not depressed', 'depressed'])\n",
    "    report_dict = metrics.classification_report(y_true, y_preds, \n",
    "                                                output_dict=True,\n",
    "                             target_names=['not depressed', 'depressed'])\n",
    "    \n",
    "    # Add the title to the report dictionary\n",
    "    report_dict['title'] = title\n",
    "    print(report)\n",
    "    print('__________________________________________________________________')\n",
    "    \n",
    "    return report_dict"
   ]
  },
  {
   "cell_type": "code",
   "execution_count": null,
   "metadata": {
    "ExecuteTime": {
     "end_time": "2021-01-12T06:31:30.210456Z",
     "start_time": "2021-01-12T06:31:30.205470Z"
    }
   },
   "outputs": [],
   "source": [
    "def plot_confusion_matrix(model, X, y, title=''):\n",
    "    '''\n",
    "    Plots the normalized confusion matrix for a model\n",
    "    \n",
    "    Args:\n",
    "        Model (classification model): SKlearn compatable model\n",
    "        X (dataframe or array): feature columns of a dataframe\n",
    "        y (series or array): target column of a dataframe\n",
    "        title (str): Title for the matrix\n",
    "    \n",
    "    Returns:\n",
    "        Plotted figure of the confusion matrix for the model\n",
    "    \n",
    "    Example:\n",
    "        plot_confusion_matrix(logreg_model, X_test, y_test, \n",
    "        title='Logistic Regression Model')\n",
    "    '''\n",
    "    \n",
    "    # Plot the matrix with labels    \n",
    "    fig = metrics.plot_confusion_matrix(model, X, y, normalize='true', \n",
    "                                        cmap='Greens',\n",
    "                                 display_labels=['not depressed', 'depressed']) \n",
    "\n",
    "    # Remove grid lines\n",
    "    plt.grid(False)\n",
    "    \n",
    "    # Set title\n",
    "    plt.title(f'Confusion Matrix For {title}', fontdict={'fontsize':17})\n",
    "    plt.show()\n",
    "    print('__________________________________________________________________')\n",
    "    return fig"
   ]
  },
  {
   "cell_type": "code",
   "execution_count": null,
   "metadata": {
    "ExecuteTime": {
     "end_time": "2021-01-13T04:38:56.361581Z",
     "start_time": "2021-01-13T04:38:56.356556Z"
    }
   },
   "outputs": [],
   "source": [
    "def plot_precision_recall_curve(model, xtest, ytest, title=''):\n",
    "    '''\n",
    "    Plots the ROC AUC curves for a model\n",
    "    \n",
    "    Args:\n",
    "        Model (classification model): SKlearn compatable model\n",
    "        xtest (dataframe or array): feature columns of the test set\n",
    "        ytest (series or array): target column of the test set\n",
    "        \n",
    "    Returns:\n",
    "        Plotted figure of precision recall curve for the model\n",
    "    \n",
    "    Example:\n",
    "        plot_precision_recall_curve(logreg_model, X_test, y_test)\n",
    "    '''\n",
    "    fig, ax = plt.subplots(figsize=(8,6), ncols=1)\n",
    "    roc_plot = metrics.plot_precision_recall_curve(model, xtest, ytest, ax=ax)\n",
    "    ax.set_title(f'Precision-Recall Curve For {title}', \n",
    "                 fontdict={'fontsize':17})\n",
    "    ax.legend()\n",
    "    plt.show();\n",
    "    \n",
    "    return fig\n"
   ]
  },
  {
   "cell_type": "code",
   "execution_count": null,
   "metadata": {
    "ExecuteTime": {
     "end_time": "2021-01-12T06:26:42.092389Z",
     "start_time": "2021-01-12T06:26:42.083685Z"
    }
   },
   "outputs": [],
   "source": [
    "def plot_top_features(model, xtrain, title=''):\n",
    "    '''\n",
    "    Plots the top important features of a tree based model\n",
    "    \n",
    "    Args:\n",
    "        Model (classification model): SKlearn compatable model\n",
    "        xtrain (dataframe or array): feature columns for the training set\n",
    "        title (str): Title for the plot\n",
    "        \n",
    "    Returns:\n",
    "        Plotted figure of feature importances for the model\n",
    "    \n",
    "    Example:\n",
    "        plot_top_features(rf_model, X_train, title='Random Forest Model')\n",
    "    '''\n",
    "\n",
    "    # Turn the feature importances into a series \n",
    "    importances = pd.Series(model.feature_importances_, index=xtrain.columns)\n",
    "    \n",
    "    # Plot the top most important features\n",
    "    importances.nlargest(20).sort_values().plot(kind='barh')\n",
    "    plt.title(f'Most Important Features For {title}', fontdict={'fontsize':17})\n",
    "    plt.xlabel('Importance')\n",
    "    return importances.sort_values(ascending=False)"
   ]
  },
  {
   "cell_type": "code",
   "execution_count": null,
   "metadata": {
    "ExecuteTime": {
     "end_time": "2021-01-13T04:38:17.819200Z",
     "start_time": "2021-01-13T04:38:17.814103Z"
    }
   },
   "outputs": [],
   "source": [
    "def evaluate_model(model, xtrain, xtest, ytest, tree=False, title=''):\n",
    "    '''\n",
    "    Runs all the evaluation functions on a model including the classification \n",
    "    report, confusion matrix, ROC AUC plot, and a top features plot if the \n",
    "    model is tree based.\n",
    "    \n",
    "    Args:\n",
    "        model (classification model): SKlearn compatable model\n",
    "        xtrain (dataframe or array): feature columns of the training set\n",
    "        xtest (dataframe or array): feature columns of the test set\n",
    "        ytest (series or array): target column of the test set\n",
    "        tree (boolean): if the model is tree based or not\n",
    "        title (str): Title for the model\n",
    "    \n",
    "    Returns:\n",
    "        The classification report, confusion matrix, precision recall plot, and \n",
    "        top features plot if tree=True\n",
    "    \n",
    "    Example:\n",
    "        evaluate_model(logreg_model, X_train, X_test, y_test,\n",
    "                        title='Logistic Regression Model')\n",
    "        \n",
    "    '''\n",
    "    \n",
    "    make_classification_report(model, ytest, xtest, title=title)\n",
    "    plot_confusion_matrix(model, xtest, ytest, title=title)\n",
    "    plot_precision_recall_curve(model, xtest, ytest, title=title)\n",
    "    \n",
    "    # Feature importance can only be run on tree based models\n",
    "    if tree:\n",
    "        plot_top_features(model, xtrain, title=title)"
   ]
  },
  {
   "cell_type": "markdown",
   "metadata": {},
   "source": [
    "# Dummy Model"
   ]
  },
  {
   "cell_type": "code",
   "execution_count": null,
   "metadata": {
    "ExecuteTime": {
     "end_time": "2021-01-13T04:38:31.058771Z",
     "start_time": "2021-01-13T04:38:31.045695Z"
    }
   },
   "outputs": [],
   "source": [
    "# Fitting a dummy classifier\n",
    "from sklearn.dummy import DummyClassifier\n",
    "dummy_clf = DummyClassifier(strategy='stratified', random_state=123)\n",
    "dummy_clf.fit(X_train_final, y_train)"
   ]
  },
  {
   "cell_type": "code",
   "execution_count": null,
   "metadata": {
    "ExecuteTime": {
     "end_time": "2021-01-13T04:39:01.095957Z",
     "start_time": "2021-01-13T04:39:00.725949Z"
    },
    "scrolled": false
   },
   "outputs": [],
   "source": [
    "# Evaluating the model\n",
    "evaluate_model(dummy_clf, X_train_final, X_test_final, y_test, \n",
    "               title='Dummy Model')"
   ]
  },
  {
   "cell_type": "markdown",
   "metadata": {},
   "source": [
    "# Logistic Regression"
   ]
  },
  {
   "cell_type": "markdown",
   "metadata": {},
   "source": [
    "## Base Model"
   ]
  },
  {
   "cell_type": "code",
   "execution_count": null,
   "metadata": {
    "ExecuteTime": {
     "end_time": "2021-01-13T04:19:10.933052Z",
     "start_time": "2021-01-13T04:19:10.930146Z"
    }
   },
   "outputs": [],
   "source": [
    "from sklearn.metrics import fbeta_score, make_scorer\n",
    "f2_scorer = make_scorer(fbeta_score, beta=2)"
   ]
  },
  {
   "cell_type": "code",
   "execution_count": null,
   "metadata": {
    "ExecuteTime": {
     "end_time": "2021-01-12T20:30:46.559150Z",
     "start_time": "2021-01-12T20:30:46.543249Z"
    }
   },
   "outputs": [],
   "source": [
    "# Import package\n",
    "from sklearn.linear_model import LogisticRegressionCV"
   ]
  },
  {
   "cell_type": "code",
   "execution_count": null,
   "metadata": {
    "ExecuteTime": {
     "end_time": "2021-01-13T04:22:11.859629Z",
     "start_time": "2021-01-13T04:19:23.511686Z"
    }
   },
   "outputs": [],
   "source": [
    "# Create vanilla classifier and fit it to the training data\n",
    "logreg_clf = LogisticRegressionCV(class_weight='balanced', \n",
    "                                  random_state=123, \n",
    "                                  scoring=f2_scorer, \n",
    "                                  n_jobs=-1, cv=5)\n",
    "\n",
    "# Fitting to the training data\n",
    "logreg_base = logreg_clf.fit(X_train_final, y_train)"
   ]
  },
  {
   "cell_type": "code",
   "execution_count": null,
   "metadata": {
    "ExecuteTime": {
     "end_time": "2021-01-13T04:39:19.221405Z",
     "start_time": "2021-01-13T04:39:18.808407Z"
    }
   },
   "outputs": [],
   "source": [
    "evaluate_model(logreg_base, X_train_final, X_test_final, y_test, \n",
    "               title='Logistic Regression Base Model')"
   ]
  },
  {
   "cell_type": "code",
   "execution_count": null,
   "metadata": {
    "ExecuteTime": {
     "end_time": "2021-01-13T04:29:47.638836Z",
     "start_time": "2021-01-13T04:23:44.393561Z"
    }
   },
   "outputs": [],
   "source": [
    "# Create vanilla classifier and fit it to the training data\n",
    "logreg_clf = LogisticRegressionCV(random_state=123, \n",
    "                                  scoring=f2_scorer, \n",
    "                                  n_jobs=-1, cv=5)\n",
    "\n",
    "# Fitting to the training data\n",
    "logreg_smote = logreg_clf.fit(X_train_smote, y_train_smote)"
   ]
  },
  {
   "cell_type": "code",
   "execution_count": null,
   "metadata": {
    "ExecuteTime": {
     "end_time": "2021-01-13T04:41:51.840513Z",
     "start_time": "2021-01-13T04:41:51.431632Z"
    }
   },
   "outputs": [],
   "source": [
    "evaluate_model(logreg_smote, X_train_smote, X_test_final, y_test, \n",
    "               title='Logistic Regression SMOTE Base Model')"
   ]
  },
  {
   "cell_type": "markdown",
   "metadata": {},
   "source": [
    "## Grid Search"
   ]
  },
  {
   "cell_type": "code",
   "execution_count": null,
   "metadata": {
    "ExecuteTime": {
     "end_time": "2021-01-13T04:43:41.866646Z",
     "start_time": "2021-01-13T04:43:41.861679Z"
    }
   },
   "outputs": [],
   "source": [
    "from sklearn.linear_model import LogisticRegression\n",
    "from sklearn.model_selection import GridSearchCV"
   ]
  },
  {
   "cell_type": "code",
   "execution_count": null,
   "metadata": {
    "ExecuteTime": {
     "end_time": "2021-01-13T04:43:42.495478Z",
     "start_time": "2021-01-13T04:43:42.490478Z"
    }
   },
   "outputs": [],
   "source": [
    "logreg_base.Cs_\n",
    "Cs_list = list(logreg_base.Cs_)\n",
    "Cs_list"
   ]
  },
  {
   "cell_type": "code",
   "execution_count": null,
   "metadata": {
    "ExecuteTime": {
     "end_time": "2021-01-13T05:44:04.381567Z",
     "start_time": "2021-01-13T04:43:43.509863Z"
    }
   },
   "outputs": [],
   "source": [
    "# Listing parameters to test\n",
    "logreg_params = {'solver': ['newton-cg', 'lbfgs', 'liblinear', 'sag', 'saga'], \n",
    "                 'C': Cs_list}\n",
    "\n",
    "# Creating the classifier\n",
    "logreg_clf = LogisticRegression(class_weight='balanced', \n",
    "                                random_state=123)\n",
    "\n",
    "# Feeding the parameters into the grid for testing\n",
    "grid = GridSearchCV(logreg_clf, logreg_params, scoring=f2_scorer, \n",
    "                    n_jobs=-1, cv=3)\n",
    "\n",
    "# Fitting to the training data\n",
    "logreg_grid = grid.fit(X_train_final, y_train)"
   ]
  },
  {
   "cell_type": "code",
   "execution_count": null,
   "metadata": {
    "ExecuteTime": {
     "end_time": "2021-01-13T05:44:04.392564Z",
     "start_time": "2021-01-13T05:44:04.383489Z"
    }
   },
   "outputs": [],
   "source": [
    "logreg_grid.best_params_"
   ]
  },
  {
   "cell_type": "code",
   "execution_count": null,
   "metadata": {
    "ExecuteTime": {
     "end_time": "2021-01-13T05:44:04.403569Z",
     "start_time": "2021-01-13T05:44:04.395485Z"
    }
   },
   "outputs": [],
   "source": [
    "C_drill_list = list(np.linspace(logreg_grid.best_params_['C']/5, logreg_grid.best_params_['C']*5, 10))\n",
    "C_drill_list.append(logreg_grid.best_params_['C'])\n",
    "C_drill_list"
   ]
  },
  {
   "cell_type": "code",
   "execution_count": null,
   "metadata": {
    "ExecuteTime": {
     "end_time": "2021-01-13T05:56:45.120817Z",
     "start_time": "2021-01-13T05:54:23.205526Z"
    }
   },
   "outputs": [],
   "source": [
    "# Listing parameters to test\n",
    "logreg_params = {'C': C_drill_list}\n",
    "\n",
    "# Creating the classifier\n",
    "logreg_clf = LogisticRegression(solver='newton-cg', \n",
    "                                class_weight='balanced', \n",
    "                                random_state=123)\n",
    "\n",
    "# Feeding the parameters into the grid for testing\n",
    "grid = GridSearchCV(logreg_clf, logreg_params, scoring=f2_scorer, \n",
    "                    n_jobs=-1, cv=3)\n",
    "\n",
    "# Fitting to the training data\n",
    "logreg_grid2 = grid.fit(X_train_final, y_train)"
   ]
  },
  {
   "cell_type": "code",
   "execution_count": null,
   "metadata": {
    "ExecuteTime": {
     "end_time": "2021-01-13T05:56:45.132735Z",
     "start_time": "2021-01-13T05:56:45.122733Z"
    }
   },
   "outputs": [],
   "source": [
    "# Checking the best parameters\n",
    "logreg_grid2.best_params_"
   ]
  },
  {
   "cell_type": "code",
   "execution_count": null,
   "metadata": {
    "ExecuteTime": {
     "end_time": "2021-01-13T05:56:45.142756Z",
     "start_time": "2021-01-13T05:56:45.135729Z"
    }
   },
   "outputs": [],
   "source": [
    "# The tuned model\n",
    "logreg_gridmodel = logreg_grid2.best_estimator_\n",
    "logreg_gridmodel"
   ]
  },
  {
   "cell_type": "code",
   "execution_count": null,
   "metadata": {
    "ExecuteTime": {
     "end_time": "2021-01-13T05:58:24.089281Z",
     "start_time": "2021-01-13T05:58:23.678076Z"
    }
   },
   "outputs": [],
   "source": [
    "# Evaluate the model\n",
    "evaluate_model(logreg_gridmodel, X_train_final, X_test_final, y_test, \n",
    "               title='Tuned Logistic Regression Model')"
   ]
  },
  {
   "cell_type": "markdown",
   "metadata": {},
   "source": [
    "## SMOTE Model"
   ]
  },
  {
   "cell_type": "code",
   "execution_count": null,
   "metadata": {
    "ExecuteTime": {
     "end_time": "2021-01-13T05:59:06.962508Z",
     "start_time": "2021-01-13T05:59:06.956514Z"
    }
   },
   "outputs": [],
   "source": [
    "logreg_gridmodel"
   ]
  },
  {
   "cell_type": "code",
   "execution_count": null,
   "metadata": {
    "ExecuteTime": {
     "end_time": "2021-01-13T06:01:32.345799Z",
     "start_time": "2021-01-13T06:00:15.293618Z"
    }
   },
   "outputs": [],
   "source": [
    "# Creating a variable for the best C\n",
    "best_c = logreg_grid2.best_params_['C']\n",
    "\n",
    "# Creating the classifier\n",
    "logreg_clf = LogisticRegressionCV(solver='newton-cg', \n",
    "                                  random_state=123, n_jobs=-1, cv=5,\n",
    "                                  scoring=f2_scorer, \n",
    "                                  Cs=[best_c])\n",
    "\n",
    "# Fitting to the training data\n",
    "logreg_smote2 = logreg_clf.fit(X_train_smote, y_train_smote)"
   ]
  },
  {
   "cell_type": "code",
   "execution_count": null,
   "metadata": {
    "ExecuteTime": {
     "end_time": "2021-01-13T06:01:32.975801Z",
     "start_time": "2021-01-13T06:01:32.347799Z"
    }
   },
   "outputs": [],
   "source": [
    "evaluate_model(logreg_smote2, X_train_smote, X_test_final, y_test, \n",
    "               title='Tuned Logistic Regression SMOTE Model')"
   ]
  },
  {
   "cell_type": "markdown",
   "metadata": {},
   "source": [
    "# Random Forest"
   ]
  },
  {
   "cell_type": "markdown",
   "metadata": {},
   "source": [
    "## Base Model"
   ]
  },
  {
   "cell_type": "code",
   "execution_count": null,
   "metadata": {
    "ExecuteTime": {
     "end_time": "2021-01-13T06:04:00.297194Z",
     "start_time": "2021-01-13T06:04:00.294189Z"
    }
   },
   "outputs": [],
   "source": [
    "from sklearn.ensemble import RandomForestClassifier"
   ]
  },
  {
   "cell_type": "code",
   "execution_count": null,
   "metadata": {
    "ExecuteTime": {
     "end_time": "2021-01-13T06:04:03.364608Z",
     "start_time": "2021-01-13T06:04:01.016604Z"
    }
   },
   "outputs": [],
   "source": [
    "# Creating the classifier\n",
    "forest_clf = RandomForestClassifier(n_jobs=-1, random_state=123, \n",
    "                                     class_weight='balanced')\n",
    "\n",
    "# Fitting to the training data\n",
    "forest_base = forest_clf.fit(X_train_final, y_train)"
   ]
  },
  {
   "cell_type": "code",
   "execution_count": null,
   "metadata": {
    "ExecuteTime": {
     "end_time": "2021-01-13T06:04:20.369032Z",
     "start_time": "2021-01-13T06:04:19.352139Z"
    }
   },
   "outputs": [],
   "source": [
    "# Evaluate the model\n",
    "evaluate_model(forest_base, X_train_final, X_test_final, y_test, \n",
    "               tree=True, title='Base Random Forest')"
   ]
  },
  {
   "cell_type": "code",
   "execution_count": null,
   "metadata": {
    "ExecuteTime": {
     "end_time": "2021-01-13T06:08:12.973119Z",
     "start_time": "2021-01-13T06:08:06.570643Z"
    }
   },
   "outputs": [],
   "source": [
    "# Creating the classifier\n",
    "forest_clf = RandomForestClassifier(n_jobs=-1, random_state=123)\n",
    "\n",
    "# Fitting to the training data\n",
    "forest_smote = forest_clf.fit(X_train_smote, y_train_smote)"
   ]
  },
  {
   "cell_type": "code",
   "execution_count": null,
   "metadata": {
    "ExecuteTime": {
     "end_time": "2021-01-13T06:08:13.911481Z",
     "start_time": "2021-01-13T06:08:12.976118Z"
    }
   },
   "outputs": [],
   "source": [
    "evaluate_model(forest_smote, X_train_smote, X_test_final, y_test, \n",
    "               title='Base Random Forest SMOTE Model')"
   ]
  },
  {
   "cell_type": "code",
   "execution_count": null,
   "metadata": {
    "ExecuteTime": {
     "end_time": "2021-01-13T21:30:20.196090Z",
     "start_time": "2021-01-13T21:30:19.178814Z"
    }
   },
   "outputs": [],
   "source": [
    "# Creating the classifier\n",
    "forest_clf = RandomForestClassifier(n_jobs=-1, random_state=123, \n",
    "                                     class_weight='balanced')\n",
    "\n",
    "# Fitting to the training data\n",
    "forest_under = forest_clf.fit(X_train_under, y_train_under)"
   ]
  },
  {
   "cell_type": "code",
   "execution_count": null,
   "metadata": {
    "ExecuteTime": {
     "end_time": "2021-01-13T21:30:21.285665Z",
     "start_time": "2021-01-13T21:30:20.258064Z"
    }
   },
   "outputs": [],
   "source": [
    "# Evaluate the model\n",
    "evaluate_model(forest_under, X_train_under, X_test_final, y_test, \n",
    "               tree=True, title='Undersampled Random Forest')"
   ]
  },
  {
   "cell_type": "code",
   "execution_count": null,
   "metadata": {
    "ExecuteTime": {
     "end_time": "2021-01-13T21:30:50.507690Z",
     "start_time": "2021-01-13T21:30:48.300905Z"
    }
   },
   "outputs": [],
   "source": [
    "# Creating the classifier\n",
    "forest_clf = RandomForestClassifier(n_jobs=-1, random_state=123)\n",
    "\n",
    "# Fitting to the training data\n",
    "forest_resampled = forest_clf.fit(X_train_resample, y_train_resample)"
   ]
  },
  {
   "cell_type": "code",
   "execution_count": null,
   "metadata": {
    "ExecuteTime": {
     "end_time": "2021-01-13T21:30:51.525672Z",
     "start_time": "2021-01-13T21:30:50.511704Z"
    }
   },
   "outputs": [],
   "source": [
    "evaluate_model(forest_resampled, X_train_resample, X_test_final, y_test, \n",
    "               title='Random Forest Resampled Model')"
   ]
  },
  {
   "cell_type": "code",
   "execution_count": null,
   "metadata": {},
   "outputs": [],
   "source": []
  },
  {
   "cell_type": "code",
   "execution_count": null,
   "metadata": {},
   "outputs": [],
   "source": []
  },
  {
   "cell_type": "markdown",
   "metadata": {},
   "source": [
    "## Grid Search"
   ]
  },
  {
   "cell_type": "code",
   "execution_count": null,
   "metadata": {
    "ExecuteTime": {
     "end_time": "2021-01-13T08:35:40.058549Z",
     "start_time": "2021-01-13T06:30:48.512589Z"
    }
   },
   "outputs": [],
   "source": [
    "# Listing parameters to test\n",
    "forest_params = {'criterion': ['gini', 'entropy'], \n",
    "                 'max_depth': [None, 5, 10, 20, 50], \n",
    "                 'min_samples_leaf': [1, 10, 20], \n",
    "                 'max_features': ['auto', None], \n",
    "                 'class_weight': ['balanced', 'balanced_subsample'], \n",
    "                 'max_samples': [None, .5, .7, .9]}\n",
    "\n",
    "# Creating the classifier\n",
    "forest_clf = RandomForestClassifier(random_state=123)\n",
    "\n",
    "# Feeding the parameters into the grid for testing\n",
    "grid = GridSearchCV(forest_clf, forest_params, scoring=f2_scorer, \n",
    "                    n_jobs=-1, cv=3)\n",
    "\n",
    "# Fitting to the training data\n",
    "forest_grid = grid.fit(X_train_final, y_train)"
   ]
  },
  {
   "cell_type": "code",
   "execution_count": null,
   "metadata": {
    "ExecuteTime": {
     "end_time": "2021-01-13T08:35:40.066511Z",
     "start_time": "2021-01-13T08:35:40.060512Z"
    }
   },
   "outputs": [],
   "source": [
    "# Checking the best parameters\n",
    "forest_grid.best_params_"
   ]
  },
  {
   "cell_type": "code",
   "execution_count": null,
   "metadata": {
    "ExecuteTime": {
     "end_time": "2021-01-13T10:39:33.173093Z",
     "start_time": "2021-01-13T10:37:51.212049Z"
    }
   },
   "outputs": [],
   "source": [
    "# Listing parameters to test\n",
    "forest_params = {'max_depth': [3, 5, 7], \n",
    "                 'min_samples_leaf': [5, 10, 15], \n",
    "                 'max_samples': [.8, .85, .9, .95]}\n",
    "\n",
    "# Creating the classifier\n",
    "forest_clf = RandomForestClassifier(random_state=123, \n",
    "                                    criterion='gini', \n",
    "                                    class_weight='balanced', \n",
    "                                    max_features='auto')\n",
    "\n",
    "# Feeding the parameters into the grid for testing\n",
    "grid = GridSearchCV(forest_clf, forest_params, scoring=f2_scorer, \n",
    "                    n_jobs=-1, cv=3)\n",
    "\n",
    "# Fitting to the training data\n",
    "forest_grid2 = grid.fit(X_train_final, y_train)"
   ]
  },
  {
   "cell_type": "code",
   "execution_count": null,
   "metadata": {
    "ExecuteTime": {
     "end_time": "2021-01-13T10:39:33.183995Z",
     "start_time": "2021-01-13T10:39:33.174998Z"
    }
   },
   "outputs": [],
   "source": [
    "# Checking the best parameters\n",
    "forest_grid2.best_params_"
   ]
  },
  {
   "cell_type": "code",
   "execution_count": null,
   "metadata": {
    "ExecuteTime": {
     "end_time": "2021-01-13T10:39:33.198995Z",
     "start_time": "2021-01-13T10:39:33.186001Z"
    }
   },
   "outputs": [],
   "source": [
    "# The tuned model\n",
    "forest_gridmodel = forest_grid2.best_estimator_\n",
    "forest_gridmodel"
   ]
  },
  {
   "cell_type": "code",
   "execution_count": null,
   "metadata": {
    "ExecuteTime": {
     "end_time": "2021-01-13T10:39:34.492214Z",
     "start_time": "2021-01-13T10:39:33.200998Z"
    }
   },
   "outputs": [],
   "source": [
    "# Evaluate the model\n",
    "evaluate_model(forest_gridmodel, X_train_final, X_test_final, y_test, \n",
    "               tree=True, title='Random Forest Tuned Model')"
   ]
  },
  {
   "cell_type": "code",
   "execution_count": null,
   "metadata": {
    "ExecuteTime": {
     "end_time": "2021-01-13T21:32:09.668605Z",
     "start_time": "2021-01-13T21:32:09.663573Z"
    }
   },
   "outputs": [],
   "source": [
    "forest_gridmodel"
   ]
  },
  {
   "cell_type": "code",
   "execution_count": null,
   "metadata": {
    "ExecuteTime": {
     "end_time": "2021-01-13T21:36:42.356950Z",
     "start_time": "2021-01-13T21:36:36.363104Z"
    }
   },
   "outputs": [],
   "source": [
    "forest_clf = RandomForestClassifier(class_weight='balanced_subsample', max_depth=5, max_samples=0.95,\n",
    "                       min_samples_leaf=5, random_state=123)\n",
    "# Fitting to the training data\n",
    "forest_resampled2 = forest_clf.fit(X_train_smote, y_train_smote)"
   ]
  },
  {
   "cell_type": "code",
   "execution_count": null,
   "metadata": {
    "ExecuteTime": {
     "end_time": "2021-01-13T21:36:43.238271Z",
     "start_time": "2021-01-13T21:36:42.358896Z"
    }
   },
   "outputs": [],
   "source": [
    "# Evaluate the model\n",
    "evaluate_model(forest_resampled2, X_train_smote, X_test_final, y_test, \n",
    "               tree=True, title='Random Forest Resampled Tuned Model')"
   ]
  },
  {
   "cell_type": "markdown",
   "metadata": {},
   "source": [
    "# Extra Trees"
   ]
  },
  {
   "cell_type": "code",
   "execution_count": null,
   "metadata": {
    "ExecuteTime": {
     "end_time": "2021-01-13T06:10:48.184217Z",
     "start_time": "2021-01-13T06:10:48.181218Z"
    }
   },
   "outputs": [],
   "source": [
    "# Import package\n",
    "from sklearn.ensemble import ExtraTreesClassifier"
   ]
  },
  {
   "cell_type": "code",
   "execution_count": null,
   "metadata": {
    "ExecuteTime": {
     "end_time": "2021-01-13T06:12:09.875383Z",
     "start_time": "2021-01-13T06:12:07.173382Z"
    }
   },
   "outputs": [],
   "source": [
    "# Creating the classifier\n",
    "extratrees_clf = ExtraTreesClassifier(n_jobs=-1, random_state=123, \n",
    "                                      class_weight='balanced')\n",
    "\n",
    "# Fitting to the training data\n",
    "extratrees_base = extratrees_clf.fit(X_train_final, y_train)"
   ]
  },
  {
   "cell_type": "code",
   "execution_count": null,
   "metadata": {
    "ExecuteTime": {
     "end_time": "2021-01-13T06:12:10.993149Z",
     "start_time": "2021-01-13T06:12:09.878414Z"
    }
   },
   "outputs": [],
   "source": [
    "# Evaluate the model\n",
    "evaluate_model(extratrees_base, X_train_final, X_test_final, y_test, \n",
    "               tree=True, title='Extra Trees Base Model')"
   ]
  },
  {
   "cell_type": "code",
   "execution_count": null,
   "metadata": {
    "ExecuteTime": {
     "end_time": "2021-01-13T06:15:24.068051Z",
     "start_time": "2021-01-13T06:15:18.196204Z"
    }
   },
   "outputs": [],
   "source": [
    "# Creating the classifier\n",
    "extratrees_clf = ExtraTreesClassifier(n_jobs=-1, random_state=123)\n",
    "\n",
    "# Fitting to the training data\n",
    "extratrees_smote = extratrees_clf.fit(X_train_smote, y_train_smote)"
   ]
  },
  {
   "cell_type": "code",
   "execution_count": null,
   "metadata": {
    "ExecuteTime": {
     "end_time": "2021-01-13T06:15:57.436046Z",
     "start_time": "2021-01-13T06:15:56.370046Z"
    }
   },
   "outputs": [],
   "source": [
    "# Evaluate the model\n",
    "evaluate_model(extratrees_smote, X_train_smote, X_test_final, y_test, \n",
    "               tree=True, title='Extra Trees SMOTE Base Model')"
   ]
  },
  {
   "cell_type": "markdown",
   "metadata": {},
   "source": [
    "## Grid Search"
   ]
  },
  {
   "cell_type": "code",
   "execution_count": null,
   "metadata": {
    "ExecuteTime": {
     "end_time": "2021-01-13T10:20:16.366429Z",
     "start_time": "2021-01-13T08:35:40.068511Z"
    }
   },
   "outputs": [],
   "source": [
    "# Listing parameters to test\n",
    "trees_params = {'criterion': ['gini', 'entropy'], \n",
    "                'max_depth': [None, 10, 50], \n",
    "                'min_samples_leaf': [1, 5], \n",
    "                'max_features': ['auto', None], \n",
    "                'bootstrap': [True, False], \n",
    "                'class_weight': ['balanced', 'balanced_subsample'], \n",
    "                'max_samples': [.5, .7, .9]}\n",
    "\n",
    "# Creating the classifier\n",
    "extratrees_clf = ExtraTreesClassifier(random_state=123)\n",
    "\n",
    "# Feeding the parameters into the grid for testing\n",
    "grid = GridSearchCV(extratrees_clf, trees_params, scoring=f2_scorer, \n",
    "                    n_jobs=-1, cv=3)\n",
    "\n",
    "# Fitting to the training data\n",
    "extratrees_grid = grid.fit(X_train_final, y_train)"
   ]
  },
  {
   "cell_type": "code",
   "execution_count": null,
   "metadata": {
    "ExecuteTime": {
     "end_time": "2021-01-13T10:20:16.374386Z",
     "start_time": "2021-01-13T10:20:16.368382Z"
    }
   },
   "outputs": [],
   "source": [
    "# Checking the best parameters\n",
    "extratrees_grid.best_params_"
   ]
  },
  {
   "cell_type": "code",
   "execution_count": null,
   "metadata": {
    "ExecuteTime": {
     "end_time": "2021-01-13T18:15:33.724712Z",
     "start_time": "2021-01-13T18:11:46.234649Z"
    }
   },
   "outputs": [],
   "source": [
    "# Listing parameters to test\n",
    "trees_params ={'max_depth': [5, 10, 15], \n",
    "               'max_samples': [.3, .4, .5, .6], \n",
    "               'min_samples_leaf': [3, 5, 7, 10]}\n",
    "\n",
    "# Creating the classifier\n",
    "extratrees_clf = ExtraTreesClassifier(random_state=123, \n",
    "                                      criterion='gini', \n",
    "                                      bootstrap=False, \n",
    "                                      class_weight='balanced', \n",
    "                                      max_features='auto')\n",
    "\n",
    "# Feeding the parameters into the grid for testing\n",
    "grid = GridSearchCV(extratrees_clf, trees_params, scoring=f2_scorer, \n",
    "                    n_jobs=-1, cv=3)\n",
    "\n",
    "# Fitting to the training data\n",
    "extratrees_grid2 = grid.fit(X_train_final, y_train)"
   ]
  },
  {
   "cell_type": "code",
   "execution_count": null,
   "metadata": {
    "ExecuteTime": {
     "end_time": "2021-01-13T18:15:33.733631Z",
     "start_time": "2021-01-13T18:15:33.727634Z"
    }
   },
   "outputs": [],
   "source": [
    "# Checking the best parameters\n",
    "extratrees_grid2.best_params_"
   ]
  },
  {
   "cell_type": "code",
   "execution_count": null,
   "metadata": {
    "ExecuteTime": {
     "end_time": "2021-01-13T18:15:33.746627Z",
     "start_time": "2021-01-13T18:15:33.737627Z"
    }
   },
   "outputs": [],
   "source": [
    "# The tuned model\n",
    "extratrees_gridmodel = extratrees_grid2.best_estimator_\n",
    "extratrees_gridmodel"
   ]
  },
  {
   "cell_type": "code",
   "execution_count": null,
   "metadata": {
    "ExecuteTime": {
     "end_time": "2021-01-13T18:15:35.535803Z",
     "start_time": "2021-01-13T18:15:33.750638Z"
    }
   },
   "outputs": [],
   "source": [
    "# Evaluate the model\n",
    "evaluate_model(extratrees_gridmodel, X_train_final, X_test_final, y_test, \n",
    "               tree=True, title='Extra Trees Tuned Model')"
   ]
  },
  {
   "cell_type": "markdown",
   "metadata": {},
   "source": [
    "# XGBoost"
   ]
  },
  {
   "cell_type": "markdown",
   "metadata": {},
   "source": [
    "## Base Model"
   ]
  },
  {
   "cell_type": "code",
   "execution_count": null,
   "metadata": {
    "ExecuteTime": {
     "end_time": "2021-01-13T06:21:11.987209Z",
     "start_time": "2021-01-13T06:21:11.913093Z"
    }
   },
   "outputs": [],
   "source": [
    "# Import package\n",
    "from xgboost import XGBClassifier"
   ]
  },
  {
   "cell_type": "code",
   "execution_count": null,
   "metadata": {
    "ExecuteTime": {
     "end_time": "2021-01-13T06:21:12.727142Z",
     "start_time": "2021-01-13T06:21:12.594104Z"
    }
   },
   "outputs": [],
   "source": [
    "# Calculate class weight and turn into a dictionary\n",
    "from sklearn.utils import class_weight\n",
    "k_train = class_weight.compute_class_weight('balanced', np.unique(y_train), y_train)\n",
    "wt = dict(zip(np.unique(y_train), k_train))\n",
    "\n",
    "# Map class weights to y_train values\n",
    "w_array = y_train.map(wt)\n",
    "set(zip(y_train,w_array))\n",
    "w_array = w_array.values"
   ]
  },
  {
   "cell_type": "code",
   "execution_count": null,
   "metadata": {
    "ExecuteTime": {
     "end_time": "2021-01-13T06:25:05.062963Z",
     "start_time": "2021-01-13T06:25:00.963738Z"
    }
   },
   "outputs": [],
   "source": [
    "# Create evaluation set\n",
    "eval_set = [(X_train_final, y_train), (X_test_final, y_test)]\n",
    "\n",
    "# Creating the classifier\n",
    "xgb_clf = XGBClassifier(n_jobs=-1, random_state=123)\n",
    "\n",
    "# Fitting to the training data\n",
    "xgb_base = xgb_clf.fit(X_train_final, y_train, sample_weight=w_array, \n",
    "                       early_stopping_rounds=10, eval_metric='logloss', \n",
    "                       eval_set=eval_set)"
   ]
  },
  {
   "cell_type": "code",
   "execution_count": null,
   "metadata": {
    "ExecuteTime": {
     "end_time": "2021-01-13T06:25:53.217988Z",
     "start_time": "2021-01-13T06:25:52.447298Z"
    }
   },
   "outputs": [],
   "source": [
    "# Evaluate the model\n",
    "evaluate_model(xgb_base, X_train_final, X_test_final, y_test, \n",
    "               tree=True, title='XGBoost Base Model')"
   ]
  },
  {
   "cell_type": "code",
   "execution_count": null,
   "metadata": {
    "ExecuteTime": {
     "end_time": "2021-01-13T06:27:35.075199Z",
     "start_time": "2021-01-13T06:27:26.776373Z"
    }
   },
   "outputs": [],
   "source": [
    "# Create evaluation set\n",
    "eval_set = [(X_train_smote, y_train_smote), (X_test_final, y_test)]\n",
    "\n",
    "# Creating the classifier\n",
    "xgb_clf = XGBClassifier(n_jobs=-1, random_state=123)\n",
    "\n",
    "# Fitting to the training data\n",
    "xgb_smote = xgb_clf.fit(X_train_smote, y_train_smote,  \n",
    "                       early_stopping_rounds=10, eval_metric='logloss', \n",
    "                       eval_set=eval_set)"
   ]
  },
  {
   "cell_type": "code",
   "execution_count": null,
   "metadata": {
    "ExecuteTime": {
     "end_time": "2021-01-13T06:28:00.578885Z",
     "start_time": "2021-01-13T06:27:59.780040Z"
    }
   },
   "outputs": [],
   "source": [
    "# Evaluate the model\n",
    "evaluate_model(xgb_smote, X_train_smote, X_test_final, y_test, \n",
    "               tree=True, title='XGBoost SMOTE Base Model')"
   ]
  },
  {
   "cell_type": "markdown",
   "metadata": {},
   "source": [
    "## Grid Search"
   ]
  },
  {
   "cell_type": "code",
   "execution_count": null,
   "metadata": {
    "ExecuteTime": {
     "end_time": "2021-01-13T10:37:51.191067Z",
     "start_time": "2021-01-13T10:20:16.376382Z"
    }
   },
   "outputs": [],
   "source": [
    "# Listing parameters to test\n",
    "xgb_params = {'max_depth': [None, 3, 10], \n",
    "              'learning_rate': [.1, .05], \n",
    "              'min_child_weight': [1, 5, 10], \n",
    "              'subsample': [.3, .5, .7]}\n",
    "\n",
    "# Creating the classifier\n",
    "xgb_clf = XGBClassifier(n_jobs=-1, random_state=123)\n",
    "\n",
    "# Feeding the parameters into the grid for testing\n",
    "grid = GridSearchCV(xgb_clf, xgb_params, scoring=f2_scorer, \n",
    "                    n_jobs=-1, cv=3)\n",
    "\n",
    "# Fitting to the training data\n",
    "xgb_grid = grid.fit(X_train_final, y_train)"
   ]
  },
  {
   "cell_type": "code",
   "execution_count": null,
   "metadata": {
    "ExecuteTime": {
     "end_time": "2021-01-13T10:37:51.208051Z",
     "start_time": "2021-01-13T10:37:51.195065Z"
    }
   },
   "outputs": [],
   "source": [
    "# Checking the best parameters\n",
    "xgb_grid.best_params_"
   ]
  },
  {
   "cell_type": "code",
   "execution_count": null,
   "metadata": {},
   "outputs": [],
   "source": []
  },
  {
   "cell_type": "code",
   "execution_count": null,
   "metadata": {},
   "outputs": [],
   "source": []
  },
  {
   "cell_type": "code",
   "execution_count": null,
   "metadata": {},
   "outputs": [],
   "source": []
  },
  {
   "cell_type": "markdown",
   "metadata": {},
   "source": [
    "# References"
   ]
  },
  {
   "cell_type": "markdown",
   "metadata": {},
   "source": [
    "- The PHQ-9: validity of a brief depression severity measure https://pubmed.ncbi.nlm.nih.gov/11556941/\n",
    "\n",
    "- Major Depression https://www.nimh.nih.gov/health/statistics/major-depression.shtml"
   ]
  },
  {
   "cell_type": "code",
   "execution_count": null,
   "metadata": {},
   "outputs": [],
   "source": []
  }
 ],
 "metadata": {
  "kernelspec": {
   "display_name": "learn-env",
   "language": "python",
   "name": "learn-env"
  },
  "language_info": {
   "codemirror_mode": {
    "name": "ipython",
    "version": 3
   },
   "file_extension": ".py",
   "mimetype": "text/x-python",
   "name": "python",
   "nbconvert_exporter": "python",
   "pygments_lexer": "ipython3",
   "version": "3.6.11"
  },
  "toc": {
   "base_numbering": 1,
   "nav_menu": {},
   "number_sections": true,
   "sideBar": true,
   "skip_h1_title": false,
   "title_cell": "Table of Contents",
   "title_sidebar": "Contents",
   "toc_cell": false,
   "toc_position": {
    "height": "calc(100% - 180px)",
    "left": "10px",
    "top": "150px",
    "width": "384px"
   },
   "toc_section_display": true,
   "toc_window_display": true
  }
 },
 "nbformat": 4,
 "nbformat_minor": 4
}
